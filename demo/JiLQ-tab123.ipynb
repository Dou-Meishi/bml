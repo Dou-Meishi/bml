{
 "cells": [
  {
   "cell_type": "code",
   "execution_count": 1,
   "id": "e67d66eb",
   "metadata": {
    "execution": {
     "iopub.execute_input": "2023-03-08T07:29:50.807153Z",
     "iopub.status.busy": "2023-03-08T07:29:50.806898Z",
     "iopub.status.idle": "2023-03-08T07:29:52.665886Z",
     "shell.execute_reply": "2023-03-08T07:29:52.665298Z"
    }
   },
   "outputs": [],
   "source": [
    "import math\n",
    "\n",
    "import numpy as np\n",
    "import matplotlib.pyplot as plt\n",
    "import pandas as pd\n",
    "import torch\n",
    "import tqdm\n",
    "import seaborn as sns"
   ]
  },
  {
   "cell_type": "code",
   "execution_count": 2,
   "id": "8dc73864",
   "metadata": {
    "execution": {
     "iopub.execute_input": "2023-03-08T07:29:52.668321Z",
     "iopub.status.busy": "2023-03-08T07:29:52.668080Z",
     "iopub.status.idle": "2023-03-08T07:29:52.670772Z",
     "shell.execute_reply": "2023-03-08T07:29:52.670304Z"
    }
   },
   "outputs": [],
   "source": [
    "TENSORDTYPE = torch.float64\n",
    "DEVICE = 'cpu'\n",
    "LOGROOTDIR = './Plot-Figure1-v1'"
   ]
  },
  {
   "cell_type": "markdown",
   "id": "47028722",
   "metadata": {},
   "source": [
    "All problem-specific functions accpet tensor arguments.\n",
    "\n",
    "Take $f(t,x,a)$ as an example. We assume its inputs $t, x$ and $a$ are tensors with at least 1 dimension. All dimensions except the last are regarded as batch dimensions and are equivalent in function bodies. The outputs follow this rule too. This means even the time input $t$ and the value $f(t,x,a)$ are both scalar in their definition, we force them to be tensors in shape (1,) too.\n",
    "\n",
    "We also adopt the sequence-first convention, which is standard in seq2seq training. Most Tensors have shape (T, M, D), where\n",
    "\n",
    "- T : time axis\n",
    "- M : batch axis\n",
    "- D : original dim of this quantity"
   ]
  },
  {
   "cell_type": "markdown",
   "id": "ce91dd24",
   "metadata": {},
   "source": [
    "# Helper Function"
   ]
  },
  {
   "cell_type": "code",
   "execution_count": 3,
   "id": "d7307f59",
   "metadata": {
    "execution": {
     "iopub.execute_input": "2023-03-08T07:29:52.672960Z",
     "iopub.status.busy": "2023-03-08T07:29:52.672794Z",
     "iopub.status.idle": "2023-03-08T07:29:52.675790Z",
     "shell.execute_reply": "2023-03-08T07:29:52.675321Z"
    }
   },
   "outputs": [],
   "source": [
    "def re_cumsum(t, dim):\n",
    "    r'''torch.cumsum in reverse direction'''\n",
    "    return t + torch.sum(t, dim, keepdim=True) - torch.cumsum(t, dim)"
   ]
  },
  {
   "cell_type": "code",
   "execution_count": 4,
   "id": "6d416c91",
   "metadata": {
    "execution": {
     "iopub.execute_input": "2023-03-08T07:29:52.677683Z",
     "iopub.status.busy": "2023-03-08T07:29:52.677336Z",
     "iopub.status.idle": "2023-03-08T07:29:52.680038Z",
     "shell.execute_reply": "2023-03-08T07:29:52.679652Z"
    }
   },
   "outputs": [],
   "source": [
    "def format_uncertainty(value, error):\n",
    "    digits = -int(math.floor(math.log10(error)))\n",
    "    return \"{0:.{2}f}({1:.0f})\".format(value, error*10**digits, digits)"
   ]
  },
  {
   "cell_type": "markdown",
   "id": "f23ccb3b",
   "metadata": {},
   "source": [
    "# Problem"
   ]
  },
  {
   "cell_type": "markdown",
   "id": "59c36947",
   "metadata": {},
   "source": [
    "Solve the fully coupled FBSDE\n",
    "  \\begin{equation*}\n",
    "  \\left\\{\n",
    "  \\begin{aligned}\n",
    "    X_t &= x_0 + \\int_0^tb(s,X_s,Y_s,Z_s)\\,ds + \\int_0^t\\sigma(s,X_s,Y_s,Z_s)\\,dW_s,\\\\\n",
    "    Y_t &= g(X_T) + \\int_t^Tf(s,X_s,Y_s,Z_s)\\,ds - \\int_t^TZ_s\\,dW_s.\n",
    "  \\end{aligned}\n",
    "  \\right.\n",
    "  \\end{equation*}\n",
    "  Here, $X, Y, Z$ value in $\\mathbb{R}^n, \\mathbb{R}^m,\\mathbb{R}^{m\\times d}$."
   ]
  },
  {
   "cell_type": "markdown",
   "id": "c031d850",
   "metadata": {},
   "source": [
    "# FBSDE"
   ]
  },
  {
   "cell_type": "code",
   "execution_count": 5,
   "id": "b4f939cc",
   "metadata": {
    "execution": {
     "iopub.execute_input": "2023-03-08T07:29:52.681915Z",
     "iopub.status.busy": "2023-03-08T07:29:52.681756Z",
     "iopub.status.idle": "2023-03-08T07:29:52.685923Z",
     "shell.execute_reply": "2023-03-08T07:29:52.685525Z"
    }
   },
   "outputs": [],
   "source": [
    "class FBSDE_JiLQ5(object):\n",
    "    \n",
    "    def __init__(self, n=5):\n",
    "        self.H = 25\n",
    "        self.dt = 0.004\n",
    "        self.n = n\n",
    "        self.m = self.n\n",
    "        self.d = 1\n",
    "        \n",
    "        self.x0 = 1. * torch.ones(self.n).to(device=DEVICE, dtype=TENSORDTYPE)\n",
    "        \n",
    "    def b(self, t, x, y, z):\n",
    "        return -.25*x + .5*y + .5*z.squeeze(-1)\n",
    "    \n",
    "    def sigma(self, t, x, y, z):\n",
    "        return (.2*x + .5*y + .5*z.squeeze(-1)).unsqueeze(-1)\n",
    "    \n",
    "    def f(self, t, x, y, z):\n",
    "        return -.5*x - .25*y + .2*z.squeeze(-1)\n",
    "    \n",
    "    def g(self, x):\n",
    "        return -x"
   ]
  },
  {
   "cell_type": "code",
   "execution_count": 6,
   "id": "97b758e7",
   "metadata": {
    "execution": {
     "iopub.execute_input": "2023-03-08T07:29:52.687628Z",
     "iopub.status.busy": "2023-03-08T07:29:52.687473Z",
     "iopub.status.idle": "2023-03-08T07:29:52.691492Z",
     "shell.execute_reply": "2023-03-08T07:29:52.691098Z"
    }
   },
   "outputs": [],
   "source": [
    "class FBSDE_JiLQ5_var(object):\n",
    "    \n",
    "    def __init__(self, n=5):\n",
    "        self.H = 25\n",
    "        self.dt = 0.004\n",
    "        self.n = n\n",
    "        self.m = self.n\n",
    "        self.d = 1\n",
    "        \n",
    "        self.x0 = 1. * torch.ones(self.n).to(device=DEVICE, dtype=TENSORDTYPE)\n",
    "        \n",
    "    def b(self, t, x, y, z):\n",
    "        return -.25*x + .5*y + .5*z.squeeze(-1)\n",
    "    \n",
    "    def sigma(self, t, x, y, z):\n",
    "        return (.2*x + .5*y + .5*z.squeeze(-1)).unsqueeze(-1)\n",
    "    \n",
    "    def f(self, t, x, y, z):\n",
    "        return -.5*x - .25*y + .2*z.squeeze(-1)\n",
    "    \n",
    "    def g(self, x):\n",
    "        return -torch.ones_like(x)*x.sum(dim=-1, keepdim=True)"
   ]
  },
  {
   "cell_type": "markdown",
   "id": "f848331b",
   "metadata": {},
   "source": [
    "# Network"
   ]
  },
  {
   "cell_type": "code",
   "execution_count": 7,
   "id": "61758435",
   "metadata": {
    "execution": {
     "iopub.execute_input": "2023-03-08T07:29:52.693238Z",
     "iopub.status.busy": "2023-03-08T07:29:52.693080Z",
     "iopub.status.idle": "2023-03-08T07:29:52.697976Z",
     "shell.execute_reply": "2023-03-08T07:29:52.697579Z"
    }
   },
   "outputs": [],
   "source": [
    "class YNet_FC2L(torch.nn.Module):\n",
    "    \n",
    "    def __init__(self, n, m, *, hidden_size):\n",
    "        super().__init__()\n",
    "        \n",
    "        self.fcnet = torch.nn.Sequential(\n",
    "            torch.nn.Linear(1+n, hidden_size, bias=True),\n",
    "            torch.nn.ReLU(),\n",
    "            torch.nn.Linear(hidden_size, m, bias=True)\n",
    "        )\n",
    "        \n",
    "        self.to(dtype=TENSORDTYPE, device=DEVICE)\n",
    "        \n",
    "    def forward(self, t, x):\n",
    "        z = torch.cat([t, x], dim=-1)\n",
    "        return self.fcnet(z)\n",
    "    \n",
    "    \n",
    "class ZNet_FC2L(torch.nn.Module):\n",
    "    \n",
    "    def __init__(self, n, m, d, *, hidden_size):\n",
    "        super().__init__()\n",
    "        self.m = m\n",
    "        self.d = d\n",
    "        \n",
    "        self.fcnet = torch.nn.Sequential(\n",
    "            torch.nn.Linear(1+n, hidden_size, bias=True),\n",
    "            torch.nn.ReLU(),\n",
    "            torch.nn.Linear(hidden_size, m*d, bias=True)\n",
    "        )\n",
    "        \n",
    "        self.to(dtype=TENSORDTYPE, device=DEVICE)\n",
    "        \n",
    "    def forward(self, t, x):\n",
    "        z = torch.cat([t, x], dim=-1)\n",
    "        return self.fcnet(z).view(*x.shape[:-1], self.m, self.d)"
   ]
  },
  {
   "cell_type": "markdown",
   "id": "8a844673",
   "metadata": {},
   "source": [
    "# Solver"
   ]
  },
  {
   "cell_type": "code",
   "execution_count": 8,
   "id": "52132843",
   "metadata": {
    "execution": {
     "iopub.execute_input": "2023-03-08T07:29:52.699873Z",
     "iopub.status.busy": "2023-03-08T07:29:52.699712Z",
     "iopub.status.idle": "2023-03-08T07:29:52.758824Z",
     "shell.execute_reply": "2023-03-08T07:29:52.758213Z"
    }
   },
   "outputs": [],
   "source": [
    "class FBSDE_BMLSolver(object):\n",
    "\n",
    "    def __init__(self, fbsde):\n",
    "        self.hidden_size = fbsde.n + 10\n",
    "        self.batch_size = 64\n",
    "        \n",
    "        self.fbsde = fbsde\n",
    "        self.ynet = YNet_FC2L(self.fbsde.n, self.fbsde.m, hidden_size=self.hidden_size)\n",
    "        self.znet = ZNet_FC2L(self.fbsde.n, self.fbsde.m, self.fbsde.d, hidden_size=self.hidden_size)\n",
    "        \n",
    "        self.track_X_grad = False\n",
    "        \n",
    "    def get_optimizer(self):\n",
    "        return torch.optim.Adam([\n",
    "            {'params': self.ynet.parameters(), 'lr': 5e-3,},\n",
    "            {'params': self.znet.parameters(), 'lr': 5e-3,}\n",
    "        ])\n",
    "        \n",
    "    def obtain_XYZ(self, t=None, dW=None):\n",
    "        if t is None:\n",
    "            t = torch.tensor([self.fbsde.dt*i for i in range(1+self.fbsde.H)], dtype=TENSORDTYPE, device=DEVICE).reshape(-1,1,1).expand(-1, self.batch_size, 1)\n",
    "        \n",
    "        if dW is None:\n",
    "            dW = torch.normal(0., np.sqrt(self.fbsde.dt), size=(self.fbsde.H, self.batch_size, self.fbsde.d), dtype=TENSORDTYPE, device=DEVICE)\n",
    "        \n",
    "        X = torch.empty(1+self.fbsde.H, dW.shape[1], self.fbsde.n, dtype=TENSORDTYPE, device=DEVICE)\n",
    "        Y = torch.empty(1+self.fbsde.H, dW.shape[1], self.fbsde.m, dtype=TENSORDTYPE, device=DEVICE)\n",
    "        Z = torch.empty(1+self.fbsde.H, dW.shape[1], self.fbsde.m, self.fbsde.d, dtype=TENSORDTYPE, device=DEVICE)\n",
    "        \n",
    "        X[0] = self.fbsde.x0\n",
    "        Y[0] = self.ynet(t[0], X[0])\n",
    "        Z[0] = self.znet(t[0], X[0])\n",
    "        for i in range(self.fbsde.H):\n",
    "            if self.track_X_grad is True:\n",
    "                X[i+1] = X[i] + self.fbsde.dt * self.fbsde.b(t[i], X[i], Y[i], Z[i]) + (self.fbsde.sigma(t[i], X[i], Y[i], Z[i]) @ dW[i].unsqueeze(-1)).squeeze(-1)\n",
    "            else:\n",
    "                with torch.no_grad():\n",
    "                    X[i+1] = X[i] + self.fbsde.dt * self.fbsde.b(t[i], X[i], Y[i], Z[i]) + (self.fbsde.sigma(t[i], X[i], Y[i], Z[i]) @ dW[i].unsqueeze(-1)).squeeze(-1)\n",
    "            Y[i+1] = self.ynet(t[i+1], X[i+1])\n",
    "            Z[i+1] = self.znet(t[i+1], X[i+1])\n",
    "        \n",
    "        return t, X, Y, Z, dW\n",
    "    \n",
    "    def calc_loss(self, t=None, dW=None, dirac=True):\n",
    "        t, X, Y, Z, dW = self.obtain_XYZ(t, dW)\n",
    "        if dirac:\n",
    "            error = Y[0] - (self.fbsde.g(X[-1]) + self.fbsde.dt * torch.sum(self.fbsde.f(t[:-1], X[:-1], Y[:-1], Z[:-1]), dim=0) - torch.sum(Z[:-1] @ dW.unsqueeze(-1), dim=0).squeeze(-1))\n",
    "            return torch.sum(error*error/dW.shape[1])\n",
    "        else:\n",
    "            error = Y[:-1] - (self.fbsde.g(X[-1:]) + self.fbsde.dt * re_cumsum(self.fbsde.f(t[:-1], X[:-1], Y[:-1], Z[:-1]), dim=0) - re_cumsum(Z[:-1] @ dW.unsqueeze(-1), dim=0).squeeze(-1))\n",
    "            return torch.sum(error/ dW.shape[1] * error * self.fbsde.dt)"
   ]
  },
  {
   "cell_type": "markdown",
   "id": "0b082f26",
   "metadata": {},
   "source": [
    "# Train"
   ]
  },
  {
   "cell_type": "code",
   "execution_count": 9,
   "id": "03dfbb38",
   "metadata": {
    "execution": {
     "iopub.execute_input": "2023-03-08T07:29:52.760668Z",
     "iopub.status.busy": "2023-03-08T07:29:52.760511Z",
     "iopub.status.idle": "2023-03-08T07:29:52.776832Z",
     "shell.execute_reply": "2023-03-08T07:29:52.776290Z"
    }
   },
   "outputs": [],
   "source": [
    "solver = FBSDE_BMLSolver(FBSDE_JiLQ5_var(n=5))"
   ]
  },
  {
   "cell_type": "code",
   "execution_count": 10,
   "id": "e31634f7",
   "metadata": {
    "execution": {
     "iopub.execute_input": "2023-03-08T07:29:52.779031Z",
     "iopub.status.busy": "2023-03-08T07:29:52.778853Z",
     "iopub.status.idle": "2023-03-08T07:30:12.739056Z",
     "shell.execute_reply": "2023-03-08T07:30:12.738604Z"
    }
   },
   "outputs": [
    {
     "name": "stderr",
     "output_type": "stream",
     "text": [
      "100%|██████████████████████████████████████| 2000/2000 [00:19<00:00, 100.24it/s]\n"
     ]
    }
   ],
   "source": [
    "optimizer = solver.get_optimizer()\n",
    "para_log = []\n",
    "\n",
    "solver.ynet.train()\n",
    "solver.znet.train()\n",
    "optimizer.zero_grad()\n",
    "for step in tqdm.trange(2000):\n",
    "    loss = solver.calc_loss(dirac=True)\n",
    "    \n",
    "    para_log.append({'step': step+1, 'loss': loss.item()})\n",
    "    \n",
    "    loss.backward()\n",
    "    optimizer.step()\n",
    "    optimizer.zero_grad()"
   ]
  },
  {
   "cell_type": "code",
   "execution_count": 11,
   "id": "56f616dd",
   "metadata": {
    "execution": {
     "iopub.execute_input": "2023-03-08T07:30:12.741003Z",
     "iopub.status.busy": "2023-03-08T07:30:12.740674Z",
     "iopub.status.idle": "2023-03-08T07:30:12.750152Z",
     "shell.execute_reply": "2023-03-08T07:30:12.749592Z"
    }
   },
   "outputs": [],
   "source": [
    "para_log = pd.DataFrame(para_log)"
   ]
  },
  {
   "cell_type": "code",
   "execution_count": 12,
   "id": "c53ffa8f",
   "metadata": {
    "execution": {
     "iopub.execute_input": "2023-03-08T07:30:12.752180Z",
     "iopub.status.busy": "2023-03-08T07:30:12.751998Z",
     "iopub.status.idle": "2023-03-08T07:30:13.235371Z",
     "shell.execute_reply": "2023-03-08T07:30:13.234789Z"
    }
   },
   "outputs": [
    {
     "data": {
      "image/png": "[encoded data removed]",
      "text/plain": [
       "<Figure size 640x480 with 1 Axes>"
      ]
     },
     "metadata": {},
     "output_type": "display_data"
    }
   ],
   "source": [
    "plt.plot(para_log.step, para_log.loss)\n",
    "plt.yscale('log')"
   ]
  },
  {
   "cell_type": "code",
   "execution_count": 13,
   "id": "ce925905",
   "metadata": {
    "execution": {
     "iopub.execute_input": "2023-03-08T07:30:13.237238Z",
     "iopub.status.busy": "2023-03-08T07:30:13.237036Z",
     "iopub.status.idle": "2023-03-08T07:30:13.252459Z",
     "shell.execute_reply": "2023-03-08T07:30:13.251949Z"
    }
   },
   "outputs": [],
   "source": [
    "solver.batch_size = 512\n",
    "t, X, Y, Z, dW = solver.obtain_XYZ()"
   ]
  },
  {
   "cell_type": "code",
   "execution_count": 14,
   "id": "b564d006",
   "metadata": {
    "execution": {
     "iopub.execute_input": "2023-03-08T07:30:13.254866Z",
     "iopub.status.busy": "2023-03-08T07:30:13.254477Z",
     "iopub.status.idle": "2023-03-08T07:30:13.259484Z",
     "shell.execute_reply": "2023-03-08T07:30:13.258987Z"
    }
   },
   "outputs": [],
   "source": [
    "cost = .5 * torch.sum(X[-1], dim=-1)**2 + solver.fbsde.dt * torch.sum(.25 * X[:-1] * X[:-1] + .25 * (Y[:-1] + Z[:-1].squeeze(-1)) * (Y[:-1] + Z[:-1].squeeze(-1)), dim=-1).sum(0)"
   ]
  },
  {
   "cell_type": "code",
   "execution_count": 15,
   "id": "2c507b4a",
   "metadata": {
    "execution": {
     "iopub.execute_input": "2023-03-08T07:30:13.261802Z",
     "iopub.status.busy": "2023-03-08T07:30:13.261420Z",
     "iopub.status.idle": "2023-03-08T07:30:13.267776Z",
     "shell.execute_reply": "2023-03-08T07:30:13.267344Z"
    }
   },
   "outputs": [
    {
     "data": {
      "text/plain": [
       "tensor(10.7575, dtype=torch.float64, grad_fn=<MeanBackward0>)"
      ]
     },
     "execution_count": 15,
     "metadata": {},
     "output_type": "execute_result"
    }
   ],
   "source": [
    "cost.mean()"
   ]
  },
  {
   "cell_type": "code",
   "execution_count": 16,
   "id": "e4360041",
   "metadata": {
    "execution": {
     "iopub.execute_input": "2023-03-08T07:30:13.269759Z",
     "iopub.status.busy": "2023-03-08T07:30:13.269471Z",
     "iopub.status.idle": "2023-03-08T07:30:13.273406Z",
     "shell.execute_reply": "2023-03-08T07:30:13.272915Z"
    }
   },
   "outputs": [
    {
     "data": {
      "text/plain": [
       "'-4.3858(2)'"
      ]
     },
     "execution_count": 16,
     "metadata": {},
     "output_type": "execute_result"
    }
   ],
   "source": [
    "format_uncertainty(Y[0].mean().item(), Y[0].std().item())"
   ]
  },
  {
   "cell_type": "markdown",
   "id": "8d7bd335",
   "metadata": {},
   "source": [
    "## Train Multiple Models"
   ]
  },
  {
   "cell_type": "code",
   "execution_count": 17,
   "id": "0308f1dc",
   "metadata": {
    "execution": {
     "iopub.execute_input": "2023-03-08T07:30:13.275272Z",
     "iopub.status.busy": "2023-03-08T07:30:13.275076Z",
     "iopub.status.idle": "2023-03-08T07:30:13.280046Z",
     "shell.execute_reply": "2023-03-08T07:30:13.279507Z"
    }
   },
   "outputs": [],
   "source": [
    "def solve_JiLQ(n, dirac, repeat=10):\n",
    "    r'''return cost and $p_0$.'''\n",
    "    cost, p0 = [], []\n",
    "    for _ in range(repeat):\n",
    "        _solver = FBSDE_BMLSolver(FBSDE_JiLQ5(n=n))\n",
    "        optimizer = _solver.get_optimizer()\n",
    "        \n",
    "        _solver.ynet.train()\n",
    "        _solver.znet.train()\n",
    "        optimizer.zero_grad()\n",
    "        \n",
    "        for step in tqdm.trange(2000):\n",
    "            loss = _solver.calc_loss(dirac=dirac)\n",
    "            loss.backward()\n",
    "            optimizer.step()\n",
    "            optimizer.zero_grad()\n",
    "        \n",
    "        _solver.batch_size = 512\n",
    "        t, X, Y, Z, dW = _solver.obtain_XYZ()\n",
    "        cost.append((.5 * torch.sum(X[-1] * X[-1], dim=-1) + _solver.fbsde.dt * torch.sum(.25 * X[:-1] * X[:-1] + .25 * (Y[:-1] + Z[:-1].squeeze(-1)) * (Y[:-1] + Z[:-1].squeeze(-1)), dim=-1).sum(0)).mean().item())\n",
    "        p0.append(Y[0].mean().item())\n",
    "    return cost, p0"
   ]
  },
  {
   "cell_type": "code",
   "execution_count": 18,
   "id": "92c0cace",
   "metadata": {
    "execution": {
     "iopub.execute_input": "2023-03-08T07:30:13.281894Z",
     "iopub.status.busy": "2023-03-08T07:30:13.281735Z",
     "iopub.status.idle": "2023-03-08T08:03:33.955814Z",
     "shell.execute_reply": "2023-03-08T08:03:33.955145Z"
    }
   },
   "outputs": [
    {
     "name": "stderr",
     "output_type": "stream",
     "text": [
      "100%|███████████████████████████████████████| 2000/2000 [00:24<00:00, 82.56it/s]\n",
      "100%|███████████████████████████████████████| 2000/2000 [00:26<00:00, 74.84it/s]\n",
      "100%|███████████████████████████████████████| 2000/2000 [00:27<00:00, 73.70it/s]\n",
      "100%|███████████████████████████████████████| 2000/2000 [00:25<00:00, 77.71it/s]\n",
      "100%|███████████████████████████████████████| 2000/2000 [00:25<00:00, 79.09it/s]\n",
      "100%|███████████████████████████████████████| 2000/2000 [00:26<00:00, 76.64it/s]\n",
      "100%|███████████████████████████████████████| 2000/2000 [00:27<00:00, 72.11it/s]\n",
      "100%|███████████████████████████████████████| 2000/2000 [00:28<00:00, 69.37it/s]\n",
      "100%|███████████████████████████████████████| 2000/2000 [00:34<00:00, 57.76it/s]\n",
      "100%|███████████████████████████████████████| 2000/2000 [00:28<00:00, 70.60it/s]\n",
      "100%|███████████████████████████████████████| 2000/2000 [00:27<00:00, 71.71it/s]\n",
      "100%|███████████████████████████████████████| 2000/2000 [00:28<00:00, 70.24it/s]\n",
      "100%|███████████████████████████████████████| 2000/2000 [00:26<00:00, 74.68it/s]\n",
      "100%|███████████████████████████████████████| 2000/2000 [00:27<00:00, 72.60it/s]\n",
      "100%|███████████████████████████████████████| 2000/2000 [00:32<00:00, 61.29it/s]\n",
      "100%|███████████████████████████████████████| 2000/2000 [00:32<00:00, 62.29it/s]\n",
      "100%|███████████████████████████████████████| 2000/2000 [00:31<00:00, 63.65it/s]\n",
      "100%|███████████████████████████████████████| 2000/2000 [00:31<00:00, 63.84it/s]\n",
      "100%|███████████████████████████████████████| 2000/2000 [00:30<00:00, 65.14it/s]\n",
      "100%|███████████████████████████████████████| 2000/2000 [00:30<00:00, 65.09it/s]\n",
      "100%|███████████████████████████████████████| 2000/2000 [01:20<00:00, 24.70it/s]\n",
      "100%|███████████████████████████████████████| 2000/2000 [01:15<00:00, 26.38it/s]\n",
      "100%|███████████████████████████████████████| 2000/2000 [01:04<00:00, 31.02it/s]\n",
      "100%|███████████████████████████████████████| 2000/2000 [01:02<00:00, 31.75it/s]\n",
      "100%|███████████████████████████████████████| 2000/2000 [01:02<00:00, 32.00it/s]\n",
      "100%|███████████████████████████████████████| 2000/2000 [01:03<00:00, 31.62it/s]\n",
      "100%|███████████████████████████████████████| 2000/2000 [01:03<00:00, 31.71it/s]\n",
      "100%|███████████████████████████████████████| 2000/2000 [01:03<00:00, 31.39it/s]\n",
      "100%|███████████████████████████████████████| 2000/2000 [01:02<00:00, 32.00it/s]\n",
      "100%|███████████████████████████████████████| 2000/2000 [01:02<00:00, 31.81it/s]\n",
      "100%|███████████████████████████████████████| 2000/2000 [01:15<00:00, 26.50it/s]\n",
      "100%|███████████████████████████████████████| 2000/2000 [01:21<00:00, 24.57it/s]\n",
      "100%|███████████████████████████████████████| 2000/2000 [01:14<00:00, 26.77it/s]\n",
      "100%|███████████████████████████████████████| 2000/2000 [01:17<00:00, 25.72it/s]\n",
      "100%|███████████████████████████████████████| 2000/2000 [01:14<00:00, 26.74it/s]\n",
      "100%|███████████████████████████████████████| 2000/2000 [01:16<00:00, 26.03it/s]\n",
      "100%|███████████████████████████████████████| 2000/2000 [01:14<00:00, 26.75it/s]\n",
      "100%|███████████████████████████████████████| 2000/2000 [01:15<00:00, 26.48it/s]\n",
      "100%|███████████████████████████████████████| 2000/2000 [01:15<00:00, 26.66it/s]\n",
      "100%|███████████████████████████████████████| 2000/2000 [01:16<00:00, 26.22it/s]\n"
     ]
    }
   ],
   "source": [
    "res = []\n",
    "for n in [5, 100]:\n",
    "    for dirac in [True, False]:\n",
    "        cost, p0 = solve_JiLQ(n, dirac)\n",
    "        res.append({\n",
    "            'n': n, 'dirac': dirac, \n",
    "            'cost': format_uncertainty(np.mean(cost), np.std(cost)),\n",
    "            'p0': format_uncertainty(np.mean(p0), np.std(p0)),\n",
    "        })"
   ]
  },
  {
   "cell_type": "code",
   "execution_count": 19,
   "id": "9086f7d7",
   "metadata": {
    "execution": {
     "iopub.execute_input": "2023-03-08T08:03:33.958624Z",
     "iopub.status.busy": "2023-03-08T08:03:33.958349Z",
     "iopub.status.idle": "2023-03-08T08:03:33.973290Z",
     "shell.execute_reply": "2023-03-08T08:03:33.972466Z"
    }
   },
   "outputs": [
    {
     "data": {
      "text/html": [
       "<div>\n",
       "<style scoped>\n",
       "    .dataframe tbody tr th:only-of-type {\n",
       "        vertical-align: middle;\n",
       "    }\n",
       "\n",
       "    .dataframe tbody tr th {\n",
       "        vertical-align: top;\n",
       "    }\n",
       "\n",
       "    .dataframe thead th {\n",
       "        text-align: right;\n",
       "    }\n",
       "</style>\n",
       "<table border=\"1\" class=\"dataframe\">\n",
       "  <thead>\n",
       "    <tr style=\"text-align: right;\">\n",
       "      <th></th>\n",
       "      <th>n</th>\n",
       "      <th>dirac</th>\n",
       "      <th>cost</th>\n",
       "      <th>p0</th>\n",
       "    </tr>\n",
       "  </thead>\n",
       "  <tbody>\n",
       "    <tr>\n",
       "      <th>0</th>\n",
       "      <td>5</td>\n",
       "      <td>True</td>\n",
       "      <td>2.39(1)</td>\n",
       "      <td>-0.9591(2)</td>\n",
       "    </tr>\n",
       "    <tr>\n",
       "      <th>1</th>\n",
       "      <td>5</td>\n",
       "      <td>False</td>\n",
       "      <td>2.39(1)</td>\n",
       "      <td>-0.961(1)</td>\n",
       "    </tr>\n",
       "    <tr>\n",
       "      <th>2</th>\n",
       "      <td>100</td>\n",
       "      <td>True</td>\n",
       "      <td>47.9(3)</td>\n",
       "      <td>-0.961(4)</td>\n",
       "    </tr>\n",
       "    <tr>\n",
       "      <th>3</th>\n",
       "      <td>100</td>\n",
       "      <td>False</td>\n",
       "      <td>48.0(3)</td>\n",
       "      <td>-0.958(6)</td>\n",
       "    </tr>\n",
       "  </tbody>\n",
       "</table>\n",
       "</div>"
      ],
      "text/plain": [
       "     n  dirac     cost          p0\n",
       "0    5   True  2.39(1)  -0.9591(2)\n",
       "1    5  False  2.39(1)   -0.961(1)\n",
       "2  100   True  47.9(3)   -0.961(4)\n",
       "3  100  False  48.0(3)   -0.958(6)"
      ]
     },
     "execution_count": 19,
     "metadata": {},
     "output_type": "execute_result"
    }
   ],
   "source": [
    "pd.DataFrame(res)"
   ]
  },
  {
   "cell_type": "code",
   "execution_count": 20,
   "id": "90ef19e8",
   "metadata": {
    "execution": {
     "iopub.execute_input": "2023-03-08T08:03:33.976230Z",
     "iopub.status.busy": "2023-03-08T08:03:33.975988Z",
     "iopub.status.idle": "2023-03-08T08:03:33.983045Z",
     "shell.execute_reply": "2023-03-08T08:03:33.982230Z"
    }
   },
   "outputs": [],
   "source": [
    "def solve_JiLQ_var(n, dirac, repeat=10):\n",
    "    r'''return cost and $p_0$.'''\n",
    "    cost, p0 = [], []\n",
    "    for _ in range(repeat):\n",
    "        _solver = FBSDE_BMLSolver(FBSDE_JiLQ5_var(n=n))\n",
    "        optimizer = _solver.get_optimizer()\n",
    "        \n",
    "        _solver.ynet.train()\n",
    "        _solver.znet.train()\n",
    "        optimizer.zero_grad()\n",
    "        \n",
    "        for step in tqdm.trange(2000):\n",
    "            loss = _solver.calc_loss(dirac=dirac)\n",
    "            loss.backward()\n",
    "            optimizer.step()\n",
    "            optimizer.zero_grad()\n",
    "        \n",
    "        _solver.batch_size = 512\n",
    "        t, X, Y, Z, dW = _solver.obtain_XYZ()\n",
    "        cost.append((.5 * torch.sum(X[-1], dim=-1)**2 + _solver.fbsde.dt * torch.sum(.25 * X[:-1] * X[:-1] + .25 * (Y[:-1] + Z[:-1].squeeze(-1)) * (Y[:-1] + Z[:-1].squeeze(-1)), dim=-1).sum(0)).mean().item())\n",
    "        p0.append(Y[0].mean().item())\n",
    "    return cost, p0"
   ]
  },
  {
   "cell_type": "code",
   "execution_count": 21,
   "id": "a0f7d4a1",
   "metadata": {
    "execution": {
     "iopub.execute_input": "2023-03-08T08:03:33.985739Z",
     "iopub.status.busy": "2023-03-08T08:03:33.985503Z",
     "iopub.status.idle": "2023-03-08T08:49:45.915580Z",
     "shell.execute_reply": "2023-03-08T08:49:45.914932Z"
    }
   },
   "outputs": [
    {
     "name": "stderr",
     "output_type": "stream",
     "text": [
      "100%|███████████████████████████████████████| 2000/2000 [00:24<00:00, 82.87it/s]\n",
      "100%|███████████████████████████████████████| 2000/2000 [00:24<00:00, 83.03it/s]\n",
      "100%|███████████████████████████████████████| 2000/2000 [00:23<00:00, 83.58it/s]\n",
      "100%|███████████████████████████████████████| 2000/2000 [00:23<00:00, 83.41it/s]\n",
      "100%|███████████████████████████████████████| 2000/2000 [00:24<00:00, 82.87it/s]\n",
      "100%|███████████████████████████████████████| 2000/2000 [00:23<00:00, 83.53it/s]\n",
      "100%|███████████████████████████████████████| 2000/2000 [00:24<00:00, 83.08it/s]\n",
      "100%|███████████████████████████████████████| 2000/2000 [00:24<00:00, 83.33it/s]\n",
      "100%|███████████████████████████████████████| 2000/2000 [00:24<00:00, 83.05it/s]\n",
      "100%|███████████████████████████████████████| 2000/2000 [00:24<00:00, 82.52it/s]\n",
      "100%|███████████████████████████████████████| 2000/2000 [00:24<00:00, 82.20it/s]\n",
      "100%|███████████████████████████████████████| 2000/2000 [00:24<00:00, 82.48it/s]\n",
      "100%|███████████████████████████████████████| 2000/2000 [00:24<00:00, 81.83it/s]\n",
      "100%|███████████████████████████████████████| 2000/2000 [00:24<00:00, 82.53it/s]\n",
      "100%|███████████████████████████████████████| 2000/2000 [00:24<00:00, 82.63it/s]\n",
      "100%|███████████████████████████████████████| 2000/2000 [00:24<00:00, 82.30it/s]\n",
      "100%|███████████████████████████████████████| 2000/2000 [00:24<00:00, 82.38it/s]\n",
      "100%|███████████████████████████████████████| 2000/2000 [00:24<00:00, 82.02it/s]\n",
      "100%|███████████████████████████████████████| 2000/2000 [00:24<00:00, 81.62it/s]\n",
      "100%|███████████████████████████████████████| 2000/2000 [00:24<00:00, 81.96it/s]\n",
      "100%|███████████████████████████████████████| 2000/2000 [00:24<00:00, 80.17it/s]\n",
      "100%|███████████████████████████████████████| 2000/2000 [00:24<00:00, 80.57it/s]\n",
      "100%|███████████████████████████████████████| 2000/2000 [00:25<00:00, 79.25it/s]\n",
      "100%|███████████████████████████████████████| 2000/2000 [00:24<00:00, 80.45it/s]\n",
      "100%|███████████████████████████████████████| 2000/2000 [00:25<00:00, 79.79it/s]\n",
      "100%|███████████████████████████████████████| 2000/2000 [00:24<00:00, 80.31it/s]\n",
      "100%|███████████████████████████████████████| 2000/2000 [00:24<00:00, 80.13it/s]\n",
      "100%|███████████████████████████████████████| 2000/2000 [00:24<00:00, 80.43it/s]\n",
      "100%|███████████████████████████████████████| 2000/2000 [00:24<00:00, 80.71it/s]\n",
      "100%|███████████████████████████████████████| 2000/2000 [00:25<00:00, 79.70it/s]\n",
      "100%|███████████████████████████████████████| 2000/2000 [00:25<00:00, 79.83it/s]\n",
      "100%|███████████████████████████████████████| 2000/2000 [00:25<00:00, 78.79it/s]\n",
      "100%|███████████████████████████████████████| 2000/2000 [00:25<00:00, 77.84it/s]\n",
      "100%|███████████████████████████████████████| 2000/2000 [00:25<00:00, 79.24it/s]\n",
      "100%|███████████████████████████████████████| 2000/2000 [00:25<00:00, 77.65it/s]\n",
      "100%|███████████████████████████████████████| 2000/2000 [00:25<00:00, 77.88it/s]\n",
      "100%|███████████████████████████████████████| 2000/2000 [00:25<00:00, 77.60it/s]\n",
      "100%|███████████████████████████████████████| 2000/2000 [00:25<00:00, 77.42it/s]\n",
      "100%|███████████████████████████████████████| 2000/2000 [00:25<00:00, 78.49it/s]\n",
      "100%|███████████████████████████████████████| 2000/2000 [00:25<00:00, 78.71it/s]\n",
      "100%|███████████████████████████████████████| 2000/2000 [00:25<00:00, 77.58it/s]\n",
      "100%|███████████████████████████████████████| 2000/2000 [00:25<00:00, 77.36it/s]\n",
      "100%|███████████████████████████████████████| 2000/2000 [00:25<00:00, 77.68it/s]\n",
      "100%|███████████████████████████████████████| 2000/2000 [00:25<00:00, 77.38it/s]\n",
      "100%|███████████████████████████████████████| 2000/2000 [00:25<00:00, 76.98it/s]\n",
      "100%|███████████████████████████████████████| 2000/2000 [00:25<00:00, 77.27it/s]\n",
      "100%|███████████████████████████████████████| 2000/2000 [00:26<00:00, 76.78it/s]\n",
      "100%|███████████████████████████████████████| 2000/2000 [00:26<00:00, 76.71it/s]\n",
      "100%|███████████████████████████████████████| 2000/2000 [00:25<00:00, 77.24it/s]\n",
      "100%|███████████████████████████████████████| 2000/2000 [00:25<00:00, 77.45it/s]\n",
      "100%|███████████████████████████████████████| 2000/2000 [00:26<00:00, 75.32it/s]\n",
      "100%|███████████████████████████████████████| 2000/2000 [00:26<00:00, 74.80it/s]\n",
      "100%|███████████████████████████████████████| 2000/2000 [00:26<00:00, 74.61it/s]\n",
      "100%|███████████████████████████████████████| 2000/2000 [00:26<00:00, 74.54it/s]\n",
      "100%|███████████████████████████████████████| 2000/2000 [00:26<00:00, 75.36it/s]\n",
      "100%|███████████████████████████████████████| 2000/2000 [00:26<00:00, 74.67it/s]\n",
      "100%|███████████████████████████████████████| 2000/2000 [00:26<00:00, 75.16it/s]\n",
      "100%|███████████████████████████████████████| 2000/2000 [00:26<00:00, 74.70it/s]\n",
      "100%|███████████████████████████████████████| 2000/2000 [00:26<00:00, 74.88it/s]\n",
      "100%|███████████████████████████████████████| 2000/2000 [00:26<00:00, 75.17it/s]\n",
      "100%|███████████████████████████████████████| 2000/2000 [00:27<00:00, 72.09it/s]\n",
      "100%|███████████████████████████████████████| 2000/2000 [00:28<00:00, 71.05it/s]\n",
      "100%|███████████████████████████████████████| 2000/2000 [00:28<00:00, 70.89it/s]\n",
      "100%|███████████████████████████████████████| 2000/2000 [00:28<00:00, 71.10it/s]\n",
      "100%|███████████████████████████████████████| 2000/2000 [00:28<00:00, 71.08it/s]\n",
      "100%|███████████████████████████████████████| 2000/2000 [00:28<00:00, 70.21it/s]\n",
      "100%|███████████████████████████████████████| 2000/2000 [00:28<00:00, 70.96it/s]\n",
      "100%|███████████████████████████████████████| 2000/2000 [00:27<00:00, 71.69it/s]\n",
      "100%|███████████████████████████████████████| 2000/2000 [00:28<00:00, 70.82it/s]\n",
      "100%|███████████████████████████████████████| 2000/2000 [00:28<00:00, 70.72it/s]\n",
      "100%|███████████████████████████████████████| 2000/2000 [00:29<00:00, 68.52it/s]\n",
      "100%|███████████████████████████████████████| 2000/2000 [00:29<00:00, 67.59it/s]\n",
      "100%|███████████████████████████████████████| 2000/2000 [00:28<00:00, 69.15it/s]\n",
      "100%|███████████████████████████████████████| 2000/2000 [00:29<00:00, 67.81it/s]\n",
      "100%|███████████████████████████████████████| 2000/2000 [00:29<00:00, 68.48it/s]\n",
      "100%|███████████████████████████████████████| 2000/2000 [00:29<00:00, 67.33it/s]\n",
      "100%|███████████████████████████████████████| 2000/2000 [00:29<00:00, 68.76it/s]\n",
      "100%|███████████████████████████████████████| 2000/2000 [00:29<00:00, 67.08it/s]\n",
      "100%|███████████████████████████████████████| 2000/2000 [00:29<00:00, 68.47it/s]\n",
      "100%|███████████████████████████████████████| 2000/2000 [00:29<00:00, 68.17it/s]\n",
      "100%|███████████████████████████████████████| 2000/2000 [00:32<00:00, 61.85it/s]\n",
      "100%|███████████████████████████████████████| 2000/2000 [00:33<00:00, 60.58it/s]\n",
      "100%|███████████████████████████████████████| 2000/2000 [00:32<00:00, 61.47it/s]\n",
      "100%|███████████████████████████████████████| 2000/2000 [00:32<00:00, 60.74it/s]\n",
      "100%|███████████████████████████████████████| 2000/2000 [00:32<00:00, 61.56it/s]\n",
      "100%|███████████████████████████████████████| 2000/2000 [00:32<00:00, 61.16it/s]\n",
      "100%|███████████████████████████████████████| 2000/2000 [00:32<00:00, 61.41it/s]\n",
      "100%|███████████████████████████████████████| 2000/2000 [00:32<00:00, 60.78it/s]\n",
      "100%|███████████████████████████████████████| 2000/2000 [00:32<00:00, 61.39it/s]\n",
      "100%|███████████████████████████████████████| 2000/2000 [00:32<00:00, 61.27it/s]\n",
      "100%|███████████████████████████████████████| 2000/2000 [00:35<00:00, 56.59it/s]\n",
      "100%|███████████████████████████████████████| 2000/2000 [00:36<00:00, 55.19it/s]\n",
      "100%|███████████████████████████████████████| 2000/2000 [00:35<00:00, 56.72it/s]\n",
      "100%|███████████████████████████████████████| 2000/2000 [00:35<00:00, 56.44it/s]\n",
      "100%|███████████████████████████████████████| 2000/2000 [00:35<00:00, 56.87it/s]\n",
      "100%|███████████████████████████████████████| 2000/2000 [00:35<00:00, 56.65it/s]\n",
      "100%|███████████████████████████████████████| 2000/2000 [00:35<00:00, 56.96it/s]\n",
      "100%|███████████████████████████████████████| 2000/2000 [00:35<00:00, 56.42it/s]\n",
      "100%|███████████████████████████████████████| 2000/2000 [00:35<00:00, 57.13it/s]\n",
      "100%|███████████████████████████████████████| 2000/2000 [00:35<00:00, 56.08it/s]\n"
     ]
    }
   ],
   "source": [
    "res = []\n",
    "for n in [1, 2, 5, 10, 20]:\n",
    "    for dirac in [True, False]:\n",
    "        cost, p0 = solve_JiLQ_var(n, dirac)\n",
    "        res.append({\n",
    "            'n': n, 'dirac': dirac, \n",
    "            'cost': format_uncertainty(np.mean(cost), np.std(cost)),\n",
    "            'p0': format_uncertainty(np.mean(p0), np.std(p0)),\n",
    "        })"
   ]
  },
  {
   "cell_type": "code",
   "execution_count": 22,
   "id": "b3e8fd34",
   "metadata": {
    "execution": {
     "iopub.execute_input": "2023-03-08T08:49:45.918503Z",
     "iopub.status.busy": "2023-03-08T08:49:45.917908Z",
     "iopub.status.idle": "2023-03-08T08:49:45.927136Z",
     "shell.execute_reply": "2023-03-08T08:49:45.926545Z"
    }
   },
   "outputs": [
    {
     "data": {
      "text/html": [
       "<div>\n",
       "<style scoped>\n",
       "    .dataframe tbody tr th:only-of-type {\n",
       "        vertical-align: middle;\n",
       "    }\n",
       "\n",
       "    .dataframe tbody tr th {\n",
       "        vertical-align: top;\n",
       "    }\n",
       "\n",
       "    .dataframe thead th {\n",
       "        text-align: right;\n",
       "    }\n",
       "</style>\n",
       "<table border=\"1\" class=\"dataframe\">\n",
       "  <thead>\n",
       "    <tr style=\"text-align: right;\">\n",
       "      <th></th>\n",
       "      <th>n</th>\n",
       "      <th>dirac</th>\n",
       "      <th>cost</th>\n",
       "      <th>p0</th>\n",
       "    </tr>\n",
       "  </thead>\n",
       "  <tbody>\n",
       "    <tr>\n",
       "      <th>0</th>\n",
       "      <td>1</td>\n",
       "      <td>True</td>\n",
       "      <td>0.480(2)</td>\n",
       "      <td>-0.9579(8)</td>\n",
       "    </tr>\n",
       "    <tr>\n",
       "      <th>1</th>\n",
       "      <td>1</td>\n",
       "      <td>False</td>\n",
       "      <td>0.479(3)</td>\n",
       "      <td>-0.961(2)</td>\n",
       "    </tr>\n",
       "    <tr>\n",
       "      <th>2</th>\n",
       "      <td>2</td>\n",
       "      <td>True</td>\n",
       "      <td>1.82(2)</td>\n",
       "      <td>-1.8305(8)</td>\n",
       "    </tr>\n",
       "    <tr>\n",
       "      <th>3</th>\n",
       "      <td>2</td>\n",
       "      <td>False</td>\n",
       "      <td>1.820(6)</td>\n",
       "      <td>-1.834(6)</td>\n",
       "    </tr>\n",
       "    <tr>\n",
       "      <th>4</th>\n",
       "      <td>5</td>\n",
       "      <td>True</td>\n",
       "      <td>10.8(2)</td>\n",
       "      <td>-4.3868(10)</td>\n",
       "    </tr>\n",
       "    <tr>\n",
       "      <th>5</th>\n",
       "      <td>5</td>\n",
       "      <td>False</td>\n",
       "      <td>10.8(2)</td>\n",
       "      <td>-4.39(3)</td>\n",
       "    </tr>\n",
       "    <tr>\n",
       "      <th>6</th>\n",
       "      <td>10</td>\n",
       "      <td>True</td>\n",
       "      <td>42.4(8)</td>\n",
       "      <td>-8.5985(8)</td>\n",
       "    </tr>\n",
       "    <tr>\n",
       "      <th>7</th>\n",
       "      <td>10</td>\n",
       "      <td>False</td>\n",
       "      <td>42.4(6)</td>\n",
       "      <td>-8.58(4)</td>\n",
       "    </tr>\n",
       "    <tr>\n",
       "      <th>8</th>\n",
       "      <td>20</td>\n",
       "      <td>True</td>\n",
       "      <td>169(5)</td>\n",
       "      <td>-16.988(4)</td>\n",
       "    </tr>\n",
       "    <tr>\n",
       "      <th>9</th>\n",
       "      <td>20</td>\n",
       "      <td>False</td>\n",
       "      <td>168(5)</td>\n",
       "      <td>-17.0(1)</td>\n",
       "    </tr>\n",
       "  </tbody>\n",
       "</table>\n",
       "</div>"
      ],
      "text/plain": [
       "    n  dirac      cost           p0\n",
       "0   1   True  0.480(2)   -0.9579(8)\n",
       "1   1  False  0.479(3)    -0.961(2)\n",
       "2   2   True   1.82(2)   -1.8305(8)\n",
       "3   2  False  1.820(6)    -1.834(6)\n",
       "4   5   True   10.8(2)  -4.3868(10)\n",
       "5   5  False   10.8(2)     -4.39(3)\n",
       "6  10   True   42.4(8)   -8.5985(8)\n",
       "7  10  False   42.4(6)     -8.58(4)\n",
       "8  20   True    169(5)   -16.988(4)\n",
       "9  20  False    168(5)     -17.0(1)"
      ]
     },
     "execution_count": 22,
     "metadata": {},
     "output_type": "execute_result"
    }
   ],
   "source": [
    "pd.DataFrame(res)"
   ]
  }
 ],
 "metadata": {
  "kernelspec": {
   "display_name": "Python 3 (ipykernel)",
   "language": "python",
   "name": "python3"
  },
  "language_info": {
   "codemirror_mode": {
    "name": "ipython",
    "version": 3
   },
   "file_extension": ".py",
   "mimetype": "text/x-python",
   "name": "python",
   "nbconvert_exporter": "python",
   "pygments_lexer": "ipython3",
   "version": "3.10.6"
  }
 },
 "nbformat": 4,
 "nbformat_minor": 5
}
