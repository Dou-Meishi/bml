{
 "cells": [
  {
   "cell_type": "code",
   "execution_count": 1,
   "id": "8d7b4c06",
   "metadata": {
    "execution": {
     "iopub.execute_input": "2023-03-07T07:51:05.356011Z",
     "iopub.status.busy": "2023-03-07T07:51:05.354599Z",
     "iopub.status.idle": "2023-03-07T07:51:11.333691Z",
     "shell.execute_reply": "2023-03-07T07:51:11.332730Z"
    }
   },
   "outputs": [],
   "source": [
    "import math\n",
    "\n",
    "import numpy as np\n",
    "import matplotlib.pyplot as plt\n",
    "import pandas as pd\n",
    "import torch\n",
    "import tqdm\n",
    "import seaborn as sns"
   ]
  },
  {
   "cell_type": "code",
   "execution_count": 2,
   "id": "0d540d4e",
   "metadata": {
    "execution": {
     "iopub.execute_input": "2023-03-07T07:51:11.339933Z",
     "iopub.status.busy": "2023-03-07T07:51:11.338919Z",
     "iopub.status.idle": "2023-03-07T07:51:11.342419Z",
     "shell.execute_reply": "2023-03-07T07:51:11.341593Z"
    }
   },
   "outputs": [],
   "source": [
    "TENSORDTYPE = torch.float64\n",
    "DEVICE = 'cpu'\n",
    "LOGROOTDIR = './Plot-Figure1-v1'"
   ]
  },
  {
   "cell_type": "markdown",
   "id": "010ad479",
   "metadata": {},
   "source": [
    "All problem-specific functions accpet tensor arguments.\n",
    "\n",
    "Take $f(t,x,a)$ as an example. We assume its inputs $t, x$ and $a$ are tensors with at least 1 dimension. All dimensions except the last are regarded as batch dimensions and are equivalent in function bodies. The outputs follow this rule too. This means even the time input $t$ and the value $f(t,x,a)$ are both scalar in their definition, we force them to be tensors in shape (1,) too.\n",
    "\n",
    "We also adopt the sequence-first convention, which is standard in seq2seq training. Most Tensors have shape (T, M, D), where\n",
    "\n",
    "- T : time axis\n",
    "- M : batch axis\n",
    "- D : original dim of this quantity"
   ]
  },
  {
   "cell_type": "markdown",
   "id": "540bd6dd",
   "metadata": {},
   "source": [
    "# Helper Function"
   ]
  },
  {
   "cell_type": "code",
   "execution_count": 3,
   "id": "0f0aa860",
   "metadata": {
    "execution": {
     "iopub.execute_input": "2023-03-07T07:51:11.350032Z",
     "iopub.status.busy": "2023-03-07T07:51:11.348680Z",
     "iopub.status.idle": "2023-03-07T07:51:11.352056Z",
     "shell.execute_reply": "2023-03-07T07:51:11.351236Z"
    }
   },
   "outputs": [],
   "source": [
    "def re_cumsum(t, dim):\n",
    "    r'''torch.cumsum in reverse direction'''\n",
    "    return t + torch.sum(t, dim, keepdim=True) - torch.cumsum(t, dim)"
   ]
  },
  {
   "cell_type": "code",
   "execution_count": 4,
   "id": "fcc0cdd2",
   "metadata": {
    "execution": {
     "iopub.execute_input": "2023-03-07T07:51:11.358695Z",
     "iopub.status.busy": "2023-03-07T07:51:11.357601Z",
     "iopub.status.idle": "2023-03-07T07:51:11.360660Z",
     "shell.execute_reply": "2023-03-07T07:51:11.361642Z"
    }
   },
   "outputs": [],
   "source": [
    "def format_uncertainty(value, error):\n",
    "    digits = -int(math.floor(math.log10(error)))\n",
    "    return \"{0:.{2}f}({1:.0f})\".format(value, error*10**digits, digits)"
   ]
  },
  {
   "cell_type": "markdown",
   "id": "9e04e844",
   "metadata": {},
   "source": [
    "# Problem"
   ]
  },
  {
   "cell_type": "markdown",
   "id": "7b73b1d4",
   "metadata": {},
   "source": [
    "Solve the fully coupled FBSDE\n",
    "  \\begin{equation*}\n",
    "  \\left\\{\n",
    "  \\begin{aligned}\n",
    "    X_t &= x_0 + \\int_0^tb(s,X_s,Y_s,Z_s)\\,ds + \\int_0^t\\sigma(s,X_s,Y_s,Z_s)\\,dW_s,\\\\\n",
    "    Y_t &= g(X_T) + \\int_t^Tf(s,X_s,Y_s,Z_s)\\,ds - \\int_t^TZ_s\\,dW_s.\n",
    "  \\end{aligned}\n",
    "  \\right.\n",
    "  \\end{equation*}\n",
    "  Here, $X, Y, Z$ value in $\\mathbb{R}^n, \\mathbb{R}^m,\\mathbb{R}^{m\\times d}$."
   ]
  },
  {
   "cell_type": "markdown",
   "id": "1607ed64",
   "metadata": {},
   "source": [
    "# FBSDE"
   ]
  },
  {
   "cell_type": "code",
   "execution_count": 5,
   "id": "c65fd6c5",
   "metadata": {
    "execution": {
     "iopub.execute_input": "2023-03-07T07:51:11.372351Z",
     "iopub.status.busy": "2023-03-07T07:51:11.371308Z",
     "iopub.status.idle": "2023-03-07T07:51:11.375509Z",
     "shell.execute_reply": "2023-03-07T07:51:11.374290Z"
    }
   },
   "outputs": [],
   "source": [
    "class FBSDE_JiLQ5(object):\n",
    "    \n",
    "    def __init__(self, n=5):\n",
    "        self.H = 25\n",
    "        self.dt = 0.004\n",
    "        self.n = n\n",
    "        self.m = self.n\n",
    "        self.d = 1\n",
    "        \n",
    "        self.x0 = 1. * torch.ones(self.n).to(device=DEVICE, dtype=TENSORDTYPE)\n",
    "        \n",
    "    def b(self, t, x, y, z):\n",
    "        return -.25*x + .5*y + .5*z.squeeze(-1)\n",
    "    \n",
    "    def sigma(self, t, x, y, z):\n",
    "        return (.2*x + .5*y + .5*z.squeeze(-1)).unsqueeze(-1)\n",
    "    \n",
    "    def f(self, t, x, y, z):\n",
    "        return -.5*x - .25*y + .2*z.squeeze(-1)\n",
    "    \n",
    "    def g(self, x):\n",
    "        return -x"
   ]
  },
  {
   "cell_type": "code",
   "execution_count": 6,
   "id": "3da7c16b",
   "metadata": {
    "execution": {
     "iopub.execute_input": "2023-03-07T07:51:11.386995Z",
     "iopub.status.busy": "2023-03-07T07:51:11.385640Z",
     "iopub.status.idle": "2023-03-07T07:51:11.389888Z",
     "shell.execute_reply": "2023-03-07T07:51:11.388866Z"
    }
   },
   "outputs": [],
   "source": [
    "class FBSDE_JiLQ5_var(object):\n",
    "    \n",
    "    def __init__(self, n=5):\n",
    "        self.H = 25\n",
    "        self.dt = 0.004\n",
    "        self.n = n\n",
    "        self.m = self.n\n",
    "        self.d = 1\n",
    "        \n",
    "        self.x0 = 1. * torch.ones(self.n).to(device=DEVICE, dtype=TENSORDTYPE)\n",
    "        \n",
    "    def b(self, t, x, y, z):\n",
    "        return -.25*x + .5*y + .5*z.squeeze(-1)\n",
    "    \n",
    "    def sigma(self, t, x, y, z):\n",
    "        return (.2*x + .5*y + .5*z.squeeze(-1)).unsqueeze(-1)\n",
    "    \n",
    "    def f(self, t, x, y, z):\n",
    "        return -.5*x - .25*y + .2*z.squeeze(-1)\n",
    "    \n",
    "    def g(self, x):\n",
    "        return -(torch.ones(self.n) @ x.unsqueeze(-1)).squeeze(-1)"
   ]
  },
  {
   "cell_type": "markdown",
   "id": "85b9041a",
   "metadata": {},
   "source": [
    "# Network"
   ]
  },
  {
   "cell_type": "code",
   "execution_count": 7,
   "id": "fd49b5d1",
   "metadata": {
    "execution": {
     "iopub.execute_input": "2023-03-07T07:51:11.401624Z",
     "iopub.status.busy": "2023-03-07T07:51:11.401257Z",
     "iopub.status.idle": "2023-03-07T07:51:11.402725Z",
     "shell.execute_reply": "2023-03-07T07:51:11.402408Z"
    }
   },
   "outputs": [],
   "source": [
    "class YNet_FC2L(torch.nn.Module):\n",
    "    \n",
    "    def __init__(self, n, m, *, hidden_size):\n",
    "        super().__init__()\n",
    "        \n",
    "        self.fcnet = torch.nn.Sequential(\n",
    "            torch.nn.Linear(1+n, hidden_size, bias=True),\n",
    "            torch.nn.ReLU(),\n",
    "            torch.nn.Linear(hidden_size, m, bias=True)\n",
    "        )\n",
    "        \n",
    "        self.to(dtype=TENSORDTYPE, device=DEVICE)\n",
    "        \n",
    "    def forward(self, t, x):\n",
    "        z = torch.cat([t, x], dim=-1)\n",
    "        return self.fcnet(z)\n",
    "    \n",
    "    \n",
    "class ZNet_FC2L(torch.nn.Module):\n",
    "    \n",
    "    def __init__(self, n, m, d, *, hidden_size):\n",
    "        super().__init__()\n",
    "        self.m = m\n",
    "        self.d = d\n",
    "        \n",
    "        self.fcnet = torch.nn.Sequential(\n",
    "            torch.nn.Linear(1+n, hidden_size, bias=True),\n",
    "            torch.nn.ReLU(),\n",
    "            torch.nn.Linear(hidden_size, m*d, bias=True)\n",
    "        )\n",
    "        \n",
    "        self.to(dtype=TENSORDTYPE, device=DEVICE)\n",
    "        \n",
    "    def forward(self, t, x):\n",
    "        z = torch.cat([t, x], dim=-1)\n",
    "        return self.fcnet(z).view(*x.shape[:-1], self.m, self.d)"
   ]
  },
  {
   "cell_type": "markdown",
   "id": "16fda966",
   "metadata": {},
   "source": [
    "# Solver"
   ]
  },
  {
   "cell_type": "code",
   "execution_count": 8,
   "id": "fc1e38d1",
   "metadata": {
    "execution": {
     "iopub.execute_input": "2023-03-07T07:51:11.413742Z",
     "iopub.status.busy": "2023-03-07T07:51:11.413410Z",
     "iopub.status.idle": "2023-03-07T07:51:11.415473Z",
     "shell.execute_reply": "2023-03-07T07:51:11.415000Z"
    }
   },
   "outputs": [],
   "source": [
    "class FBSDE_BMLSolver(object):\n",
    "\n",
    "    def __init__(self, fbsde):\n",
    "        self.hidden_size = fbsde.n + 10\n",
    "        self.batch_size = 64\n",
    "        \n",
    "        self.fbsde = fbsde\n",
    "        self.ynet = YNet_FC2L(self.fbsde.n, self.fbsde.m, hidden_size=self.hidden_size)\n",
    "        self.znet = ZNet_FC2L(self.fbsde.n, self.fbsde.m, self.fbsde.d, hidden_size=self.hidden_size)\n",
    "        \n",
    "        self.track_X_grad = False\n",
    "        \n",
    "    def get_optimizer(self):\n",
    "        return torch.optim.Adam([\n",
    "            {'params': self.ynet.parameters(), 'lr': 5e-3,},\n",
    "            {'params': self.znet.parameters(), 'lr': 5e-3,}\n",
    "        ])\n",
    "        \n",
    "    def obtain_XYZ(self, t=None, dW=None):\n",
    "        if t is None:\n",
    "            t = torch.tensor([self.fbsde.dt*i for i in range(1+self.fbsde.H)], dtype=TENSORDTYPE, device=DEVICE).reshape(-1,1,1).expand(-1, self.batch_size, 1)\n",
    "        \n",
    "        if dW is None:\n",
    "            dW = torch.normal(0., np.sqrt(self.fbsde.dt), size=(self.fbsde.H, self.batch_size, self.fbsde.d), dtype=TENSORDTYPE, device=DEVICE)\n",
    "        \n",
    "        X = torch.empty(1+self.fbsde.H, dW.shape[1], self.fbsde.n, dtype=TENSORDTYPE, device=DEVICE)\n",
    "        Y = torch.empty(1+self.fbsde.H, dW.shape[1], self.fbsde.m, dtype=TENSORDTYPE, device=DEVICE)\n",
    "        Z = torch.empty(1+self.fbsde.H, dW.shape[1], self.fbsde.m, self.fbsde.d, dtype=TENSORDTYPE, device=DEVICE)\n",
    "        \n",
    "        X[0] = self.fbsde.x0\n",
    "        Y[0] = self.ynet(t[0], X[0])\n",
    "        Z[0] = self.znet(t[0], X[0])\n",
    "        for i in range(self.fbsde.H):\n",
    "            if self.track_X_grad is True:\n",
    "                X[i+1] = X[i] + self.fbsde.dt * self.fbsde.b(t[i], X[i], Y[i], Z[i]) + (self.fbsde.sigma(t[i], X[i], Y[i], Z[i]) @ dW[i].unsqueeze(-1)).squeeze(-1)\n",
    "            else:\n",
    "                with torch.no_grad():\n",
    "                    X[i+1] = X[i] + self.fbsde.dt * self.fbsde.b(t[i], X[i], Y[i], Z[i]) + (self.fbsde.sigma(t[i], X[i], Y[i], Z[i]) @ dW[i].unsqueeze(-1)).squeeze(-1)\n",
    "            Y[i+1] = self.ynet(t[i+1], X[i+1])\n",
    "            Z[i+1] = self.znet(t[i+1], X[i+1])\n",
    "        \n",
    "        return t, X, Y, Z, dW\n",
    "    \n",
    "    def calc_loss(self, t=None, dW=None, dirac=True):\n",
    "        t, X, Y, Z, dW = self.obtain_XYZ(t, dW)\n",
    "        if dirac:\n",
    "            error = Y[0] - (self.fbsde.g(X[-1]) + self.fbsde.dt * torch.sum(self.fbsde.f(t[:-1], X[:-1], Y[:-1], Z[:-1]), dim=0) - torch.sum(Z[:-1] @ dW.unsqueeze(-1), dim=0).squeeze(-1))\n",
    "            return torch.sum(error*error/dW.shape[1])\n",
    "        else:\n",
    "            error = Y[:-1] - (self.fbsde.g(X[-1:]) + self.fbsde.dt * re_cumsum(self.fbsde.f(t[:-1], X[:-1], Y[:-1], Z[:-1]), dim=0) - re_cumsum(Z[:-1] @ dW.unsqueeze(-1), dim=0).squeeze(-1))\n",
    "            return torch.sum(error/ dW.shape[1] * error * self.fbsde.dt)"
   ]
  },
  {
   "cell_type": "markdown",
   "id": "0ae8b427",
   "metadata": {},
   "source": [
    "# Train"
   ]
  },
  {
   "cell_type": "code",
   "execution_count": 9,
   "id": "ddc1f7fe",
   "metadata": {
    "execution": {
     "iopub.execute_input": "2023-03-07T07:51:11.436972Z",
     "iopub.status.busy": "2023-03-07T07:51:11.436163Z",
     "iopub.status.idle": "2023-03-07T07:51:11.637722Z",
     "shell.execute_reply": "2023-03-07T07:51:11.636374Z"
    }
   },
   "outputs": [],
   "source": [
    "solver = FBSDE_BMLSolver(FBSDE_JiLQ5())"
   ]
  },
  {
   "cell_type": "code",
   "execution_count": 10,
   "id": "e7249270",
   "metadata": {
    "execution": {
     "iopub.execute_input": "2023-03-07T07:51:11.646622Z",
     "iopub.status.busy": "2023-03-07T07:51:11.645783Z",
     "iopub.status.idle": "2023-03-07T07:51:30.676923Z",
     "shell.execute_reply": "2023-03-07T07:51:30.676490Z"
    }
   },
   "outputs": [
    {
     "name": "stderr",
     "output_type": "stream",
     "text": [
      "100%|██████████████████████████████████████| 2000/2000 [00:18<00:00, 105.47it/s]\n"
     ]
    }
   ],
   "source": [
    "optimizer = solver.get_optimizer()\n",
    "para_log = []\n",
    "\n",
    "solver.ynet.train()\n",
    "solver.znet.train()\n",
    "optimizer.zero_grad()\n",
    "for step in tqdm.trange(2000):\n",
    "    loss = solver.calc_loss(dirac=False)\n",
    "    \n",
    "    para_log.append({'step': step+1, 'loss': loss.item()})\n",
    "    \n",
    "    loss.backward()\n",
    "    optimizer.step()\n",
    "    optimizer.zero_grad()"
   ]
  },
  {
   "cell_type": "code",
   "execution_count": 11,
   "id": "f865c50b",
   "metadata": {
    "execution": {
     "iopub.execute_input": "2023-03-07T07:51:30.696112Z",
     "iopub.status.busy": "2023-03-07T07:51:30.695786Z",
     "iopub.status.idle": "2023-03-07T07:51:30.697852Z",
     "shell.execute_reply": "2023-03-07T07:51:30.697535Z"
    }
   },
   "outputs": [],
   "source": [
    "para_log = pd.DataFrame(para_log)"
   ]
  },
  {
   "cell_type": "code",
   "execution_count": 12,
   "id": "88e698c1",
   "metadata": {
    "execution": {
     "iopub.execute_input": "2023-03-07T07:51:30.716971Z",
     "iopub.status.busy": "2023-03-07T07:51:30.709343Z",
     "iopub.status.idle": "2023-03-07T07:51:31.467116Z",
     "shell.execute_reply": "2023-03-07T07:51:31.467378Z"
    }
   },
   "outputs": [
    {
     "data": {
      "image/png": "[encoded data removed]",
      "text/plain": [
       "<Figure size 432x288 with 1 Axes>"
      ]
     },
     "metadata": {
      "needs_background": "light"
     },
     "output_type": "display_data"
    }
   ],
   "source": [
    "plt.plot(para_log.step, para_log.loss)\n",
    "plt.yscale('log')"
   ]
  },
  {
   "cell_type": "code",
   "execution_count": 13,
   "id": "7a68c555",
   "metadata": {
    "execution": {
     "iopub.execute_input": "2023-03-07T07:51:31.470157Z",
     "iopub.status.busy": "2023-03-07T07:51:31.469623Z",
     "iopub.status.idle": "2023-03-07T07:51:31.515320Z",
     "shell.execute_reply": "2023-03-07T07:51:31.514854Z"
    }
   },
   "outputs": [],
   "source": [
    "solver.batch_size = 512\n",
    "t, X, Y, Z, dW = solver.obtain_XYZ()"
   ]
  },
  {
   "cell_type": "code",
   "execution_count": 14,
   "id": "df409f1e",
   "metadata": {
    "execution": {
     "iopub.execute_input": "2023-03-07T07:51:31.518762Z",
     "iopub.status.busy": "2023-03-07T07:51:31.518261Z",
     "iopub.status.idle": "2023-03-07T07:51:31.520722Z",
     "shell.execute_reply": "2023-03-07T07:51:31.521135Z"
    }
   },
   "outputs": [],
   "source": [
    "cost = .5 * torch.sum(X[-1] * X[-1], dim=-1) + solver.fbsde.dt * torch.sum(.25 * X[:-1] * X[:-1] + .25 * (Y[:-1] + Z[:-1].squeeze(-1)) * (Y[:-1] + Z[:-1].squeeze(-1)), dim=-1).sum(0)"
   ]
  },
  {
   "cell_type": "code",
   "execution_count": 15,
   "id": "015f49ae",
   "metadata": {
    "execution": {
     "iopub.execute_input": "2023-03-07T07:51:31.523509Z",
     "iopub.status.busy": "2023-03-07T07:51:31.523175Z",
     "iopub.status.idle": "2023-03-07T07:51:31.525224Z",
     "shell.execute_reply": "2023-03-07T07:51:31.525488Z"
    }
   },
   "outputs": [
    {
     "name": "stdout",
     "output_type": "stream",
     "text": [
      "2.4073595402702916\n"
     ]
    }
   ],
   "source": [
    "print(format(cost.mean().item()))"
   ]
  },
  {
   "cell_type": "code",
   "execution_count": 16,
   "id": "f1628924",
   "metadata": {
    "execution": {
     "iopub.execute_input": "2023-03-07T07:51:31.527631Z",
     "iopub.status.busy": "2023-03-07T07:51:31.526715Z",
     "iopub.status.idle": "2023-03-07T07:51:31.532919Z",
     "shell.execute_reply": "2023-03-07T07:51:31.533174Z"
    }
   },
   "outputs": [
    {
     "data": {
      "text/plain": [
       "'-0.962(2)'"
      ]
     },
     "execution_count": 16,
     "metadata": {},
     "output_type": "execute_result"
    }
   ],
   "source": [
    "format_uncertainty(Y[0].mean().item(), Y[0].std().item())"
   ]
  },
  {
   "cell_type": "code",
   "execution_count": 17,
   "id": "62898fb1",
   "metadata": {
    "execution": {
     "iopub.execute_input": "2023-03-07T07:51:31.539121Z",
     "iopub.status.busy": "2023-03-07T07:51:31.538785Z",
     "iopub.status.idle": "2023-03-07T07:54:16.574282Z",
     "shell.execute_reply": "2023-03-07T07:54:16.573966Z"
    }
   },
   "outputs": [
    {
     "name": "stderr",
     "output_type": "stream",
     "text": [
      "100%|██████████████████████████████████████| 2000/2000 [00:18<00:00, 110.14it/s]\n",
      "100%|██████████████████████████████████████| 2000/2000 [00:18<00:00, 110.10it/s]\n",
      "100%|██████████████████████████████████████| 2000/2000 [00:18<00:00, 110.51it/s]\n",
      "100%|██████████████████████████████████████| 2000/2000 [00:18<00:00, 109.97it/s]\n",
      "100%|██████████████████████████████████████| 2000/2000 [00:18<00:00, 109.89it/s]\n",
      "100%|██████████████████████████████████████| 2000/2000 [00:18<00:00, 109.99it/s]\n",
      "100%|██████████████████████████████████████| 2000/2000 [00:18<00:00, 106.29it/s]\n",
      "100%|██████████████████████████████████████| 2000/2000 [00:19<00:00, 104.98it/s]\n",
      "100%|██████████████████████████████████████| 2000/2000 [00:18<00:00, 110.72it/s]\n"
     ]
    }
   ],
   "source": [
    "logs = []\n",
    "for _ in range(9):\n",
    "    _solver = FBSDE_BMLSolver(FBSDE_JiLQ5())\n",
    "    optimizer = _solver.get_optimizer()\n",
    "\n",
    "    _solver.ynet.train()\n",
    "    _solver.znet.train()\n",
    "    optimizer.zero_grad()\n",
    "    for step in tqdm.trange(2000):\n",
    "        loss = _solver.calc_loss(dirac=False)\n",
    "        loss.backward()\n",
    "        optimizer.step()\n",
    "        optimizer.zero_grad()\n",
    "    _solver.batch_size = 512\n",
    "    t, X, Y, Z, dW = _solver.obtain_XYZ()\n",
    "    logs.append({\n",
    "        'cost': (.5 * torch.sum(X[-1] * X[-1], dim=-1) + solver.fbsde.dt * torch.sum(.25 * X[:-1] * X[:-1] + .25 * (Y[:-1] + Z[:-1].squeeze(-1)) * (Y[:-1] + Z[:-1].squeeze(-1)), dim=-1).sum(0)).mean().item(),\n",
    "        'p0': Y[0].mean().item(),\n",
    "    })"
   ]
  },
  {
   "cell_type": "code",
   "execution_count": 18,
   "id": "ae89b642",
   "metadata": {
    "execution": {
     "iopub.execute_input": "2023-03-07T07:54:16.577951Z",
     "iopub.status.busy": "2023-03-07T07:54:16.577595Z",
     "iopub.status.idle": "2023-03-07T07:54:16.579333Z",
     "shell.execute_reply": "2023-03-07T07:54:16.579633Z"
    }
   },
   "outputs": [
    {
     "name": "stdout",
     "output_type": "stream",
     "text": [
      "cost:  2.39(2)\n",
      "$p_0$ -0.9599(6)\n"
     ]
    }
   ],
   "source": [
    "logs = pd.DataFrame(logs)\n",
    "print(\"cost: \", format_uncertainty(logs.cost.mean(), logs.cost.std()))\n",
    "print(r\"$p_0$\", format_uncertainty(logs.p0.mean(), logs.p0.std()))"
   ]
  }
 ],
 "metadata": {
  "kernelspec": {
   "display_name": "Python 3 (ipykernel)",
   "language": "python",
   "name": "python3"
  },
  "language_info": {
   "codemirror_mode": {
    "name": "ipython",
    "version": 3
   },
   "file_extension": ".py",
   "mimetype": "text/x-python",
   "name": "python",
   "nbconvert_exporter": "python",
   "pygments_lexer": "ipython3",
   "version": "3.8.10"
  }
 },
 "nbformat": 4,
 "nbformat_minor": 5
}
