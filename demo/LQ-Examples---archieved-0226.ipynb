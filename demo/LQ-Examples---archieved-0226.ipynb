{
 "cells": [
  {
   "cell_type": "code",
   "execution_count": 1,
   "id": "7aa92c72",
   "metadata": {},
   "outputs": [],
   "source": [
    "import numpy as np\n",
    "import matplotlib.pyplot as plt\n",
    "import pandas as pd\n",
    "import torch\n",
    "import tqdm\n",
    "import seaborn as sns"
   ]
  },
  {
   "cell_type": "code",
   "execution_count": 2,
   "id": "e8638fdb",
   "metadata": {},
   "outputs": [],
   "source": [
    "TENSORDTYPE = torch.float64\n",
    "DEVICE = 'cpu'\n",
    "LOGROOTDIR = './Plot-Figure1-v1'"
   ]
  },
  {
   "cell_type": "markdown",
   "id": "587b620e",
   "metadata": {},
   "source": [
    "All problem-specific functions accpet tensor arguments.\n",
    "\n",
    "Take $f(t,x,a)$ as an example. We assume its inputs $t, x$ and $a$ are tensors with at least 1 dimension. All dimensions except the last are regarded as batch dimensions and are equivalent in function bodies. The outputs follow this rule too. This means even the time input $t$ and the value $f(t,x,a)$ are both scalar in their definition, we force them to be tensors in shape (1,) too.\n",
    "\n",
    "We also adopt the sequence-first convention, which is standard in seq2seq training. Most Tensors have shape (T, M, D), where\n",
    "\n",
    "- T : time axis\n",
    "- M : batch axis\n",
    "- D : original dim of this quantity"
   ]
  },
  {
   "cell_type": "markdown",
   "id": "a1f63b4b",
   "metadata": {},
   "source": [
    "# Problem"
   ]
  },
  {
   "cell_type": "markdown",
   "id": "9bcd6eab",
   "metadata": {},
   "source": [
    "Solve the fully coupled FBSDE\n",
    "  \\begin{equation*}\n",
    "  \\left\\{\n",
    "  \\begin{aligned}\n",
    "    X_t &= x_0 + \\int_0^tb(s,X_s,Y_s,Z_s)\\,ds + \\int_0^t\\sigma(s,X_s,Y_s,Z_s)\\,dW_s,\\\\\n",
    "    Y_t &= g(X_T) + \\int_t^Tf(s,X_s,Y_s,Z_s)\\,ds - \\int_t^TZ_s\\,dW_s.\n",
    "  \\end{aligned}\n",
    "  \\right.\n",
    "  \\end{equation*}\n",
    "  Here, $X, Y, Z$ value in $\\mathbb{R}^n, \\mathbb{R}^m,\\mathbb{R}^{m\\times d}$."
   ]
  },
  {
   "cell_type": "code",
   "execution_count": 3,
   "id": "35960319",
   "metadata": {},
   "outputs": [],
   "source": [
    "class FBSDE_Example1(object):\n",
    "    \n",
    "    def __init__(self):\n",
    "        self.H = 25\n",
    "        self.dt = 0.004\n",
    "        self.n = 100\n",
    "        self.m = 100\n",
    "        self.d = 1\n",
    "        \n",
    "        self.x0 = 1. * torch.ones(self.n).to(device=DEVICE, dtype=TENSORDTYPE)\n",
    "        \n",
    "    def b(self, t, x, y, z):\n",
    "        return -.25*x + .5*y + .5*z.squeeze(-1)\n",
    "    \n",
    "    def sigma(self, t, x, y, z):\n",
    "        return (.2*x + .5*y + .5*z.squeeze(-1)).unsqueeze(-1)\n",
    "    \n",
    "    def f(self, t, x, y, z):\n",
    "        return -.5*x - .25*y + .2*z.squeeze(-1)\n",
    "    \n",
    "    def g(self, x):\n",
    "        return -x"
   ]
  },
  {
   "cell_type": "code",
   "execution_count": 4,
   "id": "21d64096",
   "metadata": {},
   "outputs": [],
   "source": [
    "class YNet_Example1(torch.nn.Module):\n",
    "    \n",
    "    def __init__(self, n, m, *, hidden_size):\n",
    "        super().__init__()\n",
    "        \n",
    "        self.fcnet = torch.nn.Sequential(\n",
    "            torch.nn.Linear(1+n, hidden_size, bias=True),\n",
    "            torch.nn.ReLU(),\n",
    "            torch.nn.Linear(hidden_size, m, bias=True)\n",
    "        )\n",
    "        \n",
    "        self.to(dtype=TENSORDTYPE, device=DEVICE)\n",
    "        \n",
    "    def forward(self, t, x):\n",
    "        z = torch.cat([t, x], dim=-1)\n",
    "        return self.fcnet(z)\n",
    "    \n",
    "    \n",
    "class ZNet_Example1(torch.nn.Module):\n",
    "    \n",
    "    def __init__(self, n, m, d, *, hidden_size):\n",
    "        super().__init__()\n",
    "        self.m = m\n",
    "        self.d = d\n",
    "        \n",
    "        self.fcnet = torch.nn.Sequential(\n",
    "            torch.nn.Linear(1+n, hidden_size, bias=True),\n",
    "            torch.nn.ReLU(),\n",
    "            torch.nn.Linear(hidden_size, m*d, bias=True)\n",
    "        )\n",
    "        \n",
    "        self.to(dtype=TENSORDTYPE, device=DEVICE)\n",
    "        \n",
    "    def forward(self, t, x):\n",
    "        z = torch.cat([t, x], dim=-1)\n",
    "        return self.fcnet(z).view(*x.shape[:-1], self.m, self.d)"
   ]
  },
  {
   "cell_type": "code",
   "execution_count": 5,
   "id": "c97bee3b",
   "metadata": {},
   "outputs": [],
   "source": [
    "class Example1_Solver(object):\n",
    "\n",
    "    def __init__(self):\n",
    "        self.hidden_size = 20\n",
    "        self.batch_size = 512\n",
    "        \n",
    "        self.fbsde = FBSDE_Example1()\n",
    "        self.ynet = YNet_Example1(self.fbsde.n, self.fbsde.m, hidden_size=self.hidden_size)\n",
    "        self.znet = ZNet_Example1(self.fbsde.n, self.fbsde.m, self.fbsde.d, hidden_size=self.hidden_size)\n",
    "        \n",
    "        self.track_X_grad = False\n",
    "        \n",
    "    def get_optimizer(self):\n",
    "        return torch.optim.Adam([\n",
    "            {'params': self.ynet.parameters(), 'lr': 5e-3,},\n",
    "            {'params': self.znet.parameters(), 'lr': 5e-3,}\n",
    "        ])\n",
    "        \n",
    "    def obtain_XYZ(self, t=None, dW=None):\n",
    "        if t is None:\n",
    "            t = torch.tensor([self.fbsde.dt*i for i in range(1+self.fbsde.H)], dtype=TENSORDTYPE, device=DEVICE).reshape(-1,1,1).expand(-1, self.batch_size, 1)\n",
    "        \n",
    "        if dW is None:\n",
    "            dW = torch.normal(0., np.sqrt(self.fbsde.dt), size=(self.fbsde.H, self.batch_size, self.fbsde.d), dtype=TENSORDTYPE, device=DEVICE)\n",
    "        \n",
    "        X = torch.empty(1+self.fbsde.H, self.batch_size, self.fbsde.n, dtype=TENSORDTYPE, device=DEVICE)\n",
    "        Y = torch.empty(1+self.fbsde.H, self.batch_size, self.fbsde.m, dtype=TENSORDTYPE, device=DEVICE)\n",
    "        Z = torch.empty(1+self.fbsde.H, self.batch_size, self.fbsde.m, self.fbsde.d, dtype=TENSORDTYPE, device=DEVICE)\n",
    "        \n",
    "        X[0] = self.fbsde.x0\n",
    "        Y[0] = self.ynet(t[0], X[0])\n",
    "        Z[0] = self.znet(t[0], X[0])\n",
    "        for i in range(self.fbsde.H):\n",
    "            if self.track_X_grad is True:\n",
    "                X[i+1] = X[i] + self.fbsde.dt * self.fbsde.b(t[i], X[i], Y[i], Z[i]) + (self.fbsde.sigma(t[i], X[i], Y[i], Z[i]) @ dW[i].unsqueeze(-1)).squeeze(-1)\n",
    "            else:\n",
    "                with torch.no_grad():\n",
    "                    X[i+1] = X[i] + self.fbsde.dt * self.fbsde.b(t[i], X[i], Y[i], Z[i]) + (self.fbsde.sigma(t[i], X[i], Y[i], Z[i]) @ dW[i].unsqueeze(-1)).squeeze(-1)\n",
    "            Y[i+1] = self.ynet(t[i+1], X[i+1])\n",
    "            Z[i+1] = self.znet(t[i+1], X[i+1])\n",
    "        \n",
    "        return t, X, Y, Z, dW\n",
    "    \n",
    "    def calc_loss(self, t=None, dW=None, dirac=True, track_X_grad=False):\n",
    "        t, X, Y, Z, dW = self.obtain_XYZ(t, dW)\n",
    "        if dirac:\n",
    "            error = Y[0] - (self.fbsde.g(X[-1]) + self.fbsde.dt * torch.sum(self.fbsde.f(t[:-1], X[:-1], Y[:-1], Z[:-1]), dim=0) - torch.sum(Z[:-1] @ dW.unsqueeze(-1), dim=0).squeeze(-1))\n",
    "            return torch.sum(error*error/self.batch_size)\n",
    "        else:\n",
    "            raise ValueError(\"Not implemented! Please use dirac=True.\")    "
   ]
  },
  {
   "cell_type": "code",
   "execution_count": 6,
   "id": "b7d6d588",
   "metadata": {},
   "outputs": [],
   "source": [
    "solver1 = Example1_Solver()"
   ]
  },
  {
   "cell_type": "code",
   "execution_count": 7,
   "id": "0cb8d3b7",
   "metadata": {},
   "outputs": [
    {
     "name": "stderr",
     "output_type": "stream",
     "text": [
      "100%|██████████| 2000/2000 [07:47<00:00,  4.28it/s]\n"
     ]
    }
   ],
   "source": [
    "optimizer = solver1.get_optimizer()\n",
    "para_log = []\n",
    "\n",
    "solver1.ynet.train()\n",
    "solver1.znet.train()\n",
    "optimizer.zero_grad()\n",
    "for step in tqdm.trange(2000):\n",
    "    loss = solver1.calc_loss()\n",
    "    \n",
    "    para_log.append({'step': step+1, 'loss': loss.item()})\n",
    "    \n",
    "    loss.backward()\n",
    "    optimizer.step()\n",
    "    optimizer.zero_grad()"
   ]
  },
  {
   "cell_type": "code",
   "execution_count": 8,
   "id": "6edd1524",
   "metadata": {},
   "outputs": [],
   "source": [
    "para_log = pd.DataFrame(para_log)"
   ]
  },
  {
   "cell_type": "code",
   "execution_count": 9,
   "id": "2bd0fd22",
   "metadata": {},
   "outputs": [
    {
     "data": {
      "image/png": "[encoded data removed]",
      "text/plain": [
       "<Figure size 432x288 with 1 Axes>"
      ]
     },
     "metadata": {
      "needs_background": "light"
     },
     "output_type": "display_data"
    }
   ],
   "source": [
    "plt.plot(para_log.step, para_log.loss)\n",
    "plt.yscale('log')"
   ]
  },
  {
   "cell_type": "code",
   "execution_count": 12,
   "id": "26ceffed",
   "metadata": {},
   "outputs": [],
   "source": [
    "t, X, Y, Z, dW = solver1.obtain_XYZ()"
   ]
  },
  {
   "cell_type": "code",
   "execution_count": 13,
   "id": "92f66014",
   "metadata": {},
   "outputs": [
    {
     "data": {
      "text/plain": [
       "tensor(-0.9581, dtype=torch.float64, grad_fn=<MeanBackward0>)"
      ]
     },
     "execution_count": 13,
     "metadata": {},
     "output_type": "execute_result"
    }
   ],
   "source": [
    "Y[0].mean()"
   ]
  }
 ],
 "metadata": {
  "kernelspec": {
   "display_name": "Python 3 (ipykernel)",
   "language": "python",
   "name": "python3"
  },
  "language_info": {
   "codemirror_mode": {
    "name": "ipython",
    "version": 3
   },
   "file_extension": ".py",
   "mimetype": "text/x-python",
   "name": "python",
   "nbconvert_exporter": "python",
   "pygments_lexer": "ipython3",
   "version": "3.8.10"
  }
 },
 "nbformat": 4,
 "nbformat_minor": 5
}
