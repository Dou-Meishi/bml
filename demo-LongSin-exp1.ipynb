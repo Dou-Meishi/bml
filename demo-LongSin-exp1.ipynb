{
 "cells": [
  {
   "cell_type": "code",
   "execution_count": 1,
   "id": "0021ac09",
   "metadata": {},
   "outputs": [],
   "source": [
    "import math\n",
    "import time\n",
    "import itertools\n",
    "import functools\n",
    "import os\n",
    "\n",
    "import numpy as np\n",
    "import matplotlib.pyplot as plt\n",
    "import pandas as pd\n",
    "import torch\n",
    "import tqdm\n",
    "import seaborn as sns\n",
    "\n",
    "# local files\n",
    "from yznets import *\n"
   ]
  },
  {
   "cell_type": "code",
   "execution_count": 2,
   "id": "48a8a54f",
   "metadata": {},
   "outputs": [],
   "source": [
    "TENSORDTYPE = torch.float64\n",
    "DEVICE = 'cpu'\n",
    "LOGROOTDIR = './outputs'"
   ]
  },
  {
   "cell_type": "markdown",
   "id": "9ee450c9",
   "metadata": {},
   "source": [
    "All problem-specific functions accpet tensor arguments.\n",
    "\n",
    "Take $f(t,x,a)$ as an example. We assume its inputs $t, x$ and $a$ are tensors with at least 1 dimension. All dimensions except the last are regarded as batch dimensions and are equivalent in function bodies. The outputs follow this rule too. This means even the time input $t$ and the value $f(t,x,a)$ are both scalar in their definition, we force them to be tensors in shape (1,) too.\n",
    "\n",
    "We also adopt the sequence-first convention, which is standard in seq2seq training. Most Tensors have shape (T, M, D), where\n",
    "\n",
    "- T : time axis\n",
    "- M : batch axis\n",
    "- D : original dim of this quantity"
   ]
  },
  {
   "cell_type": "markdown",
   "id": "3f928a69",
   "metadata": {},
   "source": [
    "# Helper Function"
   ]
  },
  {
   "cell_type": "code",
   "execution_count": 3,
   "id": "680671b9",
   "metadata": {},
   "outputs": [],
   "source": [
    "def re_cumsum(t, dim):\n",
    "    r'''torch.cumsum in reverse direction'''\n",
    "    return t + torch.sum(t, dim, keepdim=True) - torch.cumsum(t, dim)"
   ]
  },
  {
   "cell_type": "code",
   "execution_count": 4,
   "id": "84878ead",
   "metadata": {},
   "outputs": [],
   "source": [
    "def format_uncertainty(value, error, sig_fig=2):\n",
    "    if error <= 0 or error >= value: return f\"{value:.2G} ± {error:.2G}\"\n",
    "    digits = -math.floor(math.log10(error)) + sig_fig - 1\n",
    "    if digits < sig_fig: return f\"{value:.2G} ± {error:.2G}\"\n",
    "    return \"{0:.{2}f}({1:.0f})\".format(value, error*10**digits, digits)"
   ]
  },
  {
   "cell_type": "code",
   "execution_count": 5,
   "id": "165f84e3",
   "metadata": {},
   "outputs": [],
   "source": [
    "def time_dir():\n",
    "    return time.strftime(\"%y%m%d-%H%M\", time.localtime())"
   ]
  },
  {
   "cell_type": "markdown",
   "id": "523cb6ac",
   "metadata": {},
   "source": [
    "# Problem"
   ]
  },
  {
   "cell_type": "markdown",
   "id": "39568e4f",
   "metadata": {},
   "source": [
    "Solve the fully coupled FBSDE\n",
    "\\begin{equation*}\n",
    "\\left\\{\n",
    "\\begin{aligned}\n",
    "  X_t &= x_0 + \\int_0^tb(s,X_s,Y_s,Z_s)\\,ds + \\int_0^t\\sigma(s,X_s,Y_s,Z_s)\\,dW_s,\\\\\n",
    "  Y_t &= g(X_T) + \\int_t^Tf(s,X_s,Y_s,Z_s)\\,ds - \\int_t^TZ_s\\,dW_s.\n",
    "\\end{aligned}\n",
    "\\right.\n",
    "\\end{equation*}\n",
    "Here, $X, Y, Z$ value in $\\mathbb{R}^n, \\mathbb{R}^m,\\mathbb{R}^{m\\times d}$."
   ]
  },
  {
   "cell_type": "markdown",
   "id": "89dd8b31",
   "metadata": {},
   "source": [
    "# FBSDE"
   ]
  },
  {
   "cell_type": "code",
   "execution_count": 6,
   "id": "6699b653",
   "metadata": {},
   "outputs": [],
   "source": [
    "class FBSDE_LongSin(object):\n",
    "    \n",
    "    def __init__(self, n=4):\n",
    "        self.H = 50\n",
    "        self.T = 1.0\n",
    "        self.n = n\n",
    "        self.m = 1\n",
    "        self.d = self.n\n",
    "        \n",
    "        self.r = 0.\n",
    "        self.sigma_0 = 0.4\n",
    "        \n",
    "        self.x0 = .5*np.pi*torch.ones(self.n).to(device=DEVICE, dtype=TENSORDTYPE)\n",
    "        \n",
    "    @property\n",
    "    def dt(self):\n",
    "        return self.T/self.H\n",
    "        \n",
    "    def b(self, t, x, y, z):\n",
    "        return 0.*x\n",
    "    \n",
    "    def sigma(self, t, x, y, z):\n",
    "        return self.sigma_0 * y.unsqueeze(-1) * torch.eye(self.d).to(device=DEVICE, dtype=TENSORDTYPE)\n",
    "    \n",
    "    def f(self, t, x, y, z):\n",
    "        return -self.r*y + .5*torch.exp(-3*self.r*(self.dt*self.H-t))*self.sigma_0**2*(10/self.n*torch.sum(torch.sin(x), dim=-1, keepdim=True))**3\n",
    "    \n",
    "    def g(self, x):\n",
    "        return 10/self.n*torch.sum(torch.sin(x), dim=-1, keepdim=True)\n",
    "    \n",
    "    def get_Y(self, t, x):\n",
    "        return 10/self.n*torch.exp(-self.r*(self.dt*self.H-t))*torch.sum(torch.sin(x), dim=-1, keepdim=True)\n",
    "    \n",
    "    def get_Z(self, t, x):\n",
    "        return self.sigma_0*100/self.n**2*(torch.exp(-2*self.r*(self.dt*self.H-t))*torch.sum(torch.sin(x), dim=-1, keepdim=True)*torch.cos(x)).unsqueeze(-2)"
   ]
  },
  {
   "cell_type": "code",
   "execution_count": null,
   "id": "722e162d",
   "metadata": {},
   "outputs": [],
   "source": []
  },
  {
   "cell_type": "markdown",
   "id": "b47c2981",
   "metadata": {},
   "source": [
    "# Solver"
   ]
  },
  {
   "cell_type": "code",
   "execution_count": 7,
   "id": "01807613",
   "metadata": {},
   "outputs": [],
   "source": [
    "class FBSDE_BMLSolver(object):\n",
    "\n",
    "    def __init__(self, fbsde, dirac=False):\n",
    "        self.hidden_size = min(64, 1<<math.ceil(math.log2(fbsde.n+10)))\n",
    "        self.batch_size = 512\n",
    "        \n",
    "        self.fbsde = fbsde\n",
    "        self.ynet = YNet_FC3L(self.fbsde.n, self.fbsde.m, hidden_size=self.hidden_size).to(dtype=TENSORDTYPE, device=DEVICE)\n",
    "        self.znet = ZNet_FC3L(self.fbsde.n, self.fbsde.m, self.fbsde.d, hidden_size=self.hidden_size).to(dtype=TENSORDTYPE, device=DEVICE)\n",
    "        \n",
    "        self.track_X_grad = False\n",
    "        self.dirac = dirac\n",
    "        self.y_lr = 5e-3\n",
    "        self.z_lr = 5e-3\n",
    "        \n",
    "    def set_parameter(self, name, value):\n",
    "        if hasattr(self, name):\n",
    "            setattr(self, name, value)\n",
    "        elif hasattr(self.fbsde, name):\n",
    "            setattr(self.fbsde, name, value)\n",
    "        else:\n",
    "            raise ValueError(f\"{name} is not a proper parameter\")\n",
    "        \n",
    "    def get_optimizer(self):\n",
    "        return torch.optim.Adam([\n",
    "            {'params': self.ynet.parameters(), 'lr': self.y_lr,},\n",
    "            {'params': self.znet.parameters(), 'lr': self.z_lr,}\n",
    "        ])\n",
    "        \n",
    "    def obtain_XYZ(self, t=None, dW=None):\n",
    "        if t is None:\n",
    "            t = torch.tensor([self.fbsde.dt*i for i in range(1+self.fbsde.H)], dtype=TENSORDTYPE, device=DEVICE).reshape(-1,1,1).expand(-1, self.batch_size, 1)\n",
    "        \n",
    "        if dW is None:\n",
    "            dW = torch.normal(0., np.sqrt(self.fbsde.dt), size=(self.fbsde.H, self.batch_size, self.fbsde.d), dtype=TENSORDTYPE, device=DEVICE)\n",
    "        \n",
    "        X = torch.empty(1+self.fbsde.H, dW.shape[1], self.fbsde.n, dtype=TENSORDTYPE, device=DEVICE)\n",
    "        Y = torch.empty(1+self.fbsde.H, dW.shape[1], self.fbsde.m, dtype=TENSORDTYPE, device=DEVICE)\n",
    "        Z = torch.empty(1+self.fbsde.H, dW.shape[1], self.fbsde.m, self.fbsde.d, dtype=TENSORDTYPE, device=DEVICE)\n",
    "        \n",
    "        X[0] = self.fbsde.x0\n",
    "        Y[0] = self.ynet(t[0], X[0])\n",
    "        Z[0] = self.znet(t[0], X[0])\n",
    "        for i in range(self.fbsde.H):\n",
    "            if self.track_X_grad is True:\n",
    "                X[i+1] = X[i] + self.fbsde.dt * self.fbsde.b(t[i], X[i], Y[i], Z[i]) + (self.fbsde.sigma(t[i], X[i], Y[i], Z[i]) @ dW[i].unsqueeze(-1)).squeeze(-1)\n",
    "            else:\n",
    "                with torch.no_grad():\n",
    "                    X[i+1] = X[i] + self.fbsde.dt * self.fbsde.b(t[i], X[i], Y[i], Z[i]) + (self.fbsde.sigma(t[i], X[i], Y[i], Z[i]) @ dW[i].unsqueeze(-1)).squeeze(-1)\n",
    "            Y[i+1] = self.ynet(t[i+1], X[i+1])\n",
    "            Z[i+1] = self.znet(t[i+1], X[i+1])\n",
    "        \n",
    "        return t, X, Y, Z, dW\n",
    "    \n",
    "    def calc_loss(self, *, dirac=None, txyzw=None):   \n",
    "        t, X, Y, Z, dW = self.obtain_XYZ() if txyzw is None else txyzw\n",
    "        dirac = self.dirac if dirac is None else dirac\n",
    "        \n",
    "        if dirac is True:\n",
    "            error = Y[0] - (self.fbsde.g(X[-1]) + self.fbsde.dt * torch.sum(self.fbsde.f(t[:-1], X[:-1], Y[:-1], Z[:-1]), dim=0) - torch.sum(Z[:-1] @ dW.unsqueeze(-1), dim=0).squeeze(-1))\n",
    "            return torch.sum(error*error/dW.shape[1])\n",
    "        else:\n",
    "            error = Y[:-1] - (self.fbsde.g(X[-1:]) + self.fbsde.dt * re_cumsum(self.fbsde.f(t[:-1], X[:-1], Y[:-1], Z[:-1]), dim=0) - re_cumsum(Z[:-1] @ dW.unsqueeze(-1), dim=0).squeeze(-1))\n",
    "            if dirac is False:\n",
    "                return (error*error).mean()\n",
    "            elif isinstance(dirac, float):\n",
    "               # weight = torch.exp(-dirac*t[:-1]/self.fbsde.dt)*(1-np.exp(-dirac))/(1-np.exp(-dirac*t.shape[0]))\n",
    "                return torch.sum(error/ dW.shape[1] * error * self._get_weight(dirac, t.shape[0]-1).view(*([-1] + [1]*(len(t.shape)-1))))\n",
    "            else:\n",
    "                raise ValueError(f\"Unknown dirac value={dirac}\")\n",
    "         \n",
    "    @functools.lru_cache(maxsize=None)\n",
    "    def _get_weight(self, gamma, N):\n",
    "        return (1-np.exp(-gamma))/(1-np.exp(-gamma*N))*torch.exp(-gamma*torch.arange(N)).to(dtype=TENSORDTYPE, device=DEVICE)\n",
    "    \n",
    "    def calc_metric_y0(self):\n",
    "        r'''assume initial time is 0.'''\n",
    "        t0 = torch.zeros(1, 1, 1).to(dtype=TENSORDTYPE, device=DEVICE)\n",
    "        x0 = self.fbsde.x0.view(1, 1, -1)\n",
    "        pred_y0 = self.ynet(t0, x0).flatten()[0].item()\n",
    "        true_y0 = self.fbsde.get_Y(t0, x0).flatten()[0].item()\n",
    "        return pred_y0, abs(pred_y0/true_y0 -1.)*100\n",
    "    \n",
    "    def calc_metric_z0(self):\n",
    "        r'''assume initial time is 0.'''\n",
    "        t0 = torch.zeros(1, 1, 1).to(dtype=TENSORDTYPE, device=DEVICE)\n",
    "        x0 = self.fbsde.x0.view(1, 1, -1)\n",
    "        pred_z0 = self.znet(t0, x0).flatten()[0].item()\n",
    "        true_z0 = self.fbsde.get_Z(t0, x0).flatten()[0].item()\n",
    "        return pred_z0, abs(pred_z0/true_z0 - 1.)*100"
   ]
  },
  {
   "cell_type": "markdown",
   "id": "e86e0445",
   "metadata": {},
   "source": [
    "# Benchmark of Func calc_loss"
   ]
  },
  {
   "cell_type": "code",
   "execution_count": 8,
   "id": "8163e751",
   "metadata": {},
   "outputs": [],
   "source": [
    "test_solver = FBSDE_BMLSolver(FBSDE_LongSin(n=4))\n",
    "with torch.no_grad():\n",
    "    t, X, Y, Z, dW = test_solver.obtain_XYZ()\n",
    "    \n",
    "test_solver.set_parameter('sigma_0', 0.4)\n",
    "test_solver.set_parameter('r', .0)\n",
    "test_solver.set_parameter('H', 50)\n",
    "\n",
    "terminal_error = test_solver.fbsde.g(X[-1]).squeeze() - X[-1].sin().sum(dim=-1)*10/test_solver.fbsde.d\n",
    "running_error = test_solver.fbsde.f(t[:-1], X[:-1], Y[:-1], Z[:-1]) - (-test_solver.fbsde.r*Y[:-1]+.5*torch.exp(-3*test_solver.fbsde.r*(test_solver.fbsde.dt*test_solver.fbsde.H-t[:-1]))*test_solver.fbsde.sigma_0**2*(X[:-1].sin().sum(dim=-1, keepdim=True)*10/test_solver.fbsde.d)**3)\n",
    "martingale_error = (Z[:-1] @ dW.unsqueeze(-1)).squeeze() - torch.sum(Z[:-1].squeeze(-2)*dW,dim=-1)\n",
    "\n",
    "assert terminal_error.abs().max() < 1e-12\n",
    "assert running_error.abs().max() < 1e-12\n",
    "assert martingale_error.abs().max() < 1e-12"
   ]
  },
  {
   "cell_type": "markdown",
   "id": "4215c10b",
   "metadata": {},
   "source": [
    "# Loss of True Solutions"
   ]
  },
  {
   "cell_type": "code",
   "execution_count": 9,
   "id": "ebef3ea6",
   "metadata": {},
   "outputs": [
    {
     "name": "stderr",
     "output_type": "stream",
     "text": [
      "100%|██████████| 10/10 [00:00<00:00, 51.21it/s]"
     ]
    },
    {
     "name": "stdout",
     "output_type": "stream",
     "text": [
      "δ-BML:  3.82(22)\n",
      "μ-BML:  0.559(50)\n",
      "γ-BML:  1.026(71)\n"
     ]
    },
    {
     "name": "stderr",
     "output_type": "stream",
     "text": [
      "\n"
     ]
    }
   ],
   "source": [
    "optimal_solver = FBSDE_BMLSolver(FBSDE_LongSin(n=4))\n",
    "optimal_solver.ynet = optimal_solver.fbsde.get_Y\n",
    "optimal_solver.znet = optimal_solver.fbsde.get_Z\n",
    "\n",
    "optimal_solver.set_parameter('sigma_0', 0.4)\n",
    "optimal_solver.set_parameter('r', .0)\n",
    "optimal_solver.set_parameter('H', 50)\n",
    "\n",
    "dirac_loss, lambd_loss, gamma_loss = [], [], []\n",
    "for _ in tqdm.trange(10):\n",
    "    t, X, Y, Z, dW = optimal_solver.obtain_XYZ()\n",
    "    dirac_loss.append(optimal_solver.calc_loss(dirac=True, txyzw=(t, X, Y, Z, dW)).item())\n",
    "    lambd_loss.append(optimal_solver.calc_loss(dirac=False, txyzw=(t, X, Y, Z, dW)).item())\n",
    "    gamma_loss.append(optimal_solver.calc_loss(dirac=0.05, txyzw=(t, X, Y, Z, dW)).item())\n",
    "\n",
    "print(\"δ-BML: \", format_uncertainty(np.mean(dirac_loss), np.std(dirac_loss)))\n",
    "print(\"μ-BML: \", format_uncertainty(np.mean(lambd_loss), np.std(lambd_loss)))\n",
    "print(\"γ-BML: \", format_uncertainty(np.mean(gamma_loss), np.std(gamma_loss)))"
   ]
  },
  {
   "cell_type": "markdown",
   "id": "52ffea9b",
   "metadata": {},
   "source": [
    "# Train"
   ]
  },
  {
   "cell_type": "code",
   "execution_count": 10,
   "id": "813a9d97",
   "metadata": {},
   "outputs": [],
   "source": [
    "def solve_LongSin(n, *, repeat=10, max_steps=2000, **solver_kws):\n",
    "    tab_logs, fig_logs = [], []\n",
    "    for epi in range(repeat):\n",
    "        _solver = FBSDE_BMLSolver(FBSDE_LongSin(n=n))\n",
    "        \n",
    "        for k in solver_kws:\n",
    "            _solver.set_parameter(k, solver_kws[k])\n",
    "        \n",
    "        optimizer = _solver.get_optimizer()\n",
    "        \n",
    "        _solver.ynet.train()\n",
    "        _solver.znet.train()\n",
    "        optimizer.zero_grad()\n",
    "        \n",
    "        pbar = tqdm.trange(max_steps, leave=(epi==repeat-1))\n",
    "        pbar.set_description(f\"REP: [{epi+1}/{repeat}]\")\n",
    "        for step in pbar:\n",
    "            loss = _solver.calc_loss()\n",
    "            \n",
    "            fig_logs.append({\n",
    "                'epi': epi,\n",
    "                'step': step,\n",
    "                'loss': loss.item(),\n",
    "            })\n",
    "            \n",
    "            loss.backward()\n",
    "            optimizer.step()\n",
    "            optimizer.zero_grad()\n",
    "            \n",
    "        _solver.ynet.eval()\n",
    "        _solver.znet.eval()\n",
    "        _solver.batch_size = 512\n",
    "        with torch.no_grad():\n",
    "            pred_y0, relative_error_y0 = _solver.calc_metric_y0()\n",
    "            pred_z0, relative_error_z0 = _solver.calc_metric_z0()\n",
    "        \n",
    "        tab_logs.append({\n",
    "            'epi': epi,\n",
    "            'Y0': pred_y0,\n",
    "            'Err Y0': relative_error_y0,\n",
    "            'Z0': pred_z0,\n",
    "            'Err Z0': relative_error_z0,\n",
    "        })\n",
    "\n",
    "    return tab_logs, fig_logs"
   ]
  },
  {
   "cell_type": "markdown",
   "id": "0aa6f8d2",
   "metadata": {},
   "source": [
    "## Search Hyperparameters"
   ]
  },
  {
   "cell_type": "code",
   "execution_count": 11,
   "id": "5645b0ac",
   "metadata": {},
   "outputs": [],
   "source": [
    "log_dir = os.path.join(LOGROOTDIR, time_dir())\n",
    "os.makedirs(log_dir, exist_ok=False)\n",
    "\n",
    "os.makedirs(os.path.join(log_dir, \"tab_logs\"))\n",
    "os.makedirs(os.path.join(log_dir, \"fig_logs\"))\n",
    "os.makedirs(os.path.join(log_dir, \"args_df\"))"
   ]
  },
  {
   "cell_type": "code",
   "execution_count": 12,
   "id": "a853e35e",
   "metadata": {},
   "outputs": [
    {
     "name": "stdout",
     "output_type": "stream",
     "text": [
      "EXP: [1/3]\n"
     ]
    },
    {
     "name": "stderr",
     "output_type": "stream",
     "text": [
      "REP: [2/2]: 100%|██████████| 200/200 [00:09<00:00, 21.89it/s]\n"
     ]
    },
    {
     "name": "stdout",
     "output_type": "stream",
     "text": [
      "EXP: [2/3]\n"
     ]
    },
    {
     "name": "stderr",
     "output_type": "stream",
     "text": [
      "REP: [2/2]: 100%|██████████| 200/200 [00:09<00:00, 21.61it/s]\n"
     ]
    },
    {
     "name": "stdout",
     "output_type": "stream",
     "text": [
      "EXP: [3/3]\n"
     ]
    },
    {
     "name": "stderr",
     "output_type": "stream",
     "text": [
      "REP: [2/2]: 100%|██████████| 200/200 [00:09<00:00, 21.33it/s]\n"
     ]
    }
   ],
   "source": [
    "STATEDIM = 4\n",
    "REPEATNUM = 2          # number of repeating an experiment\n",
    "MAXSTEPS = 200        # max gradient steps\n",
    "\n",
    "search_mesh = {\n",
    "    'dirac': [False, True, 0.05], #, True],\n",
    "    'y_lr': [5e-2], #, 5e-4, 5e-5],\n",
    "    'z_lr': [5e-2],\n",
    "    'batch_size': [512], #, 1024],\n",
    "\n",
    "    'r': [0.],\n",
    "    'sigma_0': [0.4],\n",
    "    'H': [50],\n",
    "}\n",
    "\n",
    "args_set = list(itertools.product(*search_mesh.values()))\n",
    "for i, args in enumerate(args_set):\n",
    "    args = dict(zip(search_mesh.keys(), args))\n",
    "    if abs(np.log10(args['y_lr']/args['z_lr'])) > 1.9:\n",
    "        continue\n",
    "    \n",
    "    print(f\"EXP: [{i+1}/{len(args_set)}]\")\n",
    "    tab_logs, fig_logs = solve_LongSin(n=STATEDIM, repeat=REPEATNUM, max_steps=MAXSTEPS, **args)\n",
    "\n",
    "    args_df = pd.DataFrame(tab_logs).drop(columns=['epi']).agg(lambda arr: format_uncertainty(np.mean(arr), np.std(arr))).to_frame().T\n",
    "\n",
    "    pd.DataFrame(fig_logs).to_csv(os.path.join(log_dir, \"fig_logs\", f\"{i}.csv\"), index=False)\n",
    "    pd.DataFrame(tab_logs).to_csv(os.path.join(log_dir, \"tab_logs\", f\"{i}.csv\"), index=False)\n",
    "    pd.concat([pd.DataFrame([args]), args_df], axis=1).to_csv(os.path.join(log_dir, \"args_df\", f\"{i}.csv\"), index=False)"
   ]
  },
  {
   "cell_type": "markdown",
   "id": "9e519992",
   "metadata": {},
   "source": [
    "## Result Analysis"
   ]
  },
  {
   "cell_type": "code",
   "execution_count": 13,
   "id": "17ef56aa",
   "metadata": {},
   "outputs": [
    {
     "name": "stdout",
     "output_type": "stream",
     "text": [
      "   index  args  dirac  y_lr  z_lr  batch_size    r  sigma_0   H          Y0  \\\n",
      "0      0     0  False  0.05  0.05         512  0.0      0.4  50  10.531(26)   \n",
      "1      0     1   True  0.05  0.05         512  0.0      0.4  50   8.425(31)   \n",
      "2      0     2   0.05  0.05  0.05         512  0.0      0.4  50   10.64(11)   \n",
      "\n",
      "      Err Y0            Z0             Err Z0  \n",
      "0   5.31(26)  -0.23 ± 0.58  9.4E+16 ± 3.8E+16  \n",
      "1  15.75(31)    -1.6 ± 1.3  2.6E+17 ± 2.1E+17  \n",
      "2  6.4 ± 1.1     0.638(65)    1E+17 ± 1.1E+16  \n"
     ]
    }
   ],
   "source": [
    "args_df = [pd.read_csv(os.path.join(log_dir, \"args_df\", f\"{i}.csv\")) for i in range(len(args_set))]\n",
    "args_df = pd.concat(args_df, keys=range(len(args_set)), names=['args']).reset_index(level='args')\n",
    "args_df.to_csv(os.path.join(log_dir, \"args_df.csv\"), index=False)\n",
    "print(pd.DataFrame(args_df).reset_index())"
   ]
  },
  {
   "cell_type": "code",
   "execution_count": 14,
   "id": "09b50962",
   "metadata": {},
   "outputs": [],
   "source": [
    "fig_logs = [pd.read_csv(os.path.join(log_dir, \"fig_logs\", f\"{i}.csv\")) for i in range(len(args_set))]\n",
    "fig_logs = pd.concat(fig_logs, keys=range(len(args_set)), names=['args']).reset_index(level='args')"
   ]
  },
  {
   "cell_type": "code",
   "execution_count": 15,
   "id": "e57dbbce",
   "metadata": {},
   "outputs": [
    {
     "data": {
      "image/png": "[encoded data removed]",
      "text/plain": [
       "<Figure size 907.2x259.2 with 3 Axes>"
      ]
     },
     "metadata": {
      "needs_background": "light"
     },
     "output_type": "display_data"
    }
   ],
   "source": [
    "r_figs = 3\n",
    "c_figs = math.ceil(len(args_set)/r_figs)\n",
    "fig, axes = plt.subplots(c_figs, r_figs, figsize=(4.2*r_figs, 3.6*c_figs))\n",
    "if c_figs == 1:\n",
    "    axes = axes.reshape(1, -1)\n",
    "\n",
    "fig_logs_gb = fig_logs.groupby('args')\n",
    "\n",
    "for i, j in itertools.product(range(c_figs), range(r_figs)):\n",
    "    if  i*r_figs + j >= len(args_set):\n",
    "        break\n",
    "    sns.lineplot(data=fig_logs_gb.get_group(i*r_figs+j), x='step', y='loss', ax=axes[i,j], errorbar=('ci', 68))\n",
    "    axes[i,j].set_yscale('log')"
   ]
  },
  {
   "cell_type": "code",
   "execution_count": 16,
   "id": "1c6b96c4",
   "metadata": {},
   "outputs": [
    {
     "name": "stdout",
     "output_type": "stream",
     "text": [
      "fig.pdf saved to ./outputs/230317-1020\n"
     ]
    }
   ],
   "source": [
    "fig.savefig(os.path.join(log_dir, \"fig.pdf\"))\n",
    "print(f\"fig.pdf saved to {log_dir}\")"
   ]
  },
  {
   "cell_type": "code",
   "execution_count": 17,
   "id": "13018b6b",
   "metadata": {},
   "outputs": [
    {
     "name": "stdout",
     "output_type": "stream",
     "text": [
      "Finished at 230317-1021\n"
     ]
    }
   ],
   "source": [
    "print(f\"Finished at {time_dir()}\")"
   ]
  }
 ],
 "metadata": {
  "kernelspec": {
   "display_name": "Python 3 (ipykernel)",
   "language": "python",
   "name": "python3"
  },
  "language_info": {
   "codemirror_mode": {
    "name": "ipython",
    "version": 3
   },
   "file_extension": ".py",
   "mimetype": "text/x-python",
   "name": "python",
   "nbconvert_exporter": "python",
   "pygments_lexer": "ipython3",
   "version": "3.8.10"
  },
  "toc": {
   "base_numbering": 1,
   "nav_menu": {},
   "number_sections": false,
   "sideBar": true,
   "skip_h1_title": false,
   "title_cell": "Table of Contents",
   "title_sidebar": "Contents",
   "toc_cell": false,
   "toc_position": {},
   "toc_section_display": true,
   "toc_window_display": true
  }
 },
 "nbformat": 4,
 "nbformat_minor": 5
}
