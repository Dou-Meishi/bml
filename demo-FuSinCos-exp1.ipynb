{
 "cells": [
  {
   "cell_type": "code",
   "execution_count": 1,
   "id": "18695016",
   "metadata": {
    "execution": {
     "iopub.execute_input": "2023-03-16T15:13:22.577355Z",
     "iopub.status.busy": "2023-03-16T15:13:22.576948Z",
     "iopub.status.idle": "2023-03-16T15:13:23.460163Z",
     "shell.execute_reply": "2023-03-16T15:13:23.459827Z"
    }
   },
   "outputs": [],
   "source": [
    "import math\n",
    "import time\n",
    "import itertools\n",
    "import functools\n",
    "import os\n",
    "\n",
    "import numpy as np\n",
    "import matplotlib.pyplot as plt\n",
    "import pandas as pd\n",
    "import torch\n",
    "import tqdm\n",
    "import seaborn as sns\n",
    "\n",
    "# local files\n",
    "from yznets import *\n"
   ]
  },
  {
   "cell_type": "code",
   "execution_count": 2,
   "id": "bca0af3d",
   "metadata": {
    "execution": {
     "iopub.execute_input": "2023-03-16T15:13:23.462769Z",
     "iopub.status.busy": "2023-03-16T15:13:23.462457Z",
     "iopub.status.idle": "2023-03-16T15:13:23.463995Z",
     "shell.execute_reply": "2023-03-16T15:13:23.463740Z"
    }
   },
   "outputs": [],
   "source": [
    "TENSORDTYPE = torch.float64\n",
    "DEVICE = 'cpu'\n",
    "LOGROOTDIR = './outputs'"
   ]
  },
  {
   "cell_type": "markdown",
   "id": "e9f7de05",
   "metadata": {},
   "source": [
    "All problem-specific functions accpet tensor arguments.\n",
    "\n",
    "Take $f(t,x,a)$ as an example. We assume its inputs $t, x$ and $a$ are tensors with at least 1 dimension. All dimensions except the last are regarded as batch dimensions and are equivalent in function bodies. The outputs follow this rule too. This means even the time input $t$ and the value $f(t,x,a)$ are both scalar in their definition, we force them to be tensors in shape (1,) too.\n",
    "\n",
    "We also adopt the sequence-first convention, which is standard in seq2seq training. Most Tensors have shape (T, M, D), where\n",
    "\n",
    "- T : time axis\n",
    "- M : batch axis\n",
    "- D : original dim of this quantity"
   ]
  },
  {
   "cell_type": "markdown",
   "id": "5efce22a",
   "metadata": {},
   "source": [
    "# Helper Function"
   ]
  },
  {
   "cell_type": "code",
   "execution_count": 3,
   "id": "193bdb67",
   "metadata": {
    "execution": {
     "iopub.execute_input": "2023-03-16T15:13:23.466705Z",
     "iopub.status.busy": "2023-03-16T15:13:23.466398Z",
     "iopub.status.idle": "2023-03-16T15:13:23.468114Z",
     "shell.execute_reply": "2023-03-16T15:13:23.467789Z"
    }
   },
   "outputs": [],
   "source": [
    "def re_cumsum(t, dim):\n",
    "    r'''torch.cumsum in reverse direction'''\n",
    "    return t + torch.sum(t, dim, keepdim=True) - torch.cumsum(t, dim)"
   ]
  },
  {
   "cell_type": "code",
   "execution_count": 4,
   "id": "1a183ae7",
   "metadata": {
    "execution": {
     "iopub.execute_input": "2023-03-16T15:13:23.470938Z",
     "iopub.status.busy": "2023-03-16T15:13:23.470623Z",
     "iopub.status.idle": "2023-03-16T15:13:23.471963Z",
     "shell.execute_reply": "2023-03-16T15:13:23.472204Z"
    }
   },
   "outputs": [],
   "source": [
    "def format_uncertainty(value, error, sig_fig=2):\n",
    "    if error <= 0 or error >= value: return f\"{value:.2G} ± {error:.2G}\"\n",
    "    digits = -math.floor(math.log10(error)) + sig_fig - 1\n",
    "    if digits < sig_fig: return f\"{value:.2G} ± {error:.2G}\"\n",
    "    return \"{0:.{2}f}({1:.0f})\".format(value, error*10**digits, digits)"
   ]
  },
  {
   "cell_type": "code",
   "execution_count": 5,
   "id": "d512b118",
   "metadata": {
    "execution": {
     "iopub.execute_input": "2023-03-16T15:13:23.474218Z",
     "iopub.status.busy": "2023-03-16T15:13:23.473451Z",
     "iopub.status.idle": "2023-03-16T15:13:23.475867Z",
     "shell.execute_reply": "2023-03-16T15:13:23.475549Z"
    }
   },
   "outputs": [],
   "source": [
    "def time_dir():\n",
    "    return time.strftime(\"%y%m%d-%H%M\", time.localtime())"
   ]
  },
  {
   "cell_type": "markdown",
   "id": "a888d327",
   "metadata": {},
   "source": [
    "# Problem"
   ]
  },
  {
   "cell_type": "markdown",
   "id": "3acbcdf4",
   "metadata": {},
   "source": [
    "Solve the fully coupled FBSDE\n",
    "\\begin{equation*}\n",
    "\\left\\{\n",
    "\\begin{aligned}\n",
    "  X_t &= x_0 + \\int_0^tb(s,X_s,Y_s,Z_s)\\,ds + \\int_0^t\\sigma(s,X_s,Y_s,Z_s)\\,dW_s,\\\\\n",
    "  Y_t &= g(X_T) + \\int_t^Tf(s,X_s,Y_s,Z_s)\\,ds - \\int_t^TZ_s\\,dW_s.\n",
    "\\end{aligned}\n",
    "\\right.\n",
    "\\end{equation*}\n",
    "Here, $X, Y, Z$ value in $\\mathbb{R}^n, \\mathbb{R}^m,\\mathbb{R}^{m\\times d}$."
   ]
  },
  {
   "cell_type": "markdown",
   "id": "022b3f94",
   "metadata": {},
   "source": [
    "# FBSDE"
   ]
  },
  {
   "cell_type": "code",
   "execution_count": 6,
   "id": "07b80e2c",
   "metadata": {
    "execution": {
     "iopub.execute_input": "2023-03-16T15:13:23.480755Z",
     "iopub.status.busy": "2023-03-16T15:13:23.480434Z",
     "iopub.status.idle": "2023-03-16T15:13:23.482167Z",
     "shell.execute_reply": "2023-03-16T15:13:23.481912Z"
    }
   },
   "outputs": [],
   "source": [
    "class FBSDE_FuSinCos(object):\n",
    "    \n",
    "    def __init__(self, n=1):\n",
    "        assert n==1, \"FuSinCos allow only n=1\"\n",
    "\n",
    "        self.H = 25\n",
    "        self.T = 1.0\n",
    "        self.n = 1\n",
    "        self.m = 1\n",
    "        self.d = 1\n",
    "\n",
    "        self.x0 = torch.ones(self.n).to(device=DEVICE, dtype=TENSORDTYPE)\n",
    "        \n",
    "    @property\n",
    "    def dt(self):\n",
    "        return self.T/self.H\n",
    "        \n",
    "    def b(self, t, x, y, z):\n",
    "        return -.25*torch.sin(2*(t+x))*(y*y+z.squeeze(-1))\n",
    "\n",
    "    def sigma(self, t, x, y, z):\n",
    "        return (.5*torch.cos(t+x)*(y*torch.sin(t+x)+z.squeeze(-1)+1)).unsqueeze(-1)\n",
    "    \n",
    "    def f(self, t, x, y, z):\n",
    "        return y*z.squeeze(-1)-torch.cos(t+x)\n",
    "\n",
    "    def g(self, x):\n",
    "        return torch.sin(self.T+x)\n",
    "    \n",
    "    def get_Y(self, t, x):\n",
    "        return torch.sin(t+x)\n",
    "    \n",
    "    def get_Z(self, t, x):\n",
    "        return torch.cos(t+x).unsqueeze(-1)"
   ]
  },
  {
   "cell_type": "code",
   "execution_count": null,
   "id": "6c600323",
   "metadata": {},
   "outputs": [],
   "source": []
  },
  {
   "cell_type": "markdown",
   "id": "1257b26a",
   "metadata": {},
   "source": [
    "# Solver"
   ]
  },
  {
   "cell_type": "code",
   "execution_count": 7,
   "id": "2225c4db",
   "metadata": {
    "execution": {
     "iopub.execute_input": "2023-03-16T15:13:23.497673Z",
     "iopub.status.busy": "2023-03-16T15:13:23.497326Z",
     "iopub.status.idle": "2023-03-16T15:13:23.498891Z",
     "shell.execute_reply": "2023-03-16T15:13:23.498617Z"
    }
   },
   "outputs": [],
   "source": [
    "class FBSDE_BMLSolver(object):\n",
    "\n",
    "    def __init__(self, fbsde, dirac=False):\n",
    "        self.hidden_size = fbsde.n + 10\n",
    "        self.batch_size = 512\n",
    "        \n",
    "        self.fbsde = fbsde\n",
    "        self.ynet = YNet_FC3L(self.fbsde.n, self.fbsde.m, hidden_size=self.hidden_size).to(dtype=TENSORDTYPE, device=DEVICE)\n",
    "        self.znet = ZNet_FC3L(self.fbsde.n, self.fbsde.m, self.fbsde.d, hidden_size=self.hidden_size).to(dtype=TENSORDTYPE, device=DEVICE)\n",
    "        \n",
    "        self.track_X_grad = False\n",
    "        self.dirac = dirac\n",
    "        self.y_lr = 5e-3\n",
    "        self.z_lr = 5e-3\n",
    "        \n",
    "    def set_parameter(self, name, value):\n",
    "        if hasattr(self, name):\n",
    "            setattr(self, name, value)\n",
    "        elif hasattr(self.fbsde, name):\n",
    "            setattr(self.fbsde, name, value)\n",
    "        else:\n",
    "            raise ValueError(f\"{name} is not a proper parameter\")\n",
    "        \n",
    "    def get_optimizer(self):\n",
    "        return torch.optim.Adam([\n",
    "            {'params': self.ynet.parameters(), 'lr': self.y_lr,},\n",
    "            {'params': self.znet.parameters(), 'lr': self.z_lr,}\n",
    "        ])\n",
    "        \n",
    "    def obtain_XYZ(self, t=None, dW=None):\n",
    "        if t is None:\n",
    "            t = torch.tensor([self.fbsde.dt*i for i in range(1+self.fbsde.H)], dtype=TENSORDTYPE, device=DEVICE).reshape(-1,1,1).expand(-1, self.batch_size, 1)\n",
    "        \n",
    "        if dW is None:\n",
    "            dW = torch.normal(0., np.sqrt(self.fbsde.dt), size=(self.fbsde.H, self.batch_size, self.fbsde.d), dtype=TENSORDTYPE, device=DEVICE)\n",
    "        \n",
    "        X = torch.empty(1+self.fbsde.H, dW.shape[1], self.fbsde.n, dtype=TENSORDTYPE, device=DEVICE)\n",
    "        Y = torch.empty(1+self.fbsde.H, dW.shape[1], self.fbsde.m, dtype=TENSORDTYPE, device=DEVICE)\n",
    "        Z = torch.empty(1+self.fbsde.H, dW.shape[1], self.fbsde.m, self.fbsde.d, dtype=TENSORDTYPE, device=DEVICE)\n",
    "        \n",
    "        X[0] = self.fbsde.x0\n",
    "        Y[0] = self.ynet(t[0], X[0])\n",
    "        Z[0] = self.znet(t[0], X[0])\n",
    "        for i in range(self.fbsde.H):\n",
    "            if self.track_X_grad is True:\n",
    "                X[i+1] = X[i] + self.fbsde.dt * self.fbsde.b(t[i], X[i], Y[i], Z[i]) + (self.fbsde.sigma(t[i], X[i], Y[i], Z[i]) @ dW[i].unsqueeze(-1)).squeeze(-1)\n",
    "            else:\n",
    "                with torch.no_grad():\n",
    "                    X[i+1] = X[i] + self.fbsde.dt * self.fbsde.b(t[i], X[i], Y[i], Z[i]) + (self.fbsde.sigma(t[i], X[i], Y[i], Z[i]) @ dW[i].unsqueeze(-1)).squeeze(-1)\n",
    "            Y[i+1] = self.ynet(t[i+1], X[i+1])\n",
    "            Z[i+1] = self.znet(t[i+1], X[i+1])\n",
    "        \n",
    "        return t, X, Y, Z, dW\n",
    "    \n",
    "    def calc_loss(self, *, dirac=None, txyzw=None):   \n",
    "        t, X, Y, Z, dW = self.obtain_XYZ() if txyzw is None else txyzw\n",
    "        dirac = self.dirac if dirac is None else dirac\n",
    "        \n",
    "        if dirac is True:\n",
    "            error = Y[0] - (self.fbsde.g(X[-1]) + self.fbsde.dt * torch.sum(self.fbsde.f(t[:-1], X[:-1], Y[:-1], Z[:-1]), dim=0) - torch.sum(Z[:-1] @ dW.unsqueeze(-1), dim=0).squeeze(-1))\n",
    "            return torch.sum(error*error/dW.shape[1])\n",
    "        else:\n",
    "            error = Y[:-1] - (self.fbsde.g(X[-1:]) + self.fbsde.dt * re_cumsum(self.fbsde.f(t[:-1], X[:-1], Y[:-1], Z[:-1]), dim=0) - re_cumsum(Z[:-1] @ dW.unsqueeze(-1), dim=0).squeeze(-1))\n",
    "            if dirac is False:\n",
    "                return (error*error).mean()\n",
    "            elif isinstance(dirac, float):\n",
    "               # weight = torch.exp(-dirac*t[:-1]/self.fbsde.dt)*(1-np.exp(-dirac))/(1-np.exp(-dirac*t.shape[0]))\n",
    "                return torch.sum(error/ dW.shape[1] * error * self._get_weight(dirac, t.shape[0]-1).view(*([-1] + [1]*(len(t.shape)-1))))\n",
    "            else:\n",
    "                raise ValueError(f\"Unknown dirac value={dirac}\")\n",
    "         \n",
    "    @functools.lru_cache(maxsize=None)\n",
    "    def _get_weight(self, gamma, N):\n",
    "        return (1-np.exp(-gamma))/(1-np.exp(-gamma*N))*torch.exp(-gamma*torch.arange(N)).to(dtype=TENSORDTYPE, device=DEVICE)\n",
    "    \n",
    "    def calc_metric_y0(self):\n",
    "        r'''assume initial time is 0.'''\n",
    "        t0 = torch.zeros(1, 1, 1).to(dtype=TENSORDTYPE, device=DEVICE)\n",
    "        x0 = self.fbsde.x0.view(1, 1, -1)\n",
    "        pred_y0 = self.ynet(t0, x0).flatten()[0].item()\n",
    "        true_y0 = self.fbsde.get_Y(t0, x0).flatten()[0].item()\n",
    "        return pred_y0, abs(pred_y0/true_y0 -1.)*100\n",
    "    \n",
    "    def calc_metric_z0(self):\n",
    "        r'''assume initial time is 0.'''\n",
    "        t0 = torch.zeros(1, 1, 1).to(dtype=TENSORDTYPE, device=DEVICE)\n",
    "        x0 = self.fbsde.x0.view(1, 1, -1)\n",
    "        pred_z0 = self.znet(t0, x0).flatten()[0].item()\n",
    "        true_z0 = self.fbsde.get_Z(t0, x0).flatten()[0].item()\n",
    "        return pred_z0, abs(pred_z0/true_z0 - 1.)*100"
   ]
  },
  {
   "cell_type": "markdown",
   "id": "649529cd",
   "metadata": {},
   "source": [
    "# Benchmark of Func calc_loss"
   ]
  },
  {
   "cell_type": "code",
   "execution_count": 8,
   "id": "92775645",
   "metadata": {
    "execution": {
     "iopub.execute_input": "2023-03-16T15:13:23.502867Z",
     "iopub.status.busy": "2023-03-16T15:13:23.502552Z",
     "iopub.status.idle": "2023-03-16T15:13:23.534253Z",
     "shell.execute_reply": "2023-03-16T15:13:23.533918Z"
    }
   },
   "outputs": [],
   "source": [
    "test_solver = FBSDE_BMLSolver(FBSDE_FuSinCos())\n",
    "with torch.no_grad():\n",
    "    t, X, Y, Z, dW = test_solver.obtain_XYZ()\n",
    "\n",
    "terminal_error = test_solver.fbsde.g(X[-1]).squeeze() - torch.sin(test_solver.fbsde.T+X[-1]).squeeze()\n",
    "running_error = test_solver.fbsde.f(t[:-1], X[:-1], Y[:-1], Z[:-1]) - (Y[:-1]*(Z[:-1].squeeze(-1))-torch.cos(t[:-1]+X[:-1]))\n",
    "martingale_error = (Z[:-1] @ dW.unsqueeze(-1)).squeeze() - torch.sum(Z[:-1].squeeze(-2)*dW,dim=-1)\n",
    "\n",
    "assert terminal_error.abs().max() < 1e-12\n",
    "assert running_error.abs().max() < 1e-12\n",
    "assert martingale_error.abs().max() < 1e-12"
   ]
  },
  {
   "cell_type": "markdown",
   "id": "c017e2e6",
   "metadata": {},
   "source": [
    "# Loss of True Solutions"
   ]
  },
  {
   "cell_type": "code",
   "execution_count": 9,
   "id": "b9cc0e32",
   "metadata": {
    "execution": {
     "iopub.execute_input": "2023-03-16T15:13:23.538630Z",
     "iopub.status.busy": "2023-03-16T15:13:23.538255Z",
     "iopub.status.idle": "2023-03-16T15:13:23.582683Z",
     "shell.execute_reply": "2023-03-16T15:13:23.582982Z"
    }
   },
   "outputs": [
    {
     "name": "stderr",
     "output_type": "stream",
     "text": [
      "100%|██████████| 10/10 [00:00<00:00, 206.69it/s]"
     ]
    },
    {
     "name": "stdout",
     "output_type": "stream",
     "text": [
      "δ-BML:  0.132(11)\n",
      "μ-BML:  0.0852(73)\n",
      "γ-BML:  0.0953(82)\n"
     ]
    },
    {
     "name": "stderr",
     "output_type": "stream",
     "text": [
      "\n"
     ]
    }
   ],
   "source": [
    "optimal_solver = FBSDE_BMLSolver(FBSDE_FuSinCos())\n",
    "optimal_solver.ynet = optimal_solver.fbsde.get_Y\n",
    "optimal_solver.znet = optimal_solver.fbsde.get_Z\n",
    "\n",
    "optimal_solver.set_parameter('H', 25)\n",
    "optimal_solver.set_parameter('T', 1.)\n",
    "\n",
    "dirac_loss, lambd_loss, gamma_loss = [], [], []\n",
    "for _ in tqdm.trange(10):\n",
    "    t, X, Y, Z, dW = optimal_solver.obtain_XYZ()\n",
    "    dirac_loss.append(optimal_solver.calc_loss(dirac=True, txyzw=(t, X, Y, Z, dW)).item())\n",
    "    lambd_loss.append(optimal_solver.calc_loss(dirac=False, txyzw=(t, X, Y, Z, dW)).item())\n",
    "    gamma_loss.append(optimal_solver.calc_loss(dirac=0.05, txyzw=(t, X, Y, Z, dW)).item())\n",
    "\n",
    "print(\"δ-BML: \", format_uncertainty(np.mean(dirac_loss), np.std(dirac_loss)))\n",
    "print(\"μ-BML: \", format_uncertainty(np.mean(lambd_loss), np.std(lambd_loss)))\n",
    "print(\"γ-BML: \", format_uncertainty(np.mean(gamma_loss), np.std(gamma_loss)))"
   ]
  },
  {
   "cell_type": "markdown",
   "id": "937cd6ec",
   "metadata": {},
   "source": [
    "# Train"
   ]
  },
  {
   "cell_type": "code",
   "execution_count": 10,
   "id": "12b2c667",
   "metadata": {
    "execution": {
     "iopub.execute_input": "2023-03-16T15:13:23.587851Z",
     "iopub.status.busy": "2023-03-16T15:13:23.587483Z",
     "iopub.status.idle": "2023-03-16T15:13:23.589075Z",
     "shell.execute_reply": "2023-03-16T15:13:23.588752Z"
    }
   },
   "outputs": [],
   "source": [
    "def solve_FuSinCos(n, *, repeat=10, max_steps=2000, **solver_kws):\n",
    "\n",
    "    tab_logs, fig_logs = [], []\n",
    "    for epi in range(repeat):\n",
    "        _solver = FBSDE_BMLSolver(FBSDE_FuSinCos(n=n))\n",
    "        \n",
    "        for k in solver_kws:\n",
    "            _solver.set_parameter(k, solver_kws[k])\n",
    "        \n",
    "        optimizer = _solver.get_optimizer()\n",
    "        \n",
    "        _solver.ynet.train()\n",
    "        _solver.znet.train()\n",
    "        optimizer.zero_grad()\n",
    "        \n",
    "        pbar = tqdm.trange(max_steps, leave=(epi==repeat-1))\n",
    "        pbar.set_description(f\"REP: [{epi+1}/{repeat}]\")\n",
    "        for step in pbar:\n",
    "            loss = _solver.calc_loss()\n",
    "            \n",
    "            fig_logs.append({\n",
    "                'epi': epi,\n",
    "                'step': step,\n",
    "                'loss': loss.item(),\n",
    "            })\n",
    "            \n",
    "            loss.backward()\n",
    "            optimizer.step()\n",
    "            optimizer.zero_grad()\n",
    "            \n",
    "        _solver.ynet.eval()\n",
    "        _solver.znet.eval()\n",
    "        _solver.batch_size = 512\n",
    "        with torch.no_grad():\n",
    "            pred_y0, relative_error_y0 = _solver.calc_metric_y0()\n",
    "            pred_z0, relative_error_z0 = _solver.calc_metric_z0()\n",
    "        \n",
    "        tab_logs.append({\n",
    "            'epi': epi,\n",
    "            'Y0': pred_y0,\n",
    "            'Err Y0': relative_error_y0,\n",
    "            'Z0': pred_z0,\n",
    "            'Err Z0': relative_error_z0,\n",
    "        })\n",
    "\n",
    "    return tab_logs, fig_logs"
   ]
  },
  {
   "cell_type": "markdown",
   "id": "bdc02236",
   "metadata": {},
   "source": [
    "## Search Hyperparameters"
   ]
  },
  {
   "cell_type": "code",
   "execution_count": 11,
   "id": "ca57acac",
   "metadata": {
    "execution": {
     "iopub.execute_input": "2023-03-16T15:13:23.591913Z",
     "iopub.status.busy": "2023-03-16T15:13:23.591593Z",
     "iopub.status.idle": "2023-03-16T15:13:23.592982Z",
     "shell.execute_reply": "2023-03-16T15:13:23.593255Z"
    }
   },
   "outputs": [],
   "source": [
    "log_dir = os.path.join(LOGROOTDIR, time_dir())\n",
    "os.makedirs(log_dir, exist_ok=False)\n",
    "\n",
    "os.makedirs(os.path.join(log_dir, \"tab_logs\"))\n",
    "os.makedirs(os.path.join(log_dir, \"fig_logs\"))\n",
    "os.makedirs(os.path.join(log_dir, \"args_df\"))"
   ]
  },
  {
   "cell_type": "code",
   "execution_count": 12,
   "id": "9f41637a",
   "metadata": {
    "execution": {
     "iopub.execute_input": "2023-03-16T15:13:23.598049Z",
     "iopub.status.busy": "2023-03-16T15:13:23.597723Z",
     "iopub.status.idle": "2023-03-16T15:14:12.289626Z",
     "shell.execute_reply": "2023-03-16T15:14:12.290035Z"
    }
   },
   "outputs": [
    {
     "name": "stdout",
     "output_type": "stream",
     "text": [
      "EXP: [1/3]\n"
     ]
    },
    {
     "name": "stderr",
     "output_type": "stream",
     "text": [
      "REP: [5/5]: 100%|██████████| 200/200 [00:03<00:00, 50.84it/s]\n"
     ]
    },
    {
     "name": "stdout",
     "output_type": "stream",
     "text": [
      "EXP: [2/3]\n"
     ]
    },
    {
     "name": "stderr",
     "output_type": "stream",
     "text": [
      "REP: [5/5]: 100%|██████████| 200/200 [00:03<00:00, 53.65it/s]\n"
     ]
    },
    {
     "name": "stdout",
     "output_type": "stream",
     "text": [
      "EXP: [3/3]\n"
     ]
    },
    {
     "name": "stderr",
     "output_type": "stream",
     "text": [
      "REP: [5/5]: 100%|██████████| 200/200 [00:04<00:00, 49.13it/s]\n"
     ]
    }
   ],
   "source": [
    "STATEDIM = 1\n",
    "REPEATNUM = 5          # number of repeating an experiment\n",
    "MAXSTEPS = 200        # max gradient steps\n",
    "\n",
    "search_mesh = {\n",
    "    'dirac': [False, True, 0.05], #, True],\n",
    "    'y_lr': [1e-1], #, 5e-4, 5e-5],\n",
    "    'z_lr': [1e-2],\n",
    "\n",
    "    'batch_size': [512], #, 1024],\n",
    "}\n",
    "\n",
    "args_set = list(itertools.product(*search_mesh.values()))\n",
    "for i, args in enumerate(args_set):\n",
    "    args = dict(zip(search_mesh.keys(), args))\n",
    "    if abs(np.log10(args['y_lr']/args['z_lr'])) > 7.9:\n",
    "        continue\n",
    "\n",
    "\n",
    "    print(f\"EXP: [{i+1}/{len(args_set)}]\")\n",
    "\n",
    "    tab_logs, fig_logs = solve_FuSinCos(n=STATEDIM, repeat=REPEATNUM, max_steps=MAXSTEPS, **args)\n",
    "\n",
    "    args_df = pd.DataFrame(tab_logs).drop(columns=['epi']).agg(lambda arr: format_uncertainty(np.mean(arr), np.std(arr))).to_frame().T\n",
    "\n",
    "    pd.DataFrame(fig_logs).to_csv(os.path.join(log_dir, \"fig_logs\", f\"{i}.csv\"), index=False)\n",
    "    pd.DataFrame(tab_logs).to_csv(os.path.join(log_dir, \"tab_logs\", f\"{i}.csv\"), index=False)\n",
    "    pd.concat([pd.DataFrame([args]), args_df], axis=1).to_csv(os.path.join(log_dir, \"args_df\", f\"{i}.csv\"), index=False)"
   ]
  },
  {
   "cell_type": "markdown",
   "id": "ef59f77b",
   "metadata": {},
   "source": [
    "## Result Analysis"
   ]
  },
  {
   "cell_type": "code",
   "execution_count": 13,
   "id": "5c90fe34",
   "metadata": {
    "execution": {
     "iopub.execute_input": "2023-03-16T15:14:12.295050Z",
     "iopub.status.busy": "2023-03-16T15:14:12.294514Z",
     "iopub.status.idle": "2023-03-16T15:14:12.300971Z",
     "shell.execute_reply": "2023-03-16T15:14:12.300488Z"
    }
   },
   "outputs": [
    {
     "data": {
      "text/html": [
       "<div>\n",
       "<style scoped>\n",
       "    .dataframe tbody tr th:only-of-type {\n",
       "        vertical-align: middle;\n",
       "    }\n",
       "\n",
       "    .dataframe tbody tr th {\n",
       "        vertical-align: top;\n",
       "    }\n",
       "\n",
       "    .dataframe thead th {\n",
       "        text-align: right;\n",
       "    }\n",
       "</style>\n",
       "<table border=\"1\" class=\"dataframe\">\n",
       "  <thead>\n",
       "    <tr style=\"text-align: right;\">\n",
       "      <th></th>\n",
       "      <th>index</th>\n",
       "      <th>args</th>\n",
       "      <th>dirac</th>\n",
       "      <th>y_lr</th>\n",
       "      <th>z_lr</th>\n",
       "      <th>batch_size</th>\n",
       "      <th>Y0</th>\n",
       "      <th>Err Y0</th>\n",
       "      <th>Z0</th>\n",
       "      <th>Err Z0</th>\n",
       "    </tr>\n",
       "  </thead>\n",
       "  <tbody>\n",
       "    <tr>\n",
       "      <th>0</th>\n",
       "      <td>0</td>\n",
       "      <td>0</td>\n",
       "      <td>False</td>\n",
       "      <td>0.1</td>\n",
       "      <td>0.01</td>\n",
       "      <td>512</td>\n",
       "      <td>0.851(50)</td>\n",
       "      <td>5.6 ± 2.4</td>\n",
       "      <td>0.254(33)</td>\n",
       "      <td>53 ± 6</td>\n",
       "    </tr>\n",
       "    <tr>\n",
       "      <th>1</th>\n",
       "      <td>0</td>\n",
       "      <td>1</td>\n",
       "      <td>True</td>\n",
       "      <td>0.1</td>\n",
       "      <td>0.01</td>\n",
       "      <td>512</td>\n",
       "      <td>0.88(49)</td>\n",
       "      <td>41 ± 41</td>\n",
       "      <td>0.22 ± 0.28</td>\n",
       "      <td>68 ± 40</td>\n",
       "    </tr>\n",
       "    <tr>\n",
       "      <th>2</th>\n",
       "      <td>0</td>\n",
       "      <td>2</td>\n",
       "      <td>0.05</td>\n",
       "      <td>0.1</td>\n",
       "      <td>0.01</td>\n",
       "      <td>512</td>\n",
       "      <td>0.839(15)</td>\n",
       "      <td>1.52(97)</td>\n",
       "      <td>0.258(39)</td>\n",
       "      <td>52 ± 7.2</td>\n",
       "    </tr>\n",
       "  </tbody>\n",
       "</table>\n",
       "</div>"
      ],
      "text/plain": [
       "   index  args  dirac  y_lr  z_lr  batch_size         Y0     Err Y0  \\\n",
       "0      0     0  False   0.1  0.01         512  0.851(50)  5.6 ± 2.4   \n",
       "1      0     1   True   0.1  0.01         512   0.88(49)    41 ± 41   \n",
       "2      0     2   0.05   0.1  0.01         512  0.839(15)   1.52(97)   \n",
       "\n",
       "            Z0    Err Z0  \n",
       "0    0.254(33)    53 ± 6  \n",
       "1  0.22 ± 0.28   68 ± 40  \n",
       "2    0.258(39)  52 ± 7.2  "
      ]
     },
     "execution_count": 13,
     "metadata": {},
     "output_type": "execute_result"
    }
   ],
   "source": [
    "args_df = [pd.read_csv(os.path.join(log_dir, \"args_df\", f\"{i}.csv\")) for i in range(len(args_set))]\n",
    "args_df = pd.concat(args_df, keys=range(len(args_set)), names=['args']).reset_index(level='args')\n",
    "args_df.to_csv(os.path.join(log_dir, \"args_df.csv\"), index=False)\n",
    "\n",
    "args_df.reset_index()"
   ]
  },
  {
   "cell_type": "code",
   "execution_count": 14,
   "id": "e90c0b89",
   "metadata": {
    "execution": {
     "iopub.execute_input": "2023-03-16T15:14:12.304198Z",
     "iopub.status.busy": "2023-03-16T15:14:12.303715Z",
     "iopub.status.idle": "2023-03-16T15:14:12.310257Z",
     "shell.execute_reply": "2023-03-16T15:14:12.309773Z"
    }
   },
   "outputs": [],
   "source": [
    "fig_logs = [pd.read_csv(os.path.join(log_dir, \"fig_logs\", f\"{i}.csv\")) for i in range(len(args_set))]\n",
    "fig_logs = pd.concat(fig_logs, keys=range(len(args_set)), names=['args']).reset_index(level='args')"
   ]
  },
  {
   "cell_type": "code",
   "execution_count": 15,
   "id": "8836c136",
   "metadata": {
    "execution": {
     "iopub.execute_input": "2023-03-16T15:14:12.345961Z",
     "iopub.status.busy": "2023-03-16T15:14:12.337580Z",
     "iopub.status.idle": "2023-03-16T15:14:22.993577Z",
     "shell.execute_reply": "2023-03-16T15:14:22.993837Z"
    }
   },
   "outputs": [
    {
     "data": {
      "image/png": "[encoded data removed]",
      "text/plain": [
       "<Figure size 907.2x259.2 with 3 Axes>"
      ]
     },
     "metadata": {
      "needs_background": "light"
     },
     "output_type": "display_data"
    }
   ],
   "source": [
    "r_figs = 3\n",
    "c_figs = math.ceil(len(args_set)/r_figs)\n",
    "fig, axes = plt.subplots(c_figs, r_figs, figsize=(4.2*r_figs, 3.6*c_figs))\n",
    "if c_figs == 1:\n",
    "    axes = axes.reshape(1, -1)\n",
    "\n",
    "fig_logs_gb = fig_logs.groupby('args')\n",
    "\n",
    "for i, j in itertools.product(range(c_figs), range(r_figs)):\n",
    "    if  i*r_figs + j >= len(args_set):\n",
    "        break\n",
    "    sns.lineplot(data=fig_logs_gb.get_group(i*r_figs+j), x='step', y='loss', ax=axes[i,j], errorbar=('ci', 68))\n",
    "    axes[i,j].set_yscale('log')"
   ]
  },
  {
   "cell_type": "code",
   "execution_count": 16,
   "id": "01b3227d",
   "metadata": {
    "execution": {
     "iopub.execute_input": "2023-03-16T15:14:22.996960Z",
     "iopub.status.busy": "2023-03-16T15:14:22.996255Z",
     "iopub.status.idle": "2023-03-16T15:14:23.123066Z",
     "shell.execute_reply": "2023-03-16T15:14:23.123324Z"
    }
   },
   "outputs": [
    {
     "name": "stdout",
     "output_type": "stream",
     "text": [
      "fig.pdf saved to ./outputs/230316-2316\n"
     ]
    }
   ],
   "source": [
    "fig.savefig(os.path.join(log_dir, \"fig.pdf\"))\n",
    "print(f\"fig.pdf saved to {log_dir}\")"
   ]
  },
  {
   "cell_type": "code",
   "execution_count": 17,
   "id": "6b85c8b1",
   "metadata": {
    "execution": {
     "iopub.execute_input": "2023-03-16T15:14:23.126106Z",
     "iopub.status.busy": "2023-03-16T15:14:23.125802Z",
     "iopub.status.idle": "2023-03-16T15:14:23.127998Z",
     "shell.execute_reply": "2023-03-16T15:14:23.127747Z"
    }
   },
   "outputs": [
    {
     "name": "stdout",
     "output_type": "stream",
     "text": [
      "Finished at 230316-2317\n"
     ]
    }
   ],
   "source": [
    "print(f\"Finished at {time_dir()}\")"
   ]
  }
 ],
 "metadata": {
  "kernelspec": {
   "display_name": "Python 3 (ipykernel)",
   "language": "python",
   "name": "python3"
  },
  "language_info": {
   "codemirror_mode": {
    "name": "ipython",
    "version": 3
   },
   "file_extension": ".py",
   "mimetype": "text/x-python",
   "name": "python",
   "nbconvert_exporter": "python",
   "pygments_lexer": "ipython3",
   "version": "3.8.10"
  },
  "toc": {
   "base_numbering": 1,
   "nav_menu": {},
   "number_sections": false,
   "sideBar": true,
   "skip_h1_title": false,
   "title_cell": "Table of Contents",
   "title_sidebar": "Contents",
   "toc_cell": false,
   "toc_position": {},
   "toc_section_display": true,
   "toc_window_display": true
  }
 },
 "nbformat": 4,
 "nbformat_minor": 5
}
