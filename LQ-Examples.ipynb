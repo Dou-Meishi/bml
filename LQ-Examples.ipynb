{
 "cells": [
  {
   "cell_type": "code",
   "execution_count": 1,
   "id": "7aa92c72",
   "metadata": {},
   "outputs": [],
   "source": [
    "import numpy as np\n",
    "import matplotlib.pyplot as plt\n",
    "import pandas as pd\n",
    "import torch\n",
    "import tqdm\n",
    "import seaborn as sns"
   ]
  },
  {
   "cell_type": "code",
   "execution_count": 2,
   "id": "e8638fdb",
   "metadata": {},
   "outputs": [],
   "source": [
    "TENSORDTYPE = torch.float64\n",
    "DEVICE = 'cpu'\n",
    "LOGROOTDIR = './Plot-Figure1-v1'"
   ]
  },
  {
   "cell_type": "markdown",
   "id": "587b620e",
   "metadata": {},
   "source": [
    "All problem-specific functions accpet tensor arguments.\n",
    "\n",
    "Take $f(t,x,a)$ as an example. We assume its inputs $t, x$ and $a$ are tensors with at least 1 dimension. All dimensions except the last are regarded as batch dimensions and are equivalent in function bodies. The outputs follow this rule too. This means even the time input $t$ and the value $f(t,x,a)$ are both scalar in their definition, we force them to be tensors in shape (1,) too.\n",
    "\n",
    "We also adopt the sequence-first convention, which is standard in seq2seq training. Most Tensors have shape (T, M, D), where\n",
    "\n",
    "- T : time axis\n",
    "- M : batch axis\n",
    "- D : original dim of this quantity"
   ]
  },
  {
   "cell_type": "markdown",
   "id": "57b5ce63",
   "metadata": {},
   "source": [
    "# Helper Function"
   ]
  },
  {
   "cell_type": "code",
   "execution_count": 3,
   "id": "46655924",
   "metadata": {},
   "outputs": [],
   "source": [
    "def re_cumsum(t, dim):\n",
    "    r'''torch.cumsum in reverse direction'''\n",
    "    return t + torch.sum(t, dim, keepdim=True) - torch.cumsum(t, dim)"
   ]
  },
  {
   "cell_type": "markdown",
   "id": "a1f63b4b",
   "metadata": {},
   "source": [
    "# Problem"
   ]
  },
  {
   "cell_type": "markdown",
   "id": "9bcd6eab",
   "metadata": {},
   "source": [
    "Solve the fully coupled FBSDE\n",
    "  \\begin{equation*}\n",
    "  \\left\\{\n",
    "  \\begin{aligned}\n",
    "    X_t &= x_0 + \\int_0^tb(s,X_s,Y_s,Z_s)\\,ds + \\int_0^t\\sigma(s,X_s,Y_s,Z_s)\\,dW_s,\\\\\n",
    "    Y_t &= g(X_T) + \\int_t^Tf(s,X_s,Y_s,Z_s)\\,ds - \\int_t^TZ_s\\,dW_s.\n",
    "  \\end{aligned}\n",
    "  \\right.\n",
    "  \\end{equation*}\n",
    "  Here, $X, Y, Z$ value in $\\mathbb{R}^n, \\mathbb{R}^m,\\mathbb{R}^{m\\times d}$."
   ]
  },
  {
   "cell_type": "markdown",
   "id": "68358d28",
   "metadata": {},
   "source": [
    "# FBSDE"
   ]
  },
  {
   "cell_type": "code",
   "execution_count": 4,
   "id": "4d2ec37c",
   "metadata": {},
   "outputs": [],
   "source": [
    "class FBSDE_JiLQ5(object):\n",
    "    \n",
    "    def __init__(self, n=5):\n",
    "        self.H = 25\n",
    "        self.dt = 0.004\n",
    "        self.n = n\n",
    "        self.m = self.n\n",
    "        self.d = 1\n",
    "        \n",
    "        self.x0 = 1. * torch.ones(self.n).to(device=DEVICE, dtype=TENSORDTYPE)\n",
    "        \n",
    "    def b(self, t, x, y, z):\n",
    "        return -.25*x + .5*y + .5*z.squeeze(-1)\n",
    "    \n",
    "    def sigma(self, t, x, y, z):\n",
    "        return (.2*x + .5*y + .5*z.squeeze(-1)).unsqueeze(-1)\n",
    "    \n",
    "    def f(self, t, x, y, z):\n",
    "        return -.5*x - .25*y + .2*z.squeeze(-1)\n",
    "    \n",
    "    def g(self, x):\n",
    "        return -x"
   ]
  },
  {
   "cell_type": "code",
   "execution_count": null,
   "id": "86ce4d7c",
   "metadata": {},
   "outputs": [],
   "source": [
    "class FBSDE_JiLQ5_var(object):\n",
    "    \n",
    "    def __init__(self, n=5):\n",
    "        self.H = 25\n",
    "        self.dt = 0.004\n",
    "        self.n = n\n",
    "        self.m = self.n\n",
    "        self.d = 1\n",
    "        \n",
    "        self.x0 = 1. * torch.ones(self.n).to(device=DEVICE, dtype=TENSORDTYPE)\n",
    "        \n",
    "    def b(self, t, x, y, z):\n",
    "        return -.25*x + .5*y + .5*z.squeeze(-1)\n",
    "    \n",
    "    def sigma(self, t, x, y, z):\n",
    "        return (.2*x + .5*y + .5*z.squeeze(-1)).unsqueeze(-1)\n",
    "    \n",
    "    def f(self, t, x, y, z):\n",
    "        return -.5*x - .25*y + .2*z.squeeze(-1)\n",
    "    \n",
    "    def g(self, x):\n",
    "        return -(torch.ones(self.n) @ x.unsqueeze(-1)).squeeze(-1)"
   ]
  },
  {
   "cell_type": "code",
   "execution_count": 5,
   "id": "35960319",
   "metadata": {},
   "outputs": [],
   "source": [
    "class FBSDE_HanLQ100(object):\n",
    "    \n",
    "    def __init__(self):\n",
    "        self.H = 25\n",
    "        self.dt = 0.04\n",
    "        self.n = 100\n",
    "        self.m = 100\n",
    "        self.d = 100\n",
    "        \n",
    "        self.x0 = 0. * torch.ones(self.n).to(device=DEVICE, dtype=TENSORDTYPE)\n",
    "        \n",
    "    def b(self, t, x, y, z):\n",
    "        return 2*y\n",
    "    \n",
    "    def sigma(self, t, x, y, z):\n",
    "        return np.sqrt(2)*torch.eye(self.d).to(device=DEVICE, dtype=TENSORDTYPE)\n",
    "    \n",
    "    def f(self, t, x, y, z):\n",
    "        return 0.*x\n",
    "    \n",
    "    def g(self, x):\n",
    "        return -.5*x/(1+torch.sum(x*x, dim=-1, keepdim=True))"
   ]
  },
  {
   "cell_type": "markdown",
   "id": "e5d867bb",
   "metadata": {},
   "source": [
    "# Network"
   ]
  },
  {
   "cell_type": "code",
   "execution_count": 6,
   "id": "21d64096",
   "metadata": {},
   "outputs": [],
   "source": [
    "class YNet_FC2L(torch.nn.Module):\n",
    "    \n",
    "    def __init__(self, n, m, *, hidden_size):\n",
    "        super().__init__()\n",
    "        \n",
    "        self.fcnet = torch.nn.Sequential(\n",
    "            torch.nn.Linear(1+n, hidden_size, bias=True),\n",
    "            torch.nn.ReLU(),\n",
    "            torch.nn.Linear(hidden_size, m, bias=True)\n",
    "        )\n",
    "        \n",
    "        self.to(dtype=TENSORDTYPE, device=DEVICE)\n",
    "        \n",
    "    def forward(self, t, x):\n",
    "        z = torch.cat([t, x], dim=-1)\n",
    "        return self.fcnet(z)\n",
    "    \n",
    "    \n",
    "class ZNet_FC2L(torch.nn.Module):\n",
    "    \n",
    "    def __init__(self, n, m, d, *, hidden_size):\n",
    "        super().__init__()\n",
    "        self.m = m\n",
    "        self.d = d\n",
    "        \n",
    "        self.fcnet = torch.nn.Sequential(\n",
    "            torch.nn.Linear(1+n, hidden_size, bias=True),\n",
    "            torch.nn.ReLU(),\n",
    "            torch.nn.Linear(hidden_size, m*d, bias=True)\n",
    "        )\n",
    "        \n",
    "        self.to(dtype=TENSORDTYPE, device=DEVICE)\n",
    "        \n",
    "    def forward(self, t, x):\n",
    "        z = torch.cat([t, x], dim=-1)\n",
    "        return self.fcnet(z).view(*x.shape[:-1], self.m, self.d)"
   ]
  },
  {
   "cell_type": "markdown",
   "id": "8b210985",
   "metadata": {},
   "source": [
    "# Solver"
   ]
  },
  {
   "cell_type": "code",
   "execution_count": 7,
   "id": "c97bee3b",
   "metadata": {},
   "outputs": [],
   "source": [
    "class FBSDE_BMLSolver(object):\n",
    "\n",
    "    def __init__(self, fbsde):\n",
    "        self.hidden_size = fbsde.n + 10\n",
    "        self.batch_size = 64\n",
    "        \n",
    "        self.fbsde = fbsde\n",
    "        self.ynet = YNet_FC2L(self.fbsde.n, self.fbsde.m, hidden_size=self.hidden_size)\n",
    "        self.znet = ZNet_FC2L(self.fbsde.n, self.fbsde.m, self.fbsde.d, hidden_size=self.hidden_size)\n",
    "        \n",
    "        self.track_X_grad = False\n",
    "        \n",
    "    def get_optimizer(self):\n",
    "        return torch.optim.Adam([\n",
    "            {'params': self.ynet.parameters(), 'lr': 5e-3,},\n",
    "            {'params': self.znet.parameters(), 'lr': 5e-3,}\n",
    "        ])\n",
    "        \n",
    "    def obtain_XYZ(self, t=None, dW=None):\n",
    "        if t is None:\n",
    "            t = torch.tensor([self.fbsde.dt*i for i in range(1+self.fbsde.H)], dtype=TENSORDTYPE, device=DEVICE).reshape(-1,1,1).expand(-1, self.batch_size, 1)\n",
    "        \n",
    "        if dW is None:\n",
    "            dW = torch.normal(0., np.sqrt(self.fbsde.dt), size=(self.fbsde.H, self.batch_size, self.fbsde.d), dtype=TENSORDTYPE, device=DEVICE)\n",
    "        \n",
    "        X = torch.empty(1+self.fbsde.H, dW.shape[1], self.fbsde.n, dtype=TENSORDTYPE, device=DEVICE)\n",
    "        Y = torch.empty(1+self.fbsde.H, dW.shape[1], self.fbsde.m, dtype=TENSORDTYPE, device=DEVICE)\n",
    "        Z = torch.empty(1+self.fbsde.H, dW.shape[1], self.fbsde.m, self.fbsde.d, dtype=TENSORDTYPE, device=DEVICE)\n",
    "        \n",
    "        X[0] = self.fbsde.x0\n",
    "        Y[0] = self.ynet(t[0], X[0])\n",
    "        Z[0] = self.znet(t[0], X[0])\n",
    "        for i in range(self.fbsde.H):\n",
    "            if self.track_X_grad is True:\n",
    "                X[i+1] = X[i] + self.fbsde.dt * self.fbsde.b(t[i], X[i], Y[i], Z[i]) + (self.fbsde.sigma(t[i], X[i], Y[i], Z[i]) @ dW[i].unsqueeze(-1)).squeeze(-1)\n",
    "            else:\n",
    "                with torch.no_grad():\n",
    "                    X[i+1] = X[i] + self.fbsde.dt * self.fbsde.b(t[i], X[i], Y[i], Z[i]) + (self.fbsde.sigma(t[i], X[i], Y[i], Z[i]) @ dW[i].unsqueeze(-1)).squeeze(-1)\n",
    "            Y[i+1] = self.ynet(t[i+1], X[i+1])\n",
    "            Z[i+1] = self.znet(t[i+1], X[i+1])\n",
    "        \n",
    "        return t, X, Y, Z, dW\n",
    "    \n",
    "    def calc_loss(self, t=None, dW=None, dirac=True):\n",
    "        t, X, Y, Z, dW = self.obtain_XYZ(t, dW)\n",
    "        if dirac:\n",
    "            error = Y[0] - (self.fbsde.g(X[-1]) + self.fbsde.dt * torch.sum(self.fbsde.f(t[:-1], X[:-1], Y[:-1], Z[:-1]), dim=0) - torch.sum(Z[:-1] @ dW.unsqueeze(-1), dim=0).squeeze(-1))\n",
    "            return torch.sum(error*error/dW.shape[1])\n",
    "        else:\n",
    "            error = Y[:-1] - (self.fbsde.g(X[-1:]) + self.fbsde.dt * re_cumsum(self.fbsde.f(t[:-1], X[:-1], Y[:-1], Z[:-1]), dim=0) - re_cumsum(Z[:-1] @ dW.unsqueeze(-1), dim=0).squeeze(-1))\n",
    "            return torch.sum(error/ dW.shape[1] * error * self.fbsde.dt)"
   ]
  },
  {
   "cell_type": "markdown",
   "id": "0e0a0147",
   "metadata": {},
   "source": [
    "# Train"
   ]
  },
  {
   "cell_type": "code",
   "execution_count": 8,
   "id": "1540622d",
   "metadata": {},
   "outputs": [],
   "source": [
    "solver = FBSDE_BMLSolver(FBSDE_JiLQ5())"
   ]
  },
  {
   "cell_type": "code",
   "execution_count": 9,
   "id": "0cb8d3b7",
   "metadata": {},
   "outputs": [
    {
     "name": "stderr",
     "output_type": "stream",
     "text": [
      "100%|██████████| 2000/2000 [00:35<00:00, 57.02it/s]\n"
     ]
    }
   ],
   "source": [
    "optimizer = solver.get_optimizer()\n",
    "para_log = []\n",
    "\n",
    "solver.ynet.train()\n",
    "solver.znet.train()\n",
    "optimizer.zero_grad()\n",
    "for step in tqdm.trange(2000):\n",
    "    loss = solver.calc_loss(dirac=False)\n",
    "    \n",
    "    para_log.append({'step': step+1, 'loss': loss.item()})\n",
    "    \n",
    "    loss.backward()\n",
    "    optimizer.step()\n",
    "    optimizer.zero_grad()"
   ]
  },
  {
   "cell_type": "code",
   "execution_count": 10,
   "id": "6edd1524",
   "metadata": {},
   "outputs": [],
   "source": [
    "para_log = pd.DataFrame(para_log)"
   ]
  },
  {
   "cell_type": "code",
   "execution_count": 11,
   "id": "2bd0fd22",
   "metadata": {},
   "outputs": [
    {
     "data": {
      "image/png": "[encoded data removed]",
      "text/plain": [
       "<Figure size 432x288 with 1 Axes>"
      ]
     },
     "metadata": {
      "needs_background": "light"
     },
     "output_type": "display_data"
    }
   ],
   "source": [
    "plt.plot(para_log.step, para_log.loss)\n",
    "plt.yscale('log')"
   ]
  },
  {
   "cell_type": "code",
   "execution_count": 12,
   "id": "26ceffed",
   "metadata": {},
   "outputs": [],
   "source": [
    "solver.batch_size = 512\n",
    "t, X, Y, Z, dW = solver.obtain_XYZ()"
   ]
  },
  {
   "cell_type": "code",
   "execution_count": 13,
   "id": "4d747c2e",
   "metadata": {},
   "outputs": [],
   "source": [
    "cost = .5 * torch.sum(X[-1] * X[-1], dim=-1) + solver.fbsde.dt * torch.sum(.25 * X[:-1] * X[:-1] + .25 * (Y[:-1] + Z[:-1].squeeze(-1)) * (Y[:-1] + Z[:-1].squeeze(-1)), dim=-1).sum(0)"
   ]
  },
  {
   "cell_type": "code",
   "execution_count": 14,
   "id": "69090d90",
   "metadata": {},
   "outputs": [
    {
     "data": {
      "text/plain": [
       "tensor(2.3914, dtype=torch.float64, grad_fn=<MeanBackward0>)"
      ]
     },
     "execution_count": 14,
     "metadata": {},
     "output_type": "execute_result"
    }
   ],
   "source": [
    "cost.mean()"
   ]
  },
  {
   "cell_type": "code",
   "execution_count": 15,
   "id": "c7d10df8",
   "metadata": {},
   "outputs": [
    {
     "data": {
      "text/plain": [
       "tensor(-0.9594, dtype=torch.float64, grad_fn=<MeanBackward0>)"
      ]
     },
     "execution_count": 15,
     "metadata": {},
     "output_type": "execute_result"
    }
   ],
   "source": [
    "Y[0].mean()"
   ]
  },
  {
   "cell_type": "code",
   "execution_count": 16,
   "id": "b593e287",
   "metadata": {},
   "outputs": [
    {
     "name": "stderr",
     "output_type": "stream",
     "text": [
      "100%|██████████| 2000/2000 [00:37<00:00, 53.53it/s]\n",
      "100%|██████████| 2000/2000 [00:36<00:00, 54.82it/s]\n",
      "100%|██████████| 2000/2000 [00:36<00:00, 54.37it/s]\n",
      "100%|██████████| 2000/2000 [00:35<00:00, 55.72it/s]\n",
      "100%|██████████| 2000/2000 [00:37<00:00, 53.28it/s]\n",
      "100%|██████████| 2000/2000 [00:36<00:00, 54.40it/s]\n",
      "100%|██████████| 2000/2000 [00:35<00:00, 55.90it/s]\n",
      "100%|██████████| 2000/2000 [00:36<00:00, 54.69it/s]\n",
      "100%|██████████| 2000/2000 [00:37<00:00, 53.94it/s]\n"
     ]
    }
   ],
   "source": [
    "logs = []\n",
    "for _ in range(9):\n",
    "    _solver = FBSDE_BMLSolver(FBSDE_JiLQ5())\n",
    "    optimizer = _solver.get_optimizer()\n",
    "\n",
    "    _solver.ynet.train()\n",
    "    _solver.znet.train()\n",
    "    optimizer.zero_grad()\n",
    "    for step in tqdm.trange(2000):\n",
    "        loss = _solver.calc_loss(dirac=False)\n",
    "        loss.backward()\n",
    "        optimizer.step()\n",
    "        optimizer.zero_grad()\n",
    "    _solver.batch_size = 512\n",
    "    t, X, Y, Z, dW = _solver.obtain_XYZ()\n",
    "    logs.append({\n",
    "        'cost': (.5 * torch.sum(X[-1] * X[-1], dim=-1) + solver.fbsde.dt * torch.sum(.25 * X[:-1] * X[:-1] + .25 * (Y[:-1] + Z[:-1].squeeze(-1)) * (Y[:-1] + Z[:-1].squeeze(-1)), dim=-1).sum(0)).mean().item(),\n",
    "        'p0': Y[0].mean().item(),\n",
    "    })"
   ]
  },
  {
   "cell_type": "code",
   "execution_count": 17,
   "id": "a4e7e374",
   "metadata": {},
   "outputs": [
    {
     "data": {
      "text/plain": [
       "[{'cost': 2.3734301865735974, 'p0': -0.9595384210562237},\n",
       " {'cost': 2.403366142178607, 'p0': -0.9592339869314838},\n",
       " {'cost': 2.400785826244222, 'p0': -0.959145344961845},\n",
       " {'cost': 2.417125718452046, 'p0': -0.9589058547891973},\n",
       " {'cost': 2.3936119093797443, 'p0': -0.9601979343381011},\n",
       " {'cost': 2.40041740581856, 'p0': -0.9588780915053086},\n",
       " {'cost': 2.387383676497933, 'p0': -0.9600825714879673},\n",
       " {'cost': 2.417709839241834, 'p0': -0.9598987986142273},\n",
       " {'cost': 2.398212729320143, 'p0': -0.9592627412007524}]"
      ]
     },
     "execution_count": 17,
     "metadata": {},
     "output_type": "execute_result"
    }
   ],
   "source": [
    "logs"
   ]
  },
  {
   "cell_type": "code",
   "execution_count": 18,
   "id": "c6c0f9de",
   "metadata": {},
   "outputs": [
    {
     "data": {
      "text/plain": [
       "2.3991159370785207"
      ]
     },
     "execution_count": 18,
     "metadata": {},
     "output_type": "execute_result"
    }
   ],
   "source": [
    "pd.DataFrame(logs).cost.mean()"
   ]
  }
 ],
 "metadata": {
  "kernelspec": {
   "display_name": "Python 3 (ipykernel)",
   "language": "python",
   "name": "python3"
  },
  "language_info": {
   "codemirror_mode": {
    "name": "ipython",
    "version": 3
   },
   "file_extension": ".py",
   "mimetype": "text/x-python",
   "name": "python",
   "nbconvert_exporter": "python",
   "pygments_lexer": "ipython3",
   "version": "3.8.10"
  },
  "toc": {
   "base_numbering": 1,
   "nav_menu": {},
   "number_sections": false,
   "sideBar": true,
   "skip_h1_title": false,
   "title_cell": "Table of Contents",
   "title_sidebar": "Contents",
   "toc_cell": false,
   "toc_position": {},
   "toc_section_display": true,
   "toc_window_display": true
  }
 },
 "nbformat": 4,
 "nbformat_minor": 5
}
