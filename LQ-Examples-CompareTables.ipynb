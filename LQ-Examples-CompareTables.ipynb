{
 "cells": [
  {
   "cell_type": "code",
   "execution_count": 1,
   "id": "7aa92c72",
   "metadata": {},
   "outputs": [],
   "source": [
    "import numpy as np\n",
    "import matplotlib.pyplot as plt\n",
    "import pandas as pd\n",
    "import torch\n",
    "import tqdm\n",
    "import seaborn as sns"
   ]
  },
  {
   "cell_type": "code",
   "execution_count": 2,
   "id": "e8638fdb",
   "metadata": {},
   "outputs": [],
   "source": [
    "TENSORDTYPE = torch.float64\n",
    "DEVICE = 'cpu'\n",
    "LOGROOTDIR = './Plot-Figure1-v1'"
   ]
  },
  {
   "cell_type": "markdown",
   "id": "587b620e",
   "metadata": {},
   "source": [
    "All problem-specific functions accpet tensor arguments.\n",
    "\n",
    "Take $f(t,x,a)$ as an example. We assume its inputs $t, x$ and $a$ are tensors with at least 1 dimension. All dimensions except the last are regarded as batch dimensions and are equivalent in function bodies. The outputs follow this rule too. This means even the time input $t$ and the value $f(t,x,a)$ are both scalar in their definition, we force them to be tensors in shape (1,) too.\n",
    "\n",
    "We also adopt the sequence-first convention, which is standard in seq2seq training. Most Tensors have shape (T, M, D), where\n",
    "\n",
    "- T : time axis\n",
    "- M : batch axis\n",
    "- D : original dim of this quantity"
   ]
  },
  {
   "cell_type": "markdown",
   "id": "57b5ce63",
   "metadata": {},
   "source": [
    "# Helper Function"
   ]
  },
  {
   "cell_type": "code",
   "execution_count": 3,
   "id": "46655924",
   "metadata": {},
   "outputs": [],
   "source": [
    "def re_cumsum(t, dim):\n",
    "    r'''torch.cumsum in reverse direction'''\n",
    "    return t + torch.sum(t, dim, keepdim=True) - torch.cumsum(t, dim)"
   ]
  },
  {
   "cell_type": "markdown",
   "id": "a1f63b4b",
   "metadata": {},
   "source": [
    "# Problem"
   ]
  },
  {
   "cell_type": "markdown",
   "id": "9bcd6eab",
   "metadata": {},
   "source": [
    "Solve the fully coupled FBSDE\n",
    "  \\begin{equation*}\n",
    "  \\left\\{\n",
    "  \\begin{aligned}\n",
    "    X_t &= x_0 + \\int_0^tb(s,X_s,Y_s,Z_s)\\,ds + \\int_0^t\\sigma(s,X_s,Y_s,Z_s)\\,dW_s,\\\\\n",
    "    Y_t &= g(X_T) + \\int_t^Tf(s,X_s,Y_s,Z_s)\\,ds - \\int_t^TZ_s\\,dW_s.\n",
    "  \\end{aligned}\n",
    "  \\right.\n",
    "  \\end{equation*}\n",
    "  Here, $X, Y, Z$ value in $\\mathbb{R}^n, \\mathbb{R}^m,\\mathbb{R}^{m\\times d}$."
   ]
  },
  {
   "cell_type": "markdown",
   "id": "68358d28",
   "metadata": {},
   "source": [
    "# FBSDE"
   ]
  },
  {
   "cell_type": "code",
   "execution_count": 4,
   "id": "4d2ec37c",
   "metadata": {},
   "outputs": [],
   "source": [
    "class FBSDE_JiLQ5(object):\n",
    "    \n",
    "    def __init__(self, n=5):\n",
    "        self.H = 25\n",
    "        self.dt = 0.004\n",
    "        self.n = n\n",
    "        self.m = self.n\n",
    "        self.d = 1\n",
    "        \n",
    "        self.x0 = 1. * torch.ones(self.n).to(device=DEVICE, dtype=TENSORDTYPE)\n",
    "        \n",
    "    def b(self, t, x, y, z):\n",
    "        return -.25*x + .5*y + .5*z.squeeze(-1)\n",
    "    \n",
    "    def sigma(self, t, x, y, z):\n",
    "        return (.2*x + .5*y + .5*z.squeeze(-1)).unsqueeze(-1)\n",
    "    \n",
    "    def f(self, t, x, y, z):\n",
    "        return -.5*x - .25*y + .2*z.squeeze(-1)\n",
    "    \n",
    "    def g(self, x):\n",
    "        return -x"
   ]
  },
  {
   "cell_type": "code",
   "execution_count": 5,
   "id": "86ce4d7c",
   "metadata": {},
   "outputs": [],
   "source": [
    "class FBSDE_JiLQ5_var(object):\n",
    "    \n",
    "    def __init__(self, n=5):\n",
    "        self.H = 25\n",
    "        self.dt = 0.004\n",
    "        self.n = n\n",
    "        self.m = self.n\n",
    "        self.d = 1\n",
    "        \n",
    "        self.x0 = 1. * torch.ones(self.n).to(device=DEVICE, dtype=TENSORDTYPE)\n",
    "        \n",
    "    def b(self, t, x, y, z):\n",
    "        return -.25*x + .5*y + .5*z.squeeze(-1)\n",
    "    \n",
    "    def sigma(self, t, x, y, z):\n",
    "        return (.2*x + .5*y + .5*z.squeeze(-1)).unsqueeze(-1)\n",
    "    \n",
    "    def f(self, t, x, y, z):\n",
    "        return -.5*x - .25*y + .2*z.squeeze(-1)\n",
    "    \n",
    "    def g(self, x):\n",
    "        return -torch.ones_like(x)*x.sum(dim=-1, keepdim=True)"
   ]
  },
  {
   "cell_type": "code",
   "execution_count": 6,
   "id": "35960319",
   "metadata": {},
   "outputs": [],
   "source": [
    "class FBSDE_HanLQ100(object):\n",
    "    \n",
    "    def __init__(self):\n",
    "        self.H = 25\n",
    "        self.dt = 0.04\n",
    "        self.n = 100\n",
    "        self.m = 100\n",
    "        self.d = 100\n",
    "        \n",
    "        self.x0 = 0. * torch.ones(self.n).to(device=DEVICE, dtype=TENSORDTYPE)\n",
    "        \n",
    "    def b(self, t, x, y, z):\n",
    "        return 2*y\n",
    "    \n",
    "    def sigma(self, t, x, y, z):\n",
    "        return np.sqrt(2)*torch.eye(self.d).to(device=DEVICE, dtype=TENSORDTYPE)\n",
    "    \n",
    "    def f(self, t, x, y, z):\n",
    "        return 0.*x\n",
    "    \n",
    "    def g(self, x):\n",
    "        return -.5*x/(1+torch.sum(x*x, dim=-1, keepdim=True))"
   ]
  },
  {
   "cell_type": "markdown",
   "id": "e5d867bb",
   "metadata": {},
   "source": [
    "# Network"
   ]
  },
  {
   "cell_type": "code",
   "execution_count": 7,
   "id": "21d64096",
   "metadata": {},
   "outputs": [],
   "source": [
    "class YNet_FC2L(torch.nn.Module):\n",
    "    \n",
    "    def __init__(self, n, m, *, hidden_size):\n",
    "        super().__init__()\n",
    "        \n",
    "        self.fcnet = torch.nn.Sequential(\n",
    "            torch.nn.Linear(1+n, hidden_size, bias=True),\n",
    "            torch.nn.ReLU(),\n",
    "            torch.nn.Linear(hidden_size, m, bias=True)\n",
    "        )\n",
    "        \n",
    "        self.to(dtype=TENSORDTYPE, device=DEVICE)\n",
    "        \n",
    "    def forward(self, t, x):\n",
    "        z = torch.cat([t, x], dim=-1)\n",
    "        return self.fcnet(z)\n",
    "    \n",
    "    \n",
    "class ZNet_FC2L(torch.nn.Module):\n",
    "    \n",
    "    def __init__(self, n, m, d, *, hidden_size):\n",
    "        super().__init__()\n",
    "        self.m = m\n",
    "        self.d = d\n",
    "        \n",
    "        self.fcnet = torch.nn.Sequential(\n",
    "            torch.nn.Linear(1+n, hidden_size, bias=True),\n",
    "            torch.nn.ReLU(),\n",
    "            torch.nn.Linear(hidden_size, m*d, bias=True)\n",
    "        )\n",
    "        \n",
    "        self.to(dtype=TENSORDTYPE, device=DEVICE)\n",
    "        \n",
    "    def forward(self, t, x):\n",
    "        z = torch.cat([t, x], dim=-1)\n",
    "        return self.fcnet(z).view(*x.shape[:-1], self.m, self.d)"
   ]
  },
  {
   "cell_type": "markdown",
   "id": "8b210985",
   "metadata": {},
   "source": [
    "# Solver"
   ]
  },
  {
   "cell_type": "code",
   "execution_count": 8,
   "id": "c97bee3b",
   "metadata": {},
   "outputs": [],
   "source": [
    "class FBSDE_BMLSolver(object):\n",
    "\n",
    "    def __init__(self, fbsde):\n",
    "        self.hidden_size = fbsde.n + 10\n",
    "        self.batch_size = 64\n",
    "        \n",
    "        self.fbsde = fbsde\n",
    "        self.ynet = YNet_FC2L(self.fbsde.n, self.fbsde.m, hidden_size=self.hidden_size)\n",
    "        self.znet = ZNet_FC2L(self.fbsde.n, self.fbsde.m, self.fbsde.d, hidden_size=self.hidden_size)\n",
    "        \n",
    "        self.track_X_grad = False\n",
    "        \n",
    "    def get_optimizer(self):\n",
    "        return torch.optim.Adam([\n",
    "            {'params': self.ynet.parameters(), 'lr': 5e-3,},\n",
    "            {'params': self.znet.parameters(), 'lr': 5e-3,}\n",
    "        ])\n",
    "        \n",
    "    def obtain_XYZ(self, t=None, dW=None):\n",
    "        if t is None:\n",
    "            t = torch.tensor([self.fbsde.dt*i for i in range(1+self.fbsde.H)], dtype=TENSORDTYPE, device=DEVICE).reshape(-1,1,1).expand(-1, self.batch_size, 1)\n",
    "        \n",
    "        if dW is None:\n",
    "            dW = torch.normal(0., np.sqrt(self.fbsde.dt), size=(self.fbsde.H, self.batch_size, self.fbsde.d), dtype=TENSORDTYPE, device=DEVICE)\n",
    "        \n",
    "        X = torch.empty(1+self.fbsde.H, dW.shape[1], self.fbsde.n, dtype=TENSORDTYPE, device=DEVICE)\n",
    "        Y = torch.empty(1+self.fbsde.H, dW.shape[1], self.fbsde.m, dtype=TENSORDTYPE, device=DEVICE)\n",
    "        Z = torch.empty(1+self.fbsde.H, dW.shape[1], self.fbsde.m, self.fbsde.d, dtype=TENSORDTYPE, device=DEVICE)\n",
    "        \n",
    "        X[0] = self.fbsde.x0\n",
    "        Y[0] = self.ynet(t[0], X[0])\n",
    "        Z[0] = self.znet(t[0], X[0])\n",
    "        for i in range(self.fbsde.H):\n",
    "            if self.track_X_grad is True:\n",
    "                X[i+1] = X[i] + self.fbsde.dt * self.fbsde.b(t[i], X[i], Y[i], Z[i]) + (self.fbsde.sigma(t[i], X[i], Y[i], Z[i]) @ dW[i].unsqueeze(-1)).squeeze(-1)\n",
    "            else:\n",
    "                with torch.no_grad():\n",
    "                    X[i+1] = X[i] + self.fbsde.dt * self.fbsde.b(t[i], X[i], Y[i], Z[i]) + (self.fbsde.sigma(t[i], X[i], Y[i], Z[i]) @ dW[i].unsqueeze(-1)).squeeze(-1)\n",
    "            Y[i+1] = self.ynet(t[i+1], X[i+1])\n",
    "            Z[i+1] = self.znet(t[i+1], X[i+1])\n",
    "        \n",
    "        return t, X, Y, Z, dW\n",
    "    \n",
    "    def calc_loss(self, t=None, dW=None, dirac=True):\n",
    "        t, X, Y, Z, dW = self.obtain_XYZ(t, dW)\n",
    "        if dirac:\n",
    "            error = Y[0] - (self.fbsde.g(X[-1]) + self.fbsde.dt * torch.sum(self.fbsde.f(t[:-1], X[:-1], Y[:-1], Z[:-1]), dim=0) - torch.sum(Z[:-1] @ dW.unsqueeze(-1), dim=0).squeeze(-1))\n",
    "            return torch.sum(error*error/dW.shape[1])\n",
    "        else:\n",
    "            error = Y[:-1] - (self.fbsde.g(X[-1:]) + self.fbsde.dt * re_cumsum(self.fbsde.f(t[:-1], X[:-1], Y[:-1], Z[:-1]), dim=0) - re_cumsum(Z[:-1] @ dW.unsqueeze(-1), dim=0).squeeze(-1))\n",
    "            return torch.sum(error/ dW.shape[1] * error * self.fbsde.dt)"
   ]
  },
  {
   "cell_type": "markdown",
   "id": "0e0a0147",
   "metadata": {},
   "source": [
    "# Train"
   ]
  },
  {
   "cell_type": "code",
   "execution_count": 9,
   "id": "1540622d",
   "metadata": {},
   "outputs": [],
   "source": [
    "solver = FBSDE_BMLSolver(FBSDE_JiLQ5_var(n=5))"
   ]
  },
  {
   "cell_type": "code",
   "execution_count": 10,
   "id": "0cb8d3b7",
   "metadata": {},
   "outputs": [
    {
     "name": "stderr",
     "output_type": "stream",
     "text": [
      "100%|██████████| 2000/2000 [00:26<00:00, 74.64it/s]\n"
     ]
    }
   ],
   "source": [
    "optimizer = solver.get_optimizer()\n",
    "para_log = []\n",
    "\n",
    "solver.ynet.train()\n",
    "solver.znet.train()\n",
    "optimizer.zero_grad()\n",
    "for step in tqdm.trange(2000):\n",
    "    loss = solver.calc_loss(dirac=True)\n",
    "    \n",
    "    para_log.append({'step': step+1, 'loss': loss.item()})\n",
    "    \n",
    "    loss.backward()\n",
    "    optimizer.step()\n",
    "    optimizer.zero_grad()"
   ]
  },
  {
   "cell_type": "code",
   "execution_count": 11,
   "id": "6edd1524",
   "metadata": {},
   "outputs": [],
   "source": [
    "para_log = pd.DataFrame(para_log)"
   ]
  },
  {
   "cell_type": "code",
   "execution_count": 12,
   "id": "2bd0fd22",
   "metadata": {},
   "outputs": [
    {
     "data": {
      "image/png": "[encoded data removed]",
      "text/plain": [
       "<Figure size 640x480 with 1 Axes>"
      ]
     },
     "metadata": {},
     "output_type": "display_data"
    }
   ],
   "source": [
    "plt.plot(para_log.step, para_log.loss)\n",
    "plt.yscale('log')"
   ]
  },
  {
   "cell_type": "code",
   "execution_count": 13,
   "id": "26ceffed",
   "metadata": {},
   "outputs": [],
   "source": [
    "solver.batch_size = 512\n",
    "t, X, Y, Z, dW = solver.obtain_XYZ()"
   ]
  },
  {
   "cell_type": "code",
   "execution_count": 14,
   "id": "4d747c2e",
   "metadata": {},
   "outputs": [],
   "source": [
    "cost = .5 * torch.sum(X[-1], dim=-1)**2 + solver.fbsde.dt * torch.sum(.25 * X[:-1] * X[:-1] + .25 * (Y[:-1] + Z[:-1].squeeze(-1)) * (Y[:-1] + Z[:-1].squeeze(-1)), dim=-1).sum(0)"
   ]
  },
  {
   "cell_type": "code",
   "execution_count": 15,
   "id": "69090d90",
   "metadata": {},
   "outputs": [
    {
     "data": {
      "text/plain": [
       "tensor(10.7616, dtype=torch.float64, grad_fn=<MeanBackward0>)"
      ]
     },
     "execution_count": 15,
     "metadata": {},
     "output_type": "execute_result"
    }
   ],
   "source": [
    "cost.mean()"
   ]
  },
  {
   "cell_type": "code",
   "execution_count": 16,
   "id": "99947dcd",
   "metadata": {},
   "outputs": [
    {
     "data": {
      "text/plain": [
       "tensor([[-4.3852, -4.3847, -4.3849, -4.3852, -4.3851],\n",
       "        [-4.3852, -4.3847, -4.3849, -4.3852, -4.3851],\n",
       "        [-4.3852, -4.3847, -4.3849, -4.3852, -4.3851],\n",
       "        ...,\n",
       "        [-4.3852, -4.3847, -4.3849, -4.3852, -4.3851],\n",
       "        [-4.3852, -4.3847, -4.3849, -4.3852, -4.3851],\n",
       "        [-4.3852, -4.3847, -4.3849, -4.3852, -4.3851]], dtype=torch.float64,\n",
       "       grad_fn=<SelectBackward0>)"
      ]
     },
     "execution_count": 16,
     "metadata": {},
     "output_type": "execute_result"
    }
   ],
   "source": [
    "Y[0]"
   ]
  },
  {
   "cell_type": "code",
   "execution_count": 17,
   "id": "c7d10df8",
   "metadata": {},
   "outputs": [
    {
     "data": {
      "text/plain": [
       "tensor(-4.3850, dtype=torch.float64, grad_fn=<MeanBackward0>)"
      ]
     },
     "execution_count": 17,
     "metadata": {},
     "output_type": "execute_result"
    }
   ],
   "source": [
    "Y[0].mean()"
   ]
  },
  {
   "cell_type": "markdown",
   "id": "71bfc806",
   "metadata": {},
   "source": [
    "## Train Multiple Models"
   ]
  },
  {
   "cell_type": "code",
   "execution_count": 1,
   "id": "72722e76",
   "metadata": {},
   "outputs": [],
   "source": [
    "def solve_JiLQ(n, dirac, repeat=10):\n",
    "    r'''return cost and $p_0$.'''\n",
    "    cost, p0 = 0., 0.\n",
    "    for _ in range(repeat):\n",
    "        _solver = FBSDE_BMLSolver(FBSDE_JiLQ5(n=n))\n",
    "        optimizer = _solver.get_optimizer()\n",
    "        \n",
    "        _solver.ynet.train()\n",
    "        _solver.znet.train()\n",
    "        optimizer.zero_grad()\n",
    "        \n",
    "        for step in tqdm.trange(2000):\n",
    "            loss = _solver.calc_loss(dirac=dirac)\n",
    "            loss.backward()\n",
    "            optimizer.step()\n",
    "            optimizer.zero_grad()\n",
    "        \n",
    "        _solver.batch_size = 512\n",
    "        t, X, Y, Z, dW = _solver.obtain_XYZ()\n",
    "        cost += (.5 * torch.sum(X[-1] * X[-1], dim=-1) + _solver.fbsde.dt * torch.sum(.25 * X[:-1] * X[:-1] + .25 * (Y[:-1] + Z[:-1].squeeze(-1)) * (Y[:-1] + Z[:-1].squeeze(-1)), dim=-1).sum(0)).mean().item()\n",
    "        p0 += Y[0].mean().item()\n",
    "    return cost/repeat, p0/repeat"
   ]
  },
  {
   "cell_type": "code",
   "execution_count": 19,
   "id": "0b2786d2",
   "metadata": {
    "scrolled": false
   },
   "outputs": [
    {
     "name": "stderr",
     "output_type": "stream",
     "text": [
      "100%|██████████| 2000/2000 [00:26<00:00, 74.16it/s]\n",
      "100%|██████████| 2000/2000 [00:29<00:00, 68.49it/s]\n",
      "100%|██████████| 2000/2000 [00:27<00:00, 71.45it/s]\n",
      "100%|██████████| 2000/2000 [00:31<00:00, 63.83it/s]\n",
      "100%|██████████| 2000/2000 [00:29<00:00, 66.81it/s]\n",
      "100%|██████████| 2000/2000 [00:27<00:00, 72.12it/s]\n",
      "100%|██████████| 2000/2000 [00:27<00:00, 72.84it/s]\n",
      "100%|██████████| 2000/2000 [00:26<00:00, 75.11it/s]\n",
      "100%|██████████| 2000/2000 [00:26<00:00, 74.70it/s]\n",
      "100%|██████████| 2000/2000 [00:26<00:00, 75.16it/s]\n",
      "100%|██████████| 2000/2000 [00:27<00:00, 73.54it/s]\n",
      "100%|██████████| 2000/2000 [00:27<00:00, 73.16it/s]\n",
      "100%|██████████| 2000/2000 [00:27<00:00, 72.65it/s]\n",
      "100%|██████████| 2000/2000 [00:27<00:00, 72.64it/s]\n",
      "100%|██████████| 2000/2000 [00:28<00:00, 70.07it/s]\n",
      "100%|██████████| 2000/2000 [00:27<00:00, 72.06it/s]\n",
      "100%|██████████| 2000/2000 [00:29<00:00, 68.91it/s]\n",
      "100%|██████████| 2000/2000 [00:29<00:00, 67.84it/s]\n",
      "100%|██████████| 2000/2000 [00:28<00:00, 69.70it/s]\n",
      "100%|██████████| 2000/2000 [00:27<00:00, 72.73it/s]\n",
      "100%|██████████| 2000/2000 [01:09<00:00, 28.87it/s]\n",
      "100%|██████████| 2000/2000 [01:10<00:00, 28.38it/s]\n",
      "100%|██████████| 2000/2000 [01:06<00:00, 29.92it/s]\n",
      "100%|██████████| 2000/2000 [01:06<00:00, 29.87it/s]\n",
      "100%|██████████| 2000/2000 [01:06<00:00, 30.30it/s]\n",
      "100%|██████████| 2000/2000 [01:05<00:00, 30.48it/s]\n",
      "100%|██████████| 2000/2000 [01:04<00:00, 30.81it/s]\n",
      "100%|██████████| 2000/2000 [01:06<00:00, 30.07it/s]\n",
      "100%|██████████| 2000/2000 [01:07<00:00, 29.84it/s]\n",
      "100%|██████████| 2000/2000 [01:07<00:00, 29.80it/s]\n",
      "100%|██████████| 2000/2000 [01:19<00:00, 25.19it/s]\n",
      "100%|██████████| 2000/2000 [01:22<00:00, 24.36it/s]\n",
      "100%|██████████| 2000/2000 [01:18<00:00, 25.62it/s]\n",
      "100%|██████████| 2000/2000 [01:18<00:00, 25.34it/s]\n",
      "100%|██████████| 2000/2000 [01:18<00:00, 25.52it/s]\n",
      "100%|██████████| 2000/2000 [01:18<00:00, 25.58it/s]\n",
      "100%|██████████| 2000/2000 [01:18<00:00, 25.44it/s]\n",
      "100%|██████████| 2000/2000 [01:17<00:00, 25.72it/s]\n",
      "100%|██████████| 2000/2000 [01:18<00:00, 25.50it/s]\n",
      "100%|██████████| 2000/2000 [01:18<00:00, 25.61it/s]\n"
     ]
    },
    {
     "data": {
      "text/html": [
       "<div>\n",
       "<style scoped>\n",
       "    .dataframe tbody tr th:only-of-type {\n",
       "        vertical-align: middle;\n",
       "    }\n",
       "\n",
       "    .dataframe tbody tr th {\n",
       "        vertical-align: top;\n",
       "    }\n",
       "\n",
       "    .dataframe thead th {\n",
       "        text-align: right;\n",
       "    }\n",
       "</style>\n",
       "<table border=\"1\" class=\"dataframe\">\n",
       "  <thead>\n",
       "    <tr style=\"text-align: right;\">\n",
       "      <th></th>\n",
       "      <th>n</th>\n",
       "      <th>dirac</th>\n",
       "      <th>cost</th>\n",
       "      <th>p0</th>\n",
       "    </tr>\n",
       "  </thead>\n",
       "  <tbody>\n",
       "    <tr>\n",
       "      <th>0</th>\n",
       "      <td>5</td>\n",
       "      <td>True</td>\n",
       "      <td>2.397664</td>\n",
       "      <td>-0.959024</td>\n",
       "    </tr>\n",
       "    <tr>\n",
       "      <th>1</th>\n",
       "      <td>5</td>\n",
       "      <td>False</td>\n",
       "      <td>2.400551</td>\n",
       "      <td>-0.959801</td>\n",
       "    </tr>\n",
       "    <tr>\n",
       "      <th>2</th>\n",
       "      <td>100</td>\n",
       "      <td>True</td>\n",
       "      <td>47.857402</td>\n",
       "      <td>-0.962717</td>\n",
       "    </tr>\n",
       "    <tr>\n",
       "      <th>3</th>\n",
       "      <td>100</td>\n",
       "      <td>False</td>\n",
       "      <td>47.976060</td>\n",
       "      <td>-0.960400</td>\n",
       "    </tr>\n",
       "  </tbody>\n",
       "</table>\n",
       "</div>"
      ],
      "text/plain": [
       "     n  dirac       cost        p0\n",
       "0    5   True   2.397664 -0.959024\n",
       "1    5  False   2.400551 -0.959801\n",
       "2  100   True  47.857402 -0.962717\n",
       "3  100  False  47.976060 -0.960400"
      ]
     },
     "execution_count": 19,
     "metadata": {},
     "output_type": "execute_result"
    }
   ],
   "source": [
    "res = []\n",
    "for n in [5, 100]:\n",
    "    for dirac in [True, False]:\n",
    "        cost, p0 = solve_JiLQ(n, dirac)\n",
    "        res.append({\n",
    "            'n': n, 'dirac': dirac, 'cost': cost, 'p0': p0,\n",
    "        })\n",
    "pd.DataFrame(res)"
   ]
  },
  {
   "cell_type": "code",
   "execution_count": 11,
   "id": "12a773d0",
   "metadata": {},
   "outputs": [],
   "source": [
    "def solve_JiLQ_var(n, dirac, repeat=10):\n",
    "    r'''return cost and $p_0$.'''\n",
    "    cost, p0 = 0., 0.\n",
    "    for _ in range(repeat):\n",
    "        _solver = FBSDE_BMLSolver(FBSDE_JiLQ5_var(n=n))\n",
    "        optimizer = _solver.get_optimizer()\n",
    "        \n",
    "        _solver.ynet.train()\n",
    "        _solver.znet.train()\n",
    "        optimizer.zero_grad()\n",
    "        \n",
    "        for step in tqdm.trange(2000):\n",
    "            loss = _solver.calc_loss(dirac=dirac)\n",
    "            loss.backward()\n",
    "            optimizer.step()\n",
    "            optimizer.zero_grad()\n",
    "        \n",
    "        _solver.batch_size = 512\n",
    "        t, X, Y, Z, dW = _solver.obtain_XYZ()\n",
    "        cost += (.5 * torch.sum(X[-1], dim=-1)**2 + _solver.fbsde.dt * torch.sum(.25 * X[:-1] * X[:-1] + .25 * (Y[:-1] + Z[:-1].squeeze(-1)) * (Y[:-1] + Z[:-1].squeeze(-1)), dim=-1).sum(0)).item()\n",
    "        p0 += Y[0].mean().item()\n",
    "    return cost/repeat, p0/repeat"
   ]
  },
  {
   "cell_type": "code",
   "execution_count": 12,
   "id": "e7feb618",
   "metadata": {
    "scrolled": false
   },
   "outputs": [
    {
     "name": "stderr",
     "output_type": "stream",
     "text": [
      "100%|██████████| 2000/2000 [00:21<00:00, 94.48it/s] \n",
      "100%|██████████| 2000/2000 [00:23<00:00, 85.81it/s]\n",
      "100%|██████████| 2000/2000 [00:23<00:00, 86.43it/s]\n",
      "100%|██████████| 2000/2000 [00:23<00:00, 86.56it/s]\n",
      "100%|██████████| 2000/2000 [00:23<00:00, 85.59it/s]\n",
      "100%|██████████| 2000/2000 [00:23<00:00, 86.57it/s]\n",
      "100%|██████████| 2000/2000 [00:23<00:00, 86.55it/s]\n",
      "100%|██████████| 2000/2000 [00:23<00:00, 86.31it/s]\n",
      "100%|██████████| 2000/2000 [00:23<00:00, 85.56it/s]\n",
      "100%|██████████| 2000/2000 [00:23<00:00, 85.22it/s]\n",
      "100%|██████████| 2000/2000 [00:23<00:00, 85.20it/s]\n",
      "100%|██████████| 2000/2000 [00:23<00:00, 86.19it/s]\n",
      "100%|██████████| 2000/2000 [00:24<00:00, 82.83it/s]\n",
      "100%|██████████| 2000/2000 [00:23<00:00, 85.61it/s]\n",
      "100%|██████████| 2000/2000 [00:23<00:00, 84.32it/s]\n",
      "100%|██████████| 2000/2000 [00:23<00:00, 85.33it/s]\n",
      "100%|██████████| 2000/2000 [00:23<00:00, 86.07it/s]\n",
      "100%|██████████| 2000/2000 [00:23<00:00, 84.15it/s]\n",
      "100%|██████████| 2000/2000 [00:23<00:00, 84.73it/s]\n",
      "100%|██████████| 2000/2000 [00:23<00:00, 84.01it/s]\n",
      "100%|██████████| 2000/2000 [00:24<00:00, 80.35it/s]\n",
      "100%|██████████| 2000/2000 [00:25<00:00, 77.75it/s]\n",
      "100%|██████████| 2000/2000 [00:30<00:00, 66.43it/s]\n",
      "100%|██████████| 2000/2000 [00:27<00:00, 72.41it/s]\n",
      "100%|██████████| 2000/2000 [00:24<00:00, 80.17it/s]\n",
      "100%|██████████| 2000/2000 [00:24<00:00, 80.79it/s]\n",
      "100%|██████████| 2000/2000 [00:26<00:00, 76.66it/s]\n",
      "100%|██████████| 2000/2000 [00:26<00:00, 76.37it/s]\n",
      "100%|██████████| 2000/2000 [00:28<00:00, 71.30it/s]\n",
      "100%|██████████| 2000/2000 [00:25<00:00, 79.59it/s]\n",
      "100%|██████████| 2000/2000 [00:26<00:00, 75.59it/s]\n",
      "100%|██████████| 2000/2000 [00:25<00:00, 78.08it/s]\n",
      "100%|██████████| 2000/2000 [00:26<00:00, 76.88it/s]\n",
      "100%|██████████| 2000/2000 [00:25<00:00, 79.64it/s]\n",
      "100%|██████████| 2000/2000 [00:26<00:00, 74.90it/s]\n",
      "100%|██████████| 2000/2000 [00:25<00:00, 78.31it/s]\n",
      "100%|██████████| 2000/2000 [00:25<00:00, 77.58it/s]\n",
      "100%|██████████| 2000/2000 [00:26<00:00, 74.36it/s]\n",
      "100%|██████████| 2000/2000 [00:26<00:00, 76.81it/s]\n",
      "100%|██████████| 2000/2000 [00:27<00:00, 74.06it/s]\n",
      "100%|██████████| 2000/2000 [00:25<00:00, 78.11it/s]\n",
      "100%|██████████| 2000/2000 [00:27<00:00, 73.89it/s]\n",
      "100%|██████████| 2000/2000 [00:26<00:00, 76.52it/s]\n",
      "100%|██████████| 2000/2000 [00:26<00:00, 74.54it/s]\n",
      "100%|██████████| 2000/2000 [00:26<00:00, 76.48it/s]\n",
      "100%|██████████| 2000/2000 [00:26<00:00, 75.63it/s]\n",
      "100%|██████████| 2000/2000 [00:28<00:00, 69.09it/s]\n",
      "100%|██████████| 2000/2000 [00:27<00:00, 72.51it/s]\n",
      "100%|██████████| 2000/2000 [00:27<00:00, 73.76it/s]\n",
      "100%|██████████| 2000/2000 [00:28<00:00, 69.87it/s]\n",
      "100%|██████████| 2000/2000 [00:27<00:00, 72.45it/s]\n",
      "100%|██████████| 2000/2000 [00:29<00:00, 67.69it/s]\n",
      "100%|██████████| 2000/2000 [00:29<00:00, 67.08it/s]\n",
      "100%|██████████| 2000/2000 [00:27<00:00, 71.50it/s]\n",
      "100%|██████████| 2000/2000 [00:29<00:00, 68.57it/s]\n",
      "100%|██████████| 2000/2000 [00:28<00:00, 69.29it/s]\n",
      "100%|██████████| 2000/2000 [00:29<00:00, 68.46it/s]\n",
      "100%|██████████| 2000/2000 [00:28<00:00, 69.52it/s]\n",
      "100%|██████████| 2000/2000 [00:29<00:00, 68.15it/s]\n",
      "100%|██████████| 2000/2000 [00:28<00:00, 69.97it/s]\n",
      "100%|██████████| 2000/2000 [00:29<00:00, 68.05it/s]\n",
      "100%|██████████| 2000/2000 [00:29<00:00, 68.30it/s]\n",
      "100%|██████████| 2000/2000 [00:30<00:00, 65.17it/s]\n",
      "100%|██████████| 2000/2000 [00:29<00:00, 67.49it/s]\n",
      "100%|██████████| 2000/2000 [00:29<00:00, 68.29it/s]\n",
      "100%|██████████| 2000/2000 [00:29<00:00, 68.83it/s]\n",
      "100%|██████████| 2000/2000 [00:28<00:00, 69.00it/s]\n",
      "100%|██████████| 2000/2000 [00:30<00:00, 66.31it/s]\n",
      "100%|██████████| 2000/2000 [00:28<00:00, 69.04it/s]\n",
      "100%|██████████| 2000/2000 [00:29<00:00, 68.48it/s]\n",
      "100%|██████████| 2000/2000 [00:33<00:00, 59.49it/s]\n",
      "100%|██████████| 2000/2000 [00:30<00:00, 65.45it/s]\n",
      "100%|██████████| 2000/2000 [00:31<00:00, 63.47it/s]\n",
      "100%|██████████| 2000/2000 [00:32<00:00, 61.36it/s]\n",
      "100%|██████████| 2000/2000 [00:32<00:00, 62.29it/s]\n",
      "100%|██████████| 2000/2000 [00:30<00:00, 65.12it/s]\n",
      "100%|██████████| 2000/2000 [00:32<00:00, 62.07it/s]\n",
      "100%|██████████| 2000/2000 [00:30<00:00, 65.20it/s]\n",
      "100%|██████████| 2000/2000 [00:30<00:00, 65.01it/s]\n",
      "100%|██████████| 2000/2000 [00:30<00:00, 65.24it/s]\n",
      "100%|██████████| 2000/2000 [00:36<00:00, 54.30it/s]\n",
      "100%|██████████| 2000/2000 [00:36<00:00, 54.55it/s]\n",
      "100%|██████████| 2000/2000 [00:35<00:00, 57.09it/s]\n",
      "100%|██████████| 2000/2000 [00:33<00:00, 58.93it/s]\n",
      "100%|██████████| 2000/2000 [00:33<00:00, 58.94it/s]\n",
      "100%|██████████| 2000/2000 [00:33<00:00, 58.93it/s]\n",
      "100%|██████████| 2000/2000 [00:34<00:00, 58.42it/s]\n",
      "100%|██████████| 2000/2000 [00:33<00:00, 60.00it/s]\n",
      "100%|██████████| 2000/2000 [00:33<00:00, 58.87it/s]\n",
      "100%|██████████| 2000/2000 [00:32<00:00, 61.00it/s]\n",
      "100%|██████████| 2000/2000 [00:38<00:00, 52.20it/s]\n",
      "100%|██████████| 2000/2000 [00:38<00:00, 52.23it/s]\n",
      "100%|██████████| 2000/2000 [00:39<00:00, 50.45it/s]\n",
      "100%|██████████| 2000/2000 [00:39<00:00, 50.54it/s]\n",
      "100%|██████████| 2000/2000 [00:36<00:00, 54.13it/s]\n",
      "100%|██████████| 2000/2000 [00:37<00:00, 53.07it/s]\n",
      "100%|██████████| 2000/2000 [00:39<00:00, 50.80it/s]\n",
      "100%|██████████| 2000/2000 [00:39<00:00, 50.57it/s]\n",
      "100%|██████████| 2000/2000 [00:36<00:00, 54.06it/s]\n",
      "100%|██████████| 2000/2000 [00:37<00:00, 53.79it/s]\n"
     ]
    },
    {
     "data": {
      "text/html": [
       "<div>\n",
       "<style scoped>\n",
       "    .dataframe tbody tr th:only-of-type {\n",
       "        vertical-align: middle;\n",
       "    }\n",
       "\n",
       "    .dataframe tbody tr th {\n",
       "        vertical-align: top;\n",
       "    }\n",
       "\n",
       "    .dataframe thead th {\n",
       "        text-align: right;\n",
       "    }\n",
       "</style>\n",
       "<table border=\"1\" class=\"dataframe\">\n",
       "  <thead>\n",
       "    <tr style=\"text-align: right;\">\n",
       "      <th></th>\n",
       "      <th>n</th>\n",
       "      <th>dirac</th>\n",
       "      <th>cost</th>\n",
       "      <th>p0</th>\n",
       "    </tr>\n",
       "  </thead>\n",
       "  <tbody>\n",
       "    <tr>\n",
       "      <th>0</th>\n",
       "      <td>1</td>\n",
       "      <td>True</td>\n",
       "      <td>[tensor(0.4646, dtype=torch.float64, grad_fn=&lt;...</td>\n",
       "      <td>-0.957968</td>\n",
       "    </tr>\n",
       "    <tr>\n",
       "      <th>1</th>\n",
       "      <td>1</td>\n",
       "      <td>False</td>\n",
       "      <td>[tensor(0.4708, dtype=torch.float64, grad_fn=&lt;...</td>\n",
       "      <td>-0.959370</td>\n",
       "    </tr>\n",
       "    <tr>\n",
       "      <th>2</th>\n",
       "      <td>2</td>\n",
       "      <td>True</td>\n",
       "      <td>[tensor(1.7715, dtype=torch.float64, grad_fn=&lt;...</td>\n",
       "      <td>-1.830904</td>\n",
       "    </tr>\n",
       "    <tr>\n",
       "      <th>3</th>\n",
       "      <td>2</td>\n",
       "      <td>False</td>\n",
       "      <td>[tensor(1.6867, dtype=torch.float64, grad_fn=&lt;...</td>\n",
       "      <td>-1.834013</td>\n",
       "    </tr>\n",
       "    <tr>\n",
       "      <th>4</th>\n",
       "      <td>5</td>\n",
       "      <td>True</td>\n",
       "      <td>[tensor(10.1279, dtype=torch.float64, grad_fn=...</td>\n",
       "      <td>-4.387492</td>\n",
       "    </tr>\n",
       "    <tr>\n",
       "      <th>5</th>\n",
       "      <td>5</td>\n",
       "      <td>False</td>\n",
       "      <td>[tensor(11.0663, dtype=torch.float64, grad_fn=...</td>\n",
       "      <td>-4.388627</td>\n",
       "    </tr>\n",
       "    <tr>\n",
       "      <th>6</th>\n",
       "      <td>10</td>\n",
       "      <td>True</td>\n",
       "      <td>[tensor(33.3872, dtype=torch.float64, grad_fn=...</td>\n",
       "      <td>-8.598196</td>\n",
       "    </tr>\n",
       "    <tr>\n",
       "      <th>7</th>\n",
       "      <td>10</td>\n",
       "      <td>False</td>\n",
       "      <td>[tensor(40.4417, dtype=torch.float64, grad_fn=...</td>\n",
       "      <td>-8.566379</td>\n",
       "    </tr>\n",
       "    <tr>\n",
       "      <th>8</th>\n",
       "      <td>20</td>\n",
       "      <td>True</td>\n",
       "      <td>[tensor(163.2705, dtype=torch.float64, grad_fn...</td>\n",
       "      <td>-16.985346</td>\n",
       "    </tr>\n",
       "    <tr>\n",
       "      <th>9</th>\n",
       "      <td>20</td>\n",
       "      <td>False</td>\n",
       "      <td>[tensor(182.2768, dtype=torch.float64, grad_fn...</td>\n",
       "      <td>-17.109632</td>\n",
       "    </tr>\n",
       "  </tbody>\n",
       "</table>\n",
       "</div>"
      ],
      "text/plain": [
       "    n  dirac                                               cost         p0\n",
       "0   1   True  [tensor(0.4646, dtype=torch.float64, grad_fn=<...  -0.957968\n",
       "1   1  False  [tensor(0.4708, dtype=torch.float64, grad_fn=<...  -0.959370\n",
       "2   2   True  [tensor(1.7715, dtype=torch.float64, grad_fn=<...  -1.830904\n",
       "3   2  False  [tensor(1.6867, dtype=torch.float64, grad_fn=<...  -1.834013\n",
       "4   5   True  [tensor(10.1279, dtype=torch.float64, grad_fn=...  -4.387492\n",
       "5   5  False  [tensor(11.0663, dtype=torch.float64, grad_fn=...  -4.388627\n",
       "6  10   True  [tensor(33.3872, dtype=torch.float64, grad_fn=...  -8.598196\n",
       "7  10  False  [tensor(40.4417, dtype=torch.float64, grad_fn=...  -8.566379\n",
       "8  20   True  [tensor(163.2705, dtype=torch.float64, grad_fn... -16.985346\n",
       "9  20  False  [tensor(182.2768, dtype=torch.float64, grad_fn... -17.109632"
      ]
     },
     "execution_count": 12,
     "metadata": {},
     "output_type": "execute_result"
    }
   ],
   "source": [
    "res = []\n",
    "for n in [1, 2, 5, 10, 20]:\n",
    "    for dirac in [True, False]:\n",
    "        cost, p0 = solve_JiLQ_var(n, dirac)\n",
    "        res.append({\n",
    "            'n': n, 'dirac': dirac, 'cost': cost, 'p0': p0,\n",
    "        })\n",
    "pd.DataFrame(res)"
   ]
  }
 ],
 "metadata": {
  "kernelspec": {
   "display_name": "Python 3 (ipykernel)",
   "language": "python",
   "name": "python3"
  },
  "language_info": {
   "codemirror_mode": {
    "name": "ipython",
    "version": 3
   },
   "file_extension": ".py",
   "mimetype": "text/x-python",
   "name": "python",
   "nbconvert_exporter": "python",
   "pygments_lexer": "ipython3",
   "version": "3.10.6"
  },
  "toc": {
   "base_numbering": 1,
   "nav_menu": {},
   "number_sections": false,
   "sideBar": true,
   "skip_h1_title": false,
   "title_cell": "Table of Contents",
   "title_sidebar": "Contents",
   "toc_cell": false,
   "toc_position": {},
   "toc_section_display": true,
   "toc_window_display": true
  }
 },
 "nbformat": 4,
 "nbformat_minor": 5
}
